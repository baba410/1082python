{
  "nbformat": 4,
  "nbformat_minor": 0,
  "metadata": {
    "colab": {
      "name": "0428.ipynb",
      "provenance": []
    },
    "kernelspec": {
      "name": "python3",
      "display_name": "Python 3"
    }
  },
  "cells": [
    {
      "cell_type": "code",
      "metadata": {
        "id": "WsX2VDp0hquV",
        "colab_type": "code",
        "colab": {}
      },
      "source": [
        "%matplotlib inline\n",
        "import numpy as np\n",
        "import matplotlib.pyplot as plt\n",
        "import pandas as pd"
      ],
      "execution_count": 0,
      "outputs": []
    },
    {
      "cell_type": "code",
      "metadata": {
        "id": "sqX0gG-bhvV0",
        "colab_type": "code",
        "colab": {}
      },
      "source": [
        "from tensorflow.keras.preprocessing import sequence\n",
        "from tensorflow.keras.models import Sequential\n",
        "from tensorflow.keras.layers import Dense, Embedding\n",
        "from tensorflow.keras.layers import LSTM\n",
        "from tensorflow.keras.datasets import imdb"
      ],
      "execution_count": 0,
      "outputs": []
    },
    {
      "cell_type": "code",
      "metadata": {
        "id": "1BeAk6aBh2a8",
        "colab_type": "code",
        "colab": {
          "base_uri": "https://localhost:8080/",
          "height": 50
        },
        "outputId": "c1d860c1-da50-4baf-eca5-e36ed7ed255f"
      },
      "source": [
        "##讀入數據\n",
        "(x_train, y_train), (x_test, y_test) = imdb.load_data(num_words=10000)"
      ],
      "execution_count": 4,
      "outputs": [
        {
          "output_type": "stream",
          "text": [
            "Downloading data from https://storage.googleapis.com/tensorflow/tf-keras-datasets/imdb.npz\n",
            "17465344/17464789 [==============================] - 0s 0us/step\n"
          ],
          "name": "stdout"
        }
      ]
    },
    {
      "cell_type": "code",
      "metadata": {
        "id": "O9HQHZnbh8r4",
        "colab_type": "code",
        "colab": {
          "base_uri": "https://localhost:8080/",
          "height": 34
        },
        "outputId": "a9debf68-7355-4009-db86-6b5470e92548"
      },
      "source": [
        "len(x_train)"
      ],
      "execution_count": 5,
      "outputs": [
        {
          "output_type": "execute_result",
          "data": {
            "text/plain": [
              "25000"
            ]
          },
          "metadata": {
            "tags": []
          },
          "execution_count": 5
        }
      ]
    },
    {
      "cell_type": "code",
      "metadata": {
        "id": "Yq_8SIW5h-q8",
        "colab_type": "code",
        "colab": {
          "base_uri": "https://localhost:8080/",
          "height": 34
        },
        "outputId": "44905c99-47cd-42fa-b4b3-5d8dadd701f1"
      },
      "source": [
        "len(x_test)"
      ],
      "execution_count": 6,
      "outputs": [
        {
          "output_type": "execute_result",
          "data": {
            "text/plain": [
              "25000"
            ]
          },
          "metadata": {
            "tags": []
          },
          "execution_count": 6
        }
      ]
    },
    {
      "cell_type": "code",
      "metadata": {
        "id": "fCjnebC6iDVL",
        "colab_type": "code",
        "colab": {
          "base_uri": "https://localhost:8080/",
          "height": 34
        },
        "outputId": "c66a289d-b23e-4fe4-e6d0-0123c574b090"
      },
      "source": [
        "len(x_train[0])"
      ],
      "execution_count": 7,
      "outputs": [
        {
          "output_type": "execute_result",
          "data": {
            "text/plain": [
              "218"
            ]
          },
          "metadata": {
            "tags": []
          },
          "execution_count": 7
        }
      ]
    },
    {
      "cell_type": "code",
      "metadata": {
        "id": "VXWv-8uHiFa-",
        "colab_type": "code",
        "colab": {
          "base_uri": "https://localhost:8080/",
          "height": 34
        },
        "outputId": "a8e541a5-67c5-4a41-f3ea-e1010114e288"
      },
      "source": [
        "len(x_train[1])"
      ],
      "execution_count": 8,
      "outputs": [
        {
          "output_type": "execute_result",
          "data": {
            "text/plain": [
              "189"
            ]
          },
          "metadata": {
            "tags": []
          },
          "execution_count": 8
        }
      ]
    },
    {
      "cell_type": "code",
      "metadata": {
        "id": "YDBbr16BiIcM",
        "colab_type": "code",
        "colab": {
          "base_uri": "https://localhost:8080/",
          "height": 34
        },
        "outputId": "a14ad8ac-eedf-4bff-8261-140cdc3196b1"
      },
      "source": [
        "y_train[0]"
      ],
      "execution_count": 9,
      "outputs": [
        {
          "output_type": "execute_result",
          "data": {
            "text/plain": [
              "1"
            ]
          },
          "metadata": {
            "tags": []
          },
          "execution_count": 9
        }
      ]
    },
    {
      "cell_type": "code",
      "metadata": {
        "id": "Hnpkn-eoiL9R",
        "colab_type": "code",
        "colab": {
          "base_uri": "https://localhost:8080/",
          "height": 34
        },
        "outputId": "4b67dc83-cc9c-4852-bc72-bfb3cf6e8658"
      },
      "source": [
        "y_train[1]"
      ],
      "execution_count": 10,
      "outputs": [
        {
          "output_type": "execute_result",
          "data": {
            "text/plain": [
              "0"
            ]
          },
          "metadata": {
            "tags": []
          },
          "execution_count": 10
        }
      ]
    },
    {
      "cell_type": "code",
      "metadata": {
        "id": "qiPOj0LPiNwL",
        "colab_type": "code",
        "colab": {}
      },
      "source": [
        "##資料整理\n",
        "x_train = sequence.pad_sequences(x_train, maxlen=100)\n",
        "x_test = sequence.pad_sequences(x_test, maxlen=100)"
      ],
      "execution_count": 0,
      "outputs": []
    },
    {
      "cell_type": "code",
      "metadata": {
        "id": "VLCquvsHiVna",
        "colab_type": "code",
        "colab": {}
      },
      "source": [
        "model = Sequential()"
      ],
      "execution_count": 0,
      "outputs": []
    },
    {
      "cell_type": "code",
      "metadata": {
        "id": "XCGGeDG3iX5B",
        "colab_type": "code",
        "colab": {}
      },
      "source": [
        "model.add(Embedding(10000, 128))"
      ],
      "execution_count": 0,
      "outputs": []
    },
    {
      "cell_type": "code",
      "metadata": {
        "id": "b-kkrf1ViZ06",
        "colab_type": "code",
        "colab": {}
      },
      "source": [
        "model.add(LSTM(128, dropout=0.2, recurrent_dropout=0.2))"
      ],
      "execution_count": 0,
      "outputs": []
    },
    {
      "cell_type": "code",
      "metadata": {
        "id": "YVlBSKLpicbq",
        "colab_type": "code",
        "colab": {}
      },
      "source": [
        "model.add(Dense(1, activation='sigmoid'))"
      ],
      "execution_count": 0,
      "outputs": []
    },
    {
      "cell_type": "code",
      "metadata": {
        "id": "qNnELqwIidXN",
        "colab_type": "code",
        "colab": {}
      },
      "source": [
        "model.compile(loss='binary_crossentropy',\n",
        "             optimizer='adam',\n",
        "             metrics=['accuracy'])"
      ],
      "execution_count": 0,
      "outputs": []
    },
    {
      "cell_type": "code",
      "metadata": {
        "id": "FSCoNUN9ieUK",
        "colab_type": "code",
        "colab": {
          "base_uri": "https://localhost:8080/",
          "height": 252
        },
        "outputId": "5faad063-88e6-44da-8c19-6f04338b55b6"
      },
      "source": [
        "model.summary()"
      ],
      "execution_count": 17,
      "outputs": [
        {
          "output_type": "stream",
          "text": [
            "Model: \"sequential\"\n",
            "_________________________________________________________________\n",
            "Layer (type)                 Output Shape              Param #   \n",
            "=================================================================\n",
            "embedding (Embedding)        (None, None, 128)         1280000   \n",
            "_________________________________________________________________\n",
            "lstm (LSTM)                  (None, 128)               131584    \n",
            "_________________________________________________________________\n",
            "dense (Dense)                (None, 1)                 129       \n",
            "=================================================================\n",
            "Total params: 1,411,713\n",
            "Trainable params: 1,411,713\n",
            "Non-trainable params: 0\n",
            "_________________________________________________________________\n"
          ],
          "name": "stdout"
        }
      ]
    },
    {
      "cell_type": "code",
      "metadata": {
        "id": "s6-9cCPbigab",
        "colab_type": "code",
        "colab": {
          "base_uri": "https://localhost:8080/",
          "height": 370
        },
        "outputId": "b8bf0a80-6321-4f91-c970-daaa3b84f7fb"
      },
      "source": [
        "##FIT\n",
        "model.fit(x_train, y_train, batch_size=32, epochs=10,\n",
        "         validation_data=(x_test, y_test))"
      ],
      "execution_count": 18,
      "outputs": [
        {
          "output_type": "stream",
          "text": [
            "Epoch 1/10\n",
            "782/782 [==============================] - 257s 328ms/step - loss: 0.4226 - accuracy: 0.8061 - val_loss: 0.3871 - val_accuracy: 0.8334\n",
            "Epoch 2/10\n",
            "782/782 [==============================] - 256s 327ms/step - loss: 0.2731 - accuracy: 0.8899 - val_loss: 0.3495 - val_accuracy: 0.8502\n",
            "Epoch 3/10\n",
            "782/782 [==============================] - 256s 327ms/step - loss: 0.1979 - accuracy: 0.9249 - val_loss: 0.3918 - val_accuracy: 0.8418\n",
            "Epoch 4/10\n",
            "782/782 [==============================] - 255s 327ms/step - loss: 0.1486 - accuracy: 0.9443 - val_loss: 0.4393 - val_accuracy: 0.8333\n",
            "Epoch 5/10\n",
            "782/782 [==============================] - 256s 328ms/step - loss: 0.1152 - accuracy: 0.9589 - val_loss: 0.5222 - val_accuracy: 0.8371\n",
            "Epoch 6/10\n",
            "782/782 [==============================] - 256s 327ms/step - loss: 0.0914 - accuracy: 0.9677 - val_loss: 0.5884 - val_accuracy: 0.8359\n",
            "Epoch 7/10\n",
            "782/782 [==============================] - 256s 327ms/step - loss: 0.0651 - accuracy: 0.9780 - val_loss: 0.6762 - val_accuracy: 0.8330\n",
            "Epoch 8/10\n",
            "782/782 [==============================] - 257s 328ms/step - loss: 0.0498 - accuracy: 0.9839 - val_loss: 0.6873 - val_accuracy: 0.8312\n",
            "Epoch 9/10\n",
            "782/782 [==============================] - 257s 329ms/step - loss: 0.0473 - accuracy: 0.9839 - val_loss: 0.7386 - val_accuracy: 0.8280\n",
            "Epoch 10/10\n",
            "782/782 [==============================] - 257s 328ms/step - loss: 0.0348 - accuracy: 0.9893 - val_loss: 0.7479 - val_accuracy: 0.8280\n"
          ],
          "name": "stdout"
        },
        {
          "output_type": "execute_result",
          "data": {
            "text/plain": [
              "<tensorflow.python.keras.callbacks.History at 0x7f489dae3550>"
            ]
          },
          "metadata": {
            "tags": []
          },
          "execution_count": 18
        }
      ]
    },
    {
      "cell_type": "code",
      "metadata": {
        "id": "6DAoKNZ1jsMO",
        "colab_type": "code",
        "colab": {
          "base_uri": "https://localhost:8080/",
          "height": 252
        },
        "outputId": "56b73d47-f8e5-4f9e-9d65-d9e52032537e"
      },
      "source": [
        "##之後將maxlen改為200\n",
        "##LSTM改256 dropout0.1,recurrent_dropout0.1\n",
        "##batch_size改64,epochs改12試試看\n",
        "x_train = sequence.pad_sequences(x_train, maxlen=200)\n",
        "x_test = sequence.pad_sequences(x_test, maxlen=200)\n",
        "model = Sequential()\n",
        "model.add(Embedding(10000, 128))\n",
        "model.add(LSTM(256, dropout=0.1, recurrent_dropout=0.1))\n",
        "model.add(Dense(1, activation='sigmoid'))\n",
        "model.compile(loss='binary_crossentropy',\n",
        "             optimizer='adam',\n",
        "             metrics=['accuracy'])\n",
        "model.summary()"
      ],
      "execution_count": 19,
      "outputs": [
        {
          "output_type": "stream",
          "text": [
            "Model: \"sequential_1\"\n",
            "_________________________________________________________________\n",
            "Layer (type)                 Output Shape              Param #   \n",
            "=================================================================\n",
            "embedding_1 (Embedding)      (None, None, 128)         1280000   \n",
            "_________________________________________________________________\n",
            "lstm_1 (LSTM)                (None, 256)               394240    \n",
            "_________________________________________________________________\n",
            "dense_1 (Dense)              (None, 1)                 257       \n",
            "=================================================================\n",
            "Total params: 1,674,497\n",
            "Trainable params: 1,674,497\n",
            "Non-trainable params: 0\n",
            "_________________________________________________________________\n"
          ],
          "name": "stdout"
        }
      ]
    },
    {
      "cell_type": "code",
      "metadata": {
        "id": "Mcm3YsD1iiKY",
        "colab_type": "code",
        "colab": {
          "base_uri": "https://localhost:8080/",
          "height": 437
        },
        "outputId": "7f5940b0-bc4a-4b4b-f520-b61b6cc9c0aa"
      },
      "source": [
        "model.fit(x_train, y_train, batch_size=64, epochs=12,\n",
        "         validation_data=(x_test, y_test))"
      ],
      "execution_count": 20,
      "outputs": [
        {
          "output_type": "stream",
          "text": [
            "Epoch 1/12\n",
            "391/391 [==============================] - 940s 2s/step - loss: 0.4641 - accuracy: 0.7800 - val_loss: 0.4040 - val_accuracy: 0.8166\n",
            "Epoch 2/12\n",
            "391/391 [==============================] - 954s 2s/step - loss: 0.2814 - accuracy: 0.8856 - val_loss: 0.3530 - val_accuracy: 0.8465\n",
            "Epoch 3/12\n",
            "391/391 [==============================] - 949s 2s/step - loss: 0.2020 - accuracy: 0.9236 - val_loss: 0.3839 - val_accuracy: 0.8422\n",
            "Epoch 4/12\n",
            "391/391 [==============================] - 951s 2s/step - loss: 0.1519 - accuracy: 0.9430 - val_loss: 0.4413 - val_accuracy: 0.8310\n",
            "Epoch 5/12\n",
            "391/391 [==============================] - 953s 2s/step - loss: 0.1112 - accuracy: 0.9591 - val_loss: 0.4917 - val_accuracy: 0.8226\n",
            "Epoch 6/12\n",
            "391/391 [==============================] - 937s 2s/step - loss: 0.0827 - accuracy: 0.9702 - val_loss: 0.7103 - val_accuracy: 0.8330\n",
            "Epoch 7/12\n",
            "391/391 [==============================] - 955s 2s/step - loss: 0.0659 - accuracy: 0.9772 - val_loss: 0.7024 - val_accuracy: 0.8317\n",
            "Epoch 8/12\n",
            "391/391 [==============================] - 944s 2s/step - loss: 0.0543 - accuracy: 0.9814 - val_loss: 0.6839 - val_accuracy: 0.8327\n",
            "Epoch 9/12\n",
            "391/391 [==============================] - 938s 2s/step - loss: 0.0452 - accuracy: 0.9845 - val_loss: 0.8619 - val_accuracy: 0.8247\n",
            "Epoch 10/12\n",
            "391/391 [==============================] - 943s 2s/step - loss: 0.0342 - accuracy: 0.9893 - val_loss: 0.8192 - val_accuracy: 0.8238\n",
            "Epoch 11/12\n",
            "391/391 [==============================] - 948s 2s/step - loss: 0.0360 - accuracy: 0.9894 - val_loss: 0.9860 - val_accuracy: 0.8231\n",
            "Epoch 12/12\n",
            "391/391 [==============================] - 940s 2s/step - loss: 0.0225 - accuracy: 0.9927 - val_loss: 0.8973 - val_accuracy: 0.8260\n"
          ],
          "name": "stdout"
        },
        {
          "output_type": "execute_result",
          "data": {
            "text/plain": [
              "<tensorflow.python.keras.callbacks.History at 0x7f489e83b1d0>"
            ]
          },
          "metadata": {
            "tags": []
          },
          "execution_count": 20
        }
      ]
    },
    {
      "cell_type": "code",
      "metadata": {
        "id": "DZNWhCtowNA3",
        "colab_type": "code",
        "colab": {}
      },
      "source": [
        ""
      ],
      "execution_count": 0,
      "outputs": []
    }
  ]
}