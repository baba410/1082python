{
  "nbformat": 4,
  "nbformat_minor": 0,
  "metadata": {
    "colab": {
      "name": "Untitled4.ipynb",
      "provenance": []
    },
    "kernelspec": {
      "name": "python3",
      "display_name": "Python 3"
    }
  },
  "cells": [
    {
      "cell_type": "code",
      "metadata": {
        "id": "LQOIc5V9FEeW",
        "colab_type": "code",
        "colab": {}
      },
      "source": [
        "%matplotlib inline\n",
        "\n",
        "import numpy as np\n",
        "import matplotlib.pyplot as plt\n",
        "import pandas as pd\n",
        "\n",
        "%tensorflow_version 2.x"
      ],
      "execution_count": 0,
      "outputs": []
    },
    {
      "cell_type": "code",
      "metadata": {
        "id": "rbhtOwDaFQvE",
        "colab_type": "code",
        "colab": {
          "base_uri": "https://localhost:8080/",
          "height": 151
        },
        "outputId": "4db84792-d732-4d17-e6be-5cb7d92128c9"
      },
      "source": [
        "from tensorflow.keras.datasets import fashion_mnist\n",
        "(x_train, y_train), (x_test, y_test) = fashion_mnist.load_data()"
      ],
      "execution_count": 2,
      "outputs": [
        {
          "output_type": "stream",
          "text": [
            "Downloading data from https://storage.googleapis.com/tensorflow/tf-keras-datasets/train-labels-idx1-ubyte.gz\n",
            "32768/29515 [=================================] - 0s 0us/step\n",
            "Downloading data from https://storage.googleapis.com/tensorflow/tf-keras-datasets/train-images-idx3-ubyte.gz\n",
            "26427392/26421880 [==============================] - 0s 0us/step\n",
            "Downloading data from https://storage.googleapis.com/tensorflow/tf-keras-datasets/t10k-labels-idx1-ubyte.gz\n",
            "8192/5148 [===============================================] - 0s 0us/step\n",
            "Downloading data from https://storage.googleapis.com/tensorflow/tf-keras-datasets/t10k-images-idx3-ubyte.gz\n",
            "4423680/4422102 [==============================] - 0s 0us/step\n"
          ],
          "name": "stdout"
        }
      ]
    },
    {
      "cell_type": "code",
      "metadata": {
        "id": "uaIdTFrhFUpz",
        "colab_type": "code",
        "colab": {}
      },
      "source": [
        "class_names = ['T-shirt/top', 'Trouser', 'Pullover', 'Dress', 'Coat',\n",
        "               'Sandal', 'Shirt', 'Sneaker', 'Bag', 'Ankle boot']"
      ],
      "execution_count": 0,
      "outputs": []
    },
    {
      "cell_type": "code",
      "metadata": {
        "id": "8-jSMSh5FmON",
        "colab_type": "code",
        "colab": {}
      },
      "source": [
        "##查看X_train型態"
      ],
      "execution_count": 0,
      "outputs": []
    },
    {
      "cell_type": "code",
      "metadata": {
        "id": "iYr8w6x5FeoJ",
        "colab_type": "code",
        "colab": {
          "base_uri": "https://localhost:8080/",
          "height": 34
        },
        "outputId": "0bfce1cd-773b-44bd-d038-dbf6d28b9d22"
      },
      "source": [
        "x_train.shape"
      ],
      "execution_count": 4,
      "outputs": [
        {
          "output_type": "execute_result",
          "data": {
            "text/plain": [
              "(60000, 28, 28)"
            ]
          },
          "metadata": {
            "tags": []
          },
          "execution_count": 4
        }
      ]
    },
    {
      "cell_type": "code",
      "metadata": {
        "id": "pXQ-LCpAFh-Y",
        "colab_type": "code",
        "colab": {
          "base_uri": "https://localhost:8080/",
          "height": 34
        },
        "outputId": "f5e317ca-3c13-45cc-cd93-b770060793f2"
      },
      "source": [
        "len(x_train)"
      ],
      "execution_count": 5,
      "outputs": [
        {
          "output_type": "execute_result",
          "data": {
            "text/plain": [
              "60000"
            ]
          },
          "metadata": {
            "tags": []
          },
          "execution_count": 5
        }
      ]
    },
    {
      "cell_type": "code",
      "metadata": {
        "id": "y3gAX0ZwFid1",
        "colab_type": "code",
        "colab": {}
      },
      "source": [
        "##資料格式轉化"
      ],
      "execution_count": 0,
      "outputs": []
    },
    {
      "cell_type": "code",
      "metadata": {
        "id": "nH1d8E1CGVeW",
        "colab_type": "code",
        "colab": {}
      },
      "source": [
        "from tensorflow.keras.utils import to_categorical"
      ],
      "execution_count": 0,
      "outputs": []
    },
    {
      "cell_type": "code",
      "metadata": {
        "id": "gGIsiGDJGKzT",
        "colab_type": "code",
        "colab": {}
      },
      "source": [
        "x_train = x_train.reshape(60000,28,28,1) / 255\n",
        "x_test = x_test.reshape(10000,28,28,1) / 255"
      ],
      "execution_count": 0,
      "outputs": []
    },
    {
      "cell_type": "code",
      "metadata": {
        "id": "eJT2gjq7GWP3",
        "colab_type": "code",
        "colab": {}
      },
      "source": [
        "y_train = to_categorical(y_train, 10)\n",
        "y_test = to_categorical(y_test, 10)"
      ],
      "execution_count": 0,
      "outputs": []
    },
    {
      "cell_type": "code",
      "metadata": {
        "id": "xwO52FwJGdU_",
        "colab_type": "code",
        "colab": {}
      },
      "source": [
        "##讀入函式"
      ],
      "execution_count": 0,
      "outputs": []
    },
    {
      "cell_type": "code",
      "metadata": {
        "id": "rb7BLkzYGnEj",
        "colab_type": "code",
        "colab": {}
      },
      "source": [
        "from tensorflow.keras.models import Sequential\n",
        "from tensorflow.keras.layers import Conv2D, MaxPooling2D\n",
        "from tensorflow.keras.layers import Dense, Flatten\n",
        "from tensorflow.keras.optimizers import SGD"
      ],
      "execution_count": 0,
      "outputs": []
    },
    {
      "cell_type": "code",
      "metadata": {
        "id": "In8crdzjGqaj",
        "colab_type": "code",
        "colab": {}
      },
      "source": [
        "##打造CNN學習機"
      ],
      "execution_count": 0,
      "outputs": []
    },
    {
      "cell_type": "code",
      "metadata": {
        "id": "X1OKad0JGyoJ",
        "colab_type": "code",
        "colab": {}
      },
      "source": [
        "model = Sequential()"
      ],
      "execution_count": 0,
      "outputs": []
    },
    {
      "cell_type": "code",
      "metadata": {
        "id": "AUPW1GxMG98J",
        "colab_type": "code",
        "colab": {}
      },
      "source": [
        "model.add(Conv2D(8, (3,3), padding='same',\n",
        "                input_shape=(28,28,1),\n",
        "                activation='relu'))\n",
        "model.add(MaxPooling2D(pool_size=(2,2)))\n",
        "model.add(Conv2D(16, (3,3), padding='same',\n",
        "                activation='relu'))\n",
        "model.add(MaxPooling2D(pool_size=(2,2)))\n",
        "model.add(Conv2D(32, (3,3), padding='same',\n",
        "                activation='relu'))\n",
        "model.add(MaxPooling2D(pool_size=(2,2)))\n",
        "model.add(Flatten())\n",
        "model.add(Dense(35, activation='relu'))\n",
        "model.add(Dense(10, activation='softmax'))"
      ],
      "execution_count": 0,
      "outputs": []
    },
    {
      "cell_type": "code",
      "metadata": {
        "id": "uexaJZltHBU8",
        "colab_type": "code",
        "colab": {
          "base_uri": "https://localhost:8080/",
          "height": 454
        },
        "outputId": "66def516-b9f6-4d18-e14b-4f04d7bed11f"
      },
      "source": [
        "model.summary()"
      ],
      "execution_count": 17,
      "outputs": [
        {
          "output_type": "stream",
          "text": [
            "Model: \"sequential\"\n",
            "_________________________________________________________________\n",
            "Layer (type)                 Output Shape              Param #   \n",
            "=================================================================\n",
            "conv2d (Conv2D)              (None, 28, 28, 8)         80        \n",
            "_________________________________________________________________\n",
            "max_pooling2d (MaxPooling2D) (None, 14, 14, 8)         0         \n",
            "_________________________________________________________________\n",
            "conv2d_1 (Conv2D)            (None, 14, 14, 16)        1168      \n",
            "_________________________________________________________________\n",
            "max_pooling2d_1 (MaxPooling2 (None, 7, 7, 16)          0         \n",
            "_________________________________________________________________\n",
            "conv2d_2 (Conv2D)            (None, 7, 7, 32)          4640      \n",
            "_________________________________________________________________\n",
            "max_pooling2d_2 (MaxPooling2 (None, 3, 3, 32)          0         \n",
            "_________________________________________________________________\n",
            "flatten (Flatten)            (None, 288)               0         \n",
            "_________________________________________________________________\n",
            "dense (Dense)                (None, 35)                10115     \n",
            "_________________________________________________________________\n",
            "dense_1 (Dense)              (None, 10)                360       \n",
            "=================================================================\n",
            "Total params: 16,363\n",
            "Trainable params: 16,363\n",
            "Non-trainable params: 0\n",
            "_________________________________________________________________\n"
          ],
          "name": "stdout"
        }
      ]
    },
    {
      "cell_type": "code",
      "metadata": {
        "id": "Zaz9vC7mHDZf",
        "colab_type": "code",
        "colab": {}
      },
      "source": [
        "model.compile(loss=\"mse\",optimizer=SGD(lr=0.076),metrics=[\"accuracy\"])"
      ],
      "execution_count": 0,
      "outputs": []
    },
    {
      "cell_type": "code",
      "metadata": {
        "id": "fPxsgwmbHQf7",
        "colab_type": "code",
        "colab": {}
      },
      "source": [
        "##嘗試learning_Rate為0.076,batch_size為100,epochs為20"
      ],
      "execution_count": 0,
      "outputs": []
    },
    {
      "cell_type": "code",
      "metadata": {
        "id": "kzDR8F-MHY2I",
        "colab_type": "code",
        "colab": {
          "base_uri": "https://localhost:8080/",
          "height": 706
        },
        "outputId": "d5e055a6-a269-4e62-f44d-16ea30635a23"
      },
      "source": [
        "model.fit(x_train,y_train,batch_size=100,epochs=20)"
      ],
      "execution_count": 22,
      "outputs": [
        {
          "output_type": "stream",
          "text": [
            "Epoch 1/20\n",
            "600/600 [==============================] - 26s 43ms/step - loss: 0.0802 - accuracy: 0.3890\n",
            "Epoch 2/20\n",
            "600/600 [==============================] - 26s 43ms/step - loss: 0.0487 - accuracy: 0.6336\n",
            "Epoch 3/20\n",
            "600/600 [==============================] - 26s 43ms/step - loss: 0.0409 - accuracy: 0.6995\n",
            "Epoch 4/20\n",
            "600/600 [==============================] - 26s 43ms/step - loss: 0.0372 - accuracy: 0.7305\n",
            "Epoch 5/20\n",
            "600/600 [==============================] - 26s 43ms/step - loss: 0.0346 - accuracy: 0.7545\n",
            "Epoch 6/20\n",
            "600/600 [==============================] - 26s 43ms/step - loss: 0.0325 - accuracy: 0.7705\n",
            "Epoch 7/20\n",
            "600/600 [==============================] - 26s 43ms/step - loss: 0.0310 - accuracy: 0.7829\n",
            "Epoch 8/20\n",
            "600/600 [==============================] - 26s 43ms/step - loss: 0.0298 - accuracy: 0.7928\n",
            "Epoch 9/20\n",
            "600/600 [==============================] - 26s 43ms/step - loss: 0.0286 - accuracy: 0.8011\n",
            "Epoch 10/20\n",
            "600/600 [==============================] - 26s 43ms/step - loss: 0.0278 - accuracy: 0.8070\n",
            "Epoch 11/20\n",
            "600/600 [==============================] - 26s 43ms/step - loss: 0.0269 - accuracy: 0.8134\n",
            "Epoch 12/20\n",
            "600/600 [==============================] - 26s 43ms/step - loss: 0.0262 - accuracy: 0.8185\n",
            "Epoch 13/20\n",
            "600/600 [==============================] - 26s 43ms/step - loss: 0.0256 - accuracy: 0.8226\n",
            "Epoch 14/20\n",
            "600/600 [==============================] - 26s 43ms/step - loss: 0.0249 - accuracy: 0.8279\n",
            "Epoch 15/20\n",
            "600/600 [==============================] - 26s 43ms/step - loss: 0.0244 - accuracy: 0.8316\n",
            "Epoch 16/20\n",
            "600/600 [==============================] - 26s 43ms/step - loss: 0.0239 - accuracy: 0.8347\n",
            "Epoch 17/20\n",
            "600/600 [==============================] - 26s 43ms/step - loss: 0.0234 - accuracy: 0.8388\n",
            "Epoch 18/20\n",
            "600/600 [==============================] - 26s 43ms/step - loss: 0.0229 - accuracy: 0.8420\n",
            "Epoch 19/20\n",
            "600/600 [==============================] - 26s 43ms/step - loss: 0.0226 - accuracy: 0.8438\n",
            "Epoch 20/20\n",
            "600/600 [==============================] - 26s 43ms/step - loss: 0.0223 - accuracy: 0.8469\n"
          ],
          "name": "stdout"
        },
        {
          "output_type": "execute_result",
          "data": {
            "text/plain": [
              "<tensorflow.python.keras.callbacks.History at 0x7f85367ba780>"
            ]
          },
          "metadata": {
            "tags": []
          },
          "execution_count": 22
        }
      ]
    },
    {
      "cell_type": "code",
      "metadata": {
        "id": "r0nuSsHiHfPG",
        "colab_type": "code",
        "colab": {}
      },
      "source": [
        "##想要讓正確率再提升 再建一個model2  讓learning_Rate更改為0.068 batch_size改為150且epochs改30"
      ],
      "execution_count": 0,
      "outputs": []
    },
    {
      "cell_type": "code",
      "metadata": {
        "id": "lHkOjG7RNm12",
        "colab_type": "code",
        "colab": {}
      },
      "source": [
        "model2= Sequential()"
      ],
      "execution_count": 0,
      "outputs": []
    },
    {
      "cell_type": "code",
      "metadata": {
        "id": "oD9p2QYsNotO",
        "colab_type": "code",
        "colab": {}
      },
      "source": [
        "model2.add(Conv2D(8, (3,3), padding='same',\n",
        "                input_shape=(28,28,1),\n",
        "                activation='relu'))\n",
        "model2.add(MaxPooling2D(pool_size=(2,2)))\n",
        "model2.add(Conv2D(16, (3,3), padding='same',\n",
        "                activation='relu'))\n",
        "model2.add(MaxPooling2D(pool_size=(2,2)))\n",
        "model2.add(Conv2D(32, (3,3), padding='same',\n",
        "                activation='relu'))\n",
        "model2.add(MaxPooling2D(pool_size=(2,2)))\n",
        "model2.add(Flatten())\n",
        "model2.add(Dense(35, activation='relu'))\n",
        "model2.add(Dense(10, activation='softmax'))"
      ],
      "execution_count": 0,
      "outputs": []
    },
    {
      "cell_type": "code",
      "metadata": {
        "id": "RqUVVI27Noy0",
        "colab_type": "code",
        "colab": {
          "base_uri": "https://localhost:8080/",
          "height": 454
        },
        "outputId": "fdcb4083-6b4c-4fe1-93e1-368eb6273f04"
      },
      "source": [
        "model2.summary()"
      ],
      "execution_count": 34,
      "outputs": [
        {
          "output_type": "stream",
          "text": [
            "Model: \"sequential_1\"\n",
            "_________________________________________________________________\n",
            "Layer (type)                 Output Shape              Param #   \n",
            "=================================================================\n",
            "conv2d_3 (Conv2D)            (None, 28, 28, 8)         80        \n",
            "_________________________________________________________________\n",
            "max_pooling2d_3 (MaxPooling2 (None, 14, 14, 8)         0         \n",
            "_________________________________________________________________\n",
            "conv2d_4 (Conv2D)            (None, 14, 14, 16)        1168      \n",
            "_________________________________________________________________\n",
            "max_pooling2d_4 (MaxPooling2 (None, 7, 7, 16)          0         \n",
            "_________________________________________________________________\n",
            "conv2d_5 (Conv2D)            (None, 7, 7, 32)          4640      \n",
            "_________________________________________________________________\n",
            "max_pooling2d_5 (MaxPooling2 (None, 3, 3, 32)          0         \n",
            "_________________________________________________________________\n",
            "flatten_1 (Flatten)          (None, 288)               0         \n",
            "_________________________________________________________________\n",
            "dense_2 (Dense)              (None, 35)                10115     \n",
            "_________________________________________________________________\n",
            "dense_3 (Dense)              (None, 10)                360       \n",
            "=================================================================\n",
            "Total params: 16,363\n",
            "Trainable params: 16,363\n",
            "Non-trainable params: 0\n",
            "_________________________________________________________________\n"
          ],
          "name": "stdout"
        }
      ]
    },
    {
      "cell_type": "code",
      "metadata": {
        "id": "yAWupMC_JzoV",
        "colab_type": "code",
        "colab": {}
      },
      "source": [
        "model2.compile(loss=\"mse\",optimizer=SGD(lr=0.068),metrics=[\"accuracy\"])"
      ],
      "execution_count": 0,
      "outputs": []
    },
    {
      "cell_type": "code",
      "metadata": {
        "id": "LsWjaG3hJ0Cc",
        "colab_type": "code",
        "colab": {
          "base_uri": "https://localhost:8080/",
          "height": 1000
        },
        "outputId": "0bad3ef4-9483-4981-d102-023b11cc1b58"
      },
      "source": [
        "model2.fit(x_train,y_train,batch_size=150,epochs=30)"
      ],
      "execution_count": 36,
      "outputs": [
        {
          "output_type": "stream",
          "text": [
            "Epoch 1/30\n",
            "400/400 [==============================] - 26s 64ms/step - loss: 0.0899 - accuracy: 0.1413\n",
            "Epoch 2/30\n",
            "400/400 [==============================] - 26s 65ms/step - loss: 0.0896 - accuracy: 0.2021\n",
            "Epoch 3/30\n",
            "400/400 [==============================] - 26s 65ms/step - loss: 0.0893 - accuracy: 0.2498\n",
            "Epoch 4/30\n",
            "400/400 [==============================] - 26s 65ms/step - loss: 0.0886 - accuracy: 0.2825\n",
            "Epoch 5/30\n",
            "400/400 [==============================] - 26s 65ms/step - loss: 0.0871 - accuracy: 0.3142\n",
            "Epoch 6/30\n",
            "400/400 [==============================] - 26s 66ms/step - loss: 0.0807 - accuracy: 0.3580\n",
            "Epoch 7/30\n",
            "400/400 [==============================] - 26s 66ms/step - loss: 0.0572 - accuracy: 0.5745\n",
            "Epoch 8/30\n",
            "400/400 [==============================] - 26s 66ms/step - loss: 0.0423 - accuracy: 0.6919\n",
            "Epoch 9/30\n",
            "400/400 [==============================] - 26s 66ms/step - loss: 0.0383 - accuracy: 0.7177\n",
            "Epoch 10/30\n",
            "400/400 [==============================] - 26s 65ms/step - loss: 0.0363 - accuracy: 0.7365\n",
            "Epoch 11/30\n",
            "400/400 [==============================] - 26s 65ms/step - loss: 0.0347 - accuracy: 0.7504\n",
            "Epoch 12/30\n",
            "400/400 [==============================] - 26s 65ms/step - loss: 0.0335 - accuracy: 0.7605\n",
            "Epoch 13/30\n",
            "400/400 [==============================] - 26s 66ms/step - loss: 0.0324 - accuracy: 0.7696\n",
            "Epoch 14/30\n",
            "400/400 [==============================] - 26s 65ms/step - loss: 0.0316 - accuracy: 0.7755\n",
            "Epoch 15/30\n",
            "400/400 [==============================] - 26s 65ms/step - loss: 0.0306 - accuracy: 0.7842\n",
            "Epoch 16/30\n",
            "400/400 [==============================] - 26s 66ms/step - loss: 0.0301 - accuracy: 0.7875\n",
            "Epoch 17/30\n",
            "400/400 [==============================] - 26s 66ms/step - loss: 0.0294 - accuracy: 0.7937\n",
            "Epoch 18/30\n",
            "400/400 [==============================] - 27s 67ms/step - loss: 0.0288 - accuracy: 0.7981\n",
            "Epoch 19/30\n",
            "400/400 [==============================] - 26s 66ms/step - loss: 0.0283 - accuracy: 0.8019\n",
            "Epoch 20/30\n",
            "400/400 [==============================] - 26s 66ms/step - loss: 0.0278 - accuracy: 0.8054\n",
            "Epoch 21/30\n",
            "400/400 [==============================] - 26s 66ms/step - loss: 0.0274 - accuracy: 0.8099\n",
            "Epoch 22/30\n",
            "400/400 [==============================] - 26s 66ms/step - loss: 0.0268 - accuracy: 0.8132\n",
            "Epoch 23/30\n",
            "400/400 [==============================] - 26s 66ms/step - loss: 0.0264 - accuracy: 0.8171\n",
            "Epoch 24/30\n",
            "400/400 [==============================] - 26s 66ms/step - loss: 0.0259 - accuracy: 0.8209\n",
            "Epoch 25/30\n",
            "400/400 [==============================] - 26s 66ms/step - loss: 0.0256 - accuracy: 0.8233\n",
            "Epoch 26/30\n",
            "400/400 [==============================] - 26s 66ms/step - loss: 0.0252 - accuracy: 0.8259\n",
            "Epoch 27/30\n",
            "400/400 [==============================] - 26s 66ms/step - loss: 0.0248 - accuracy: 0.8292\n",
            "Epoch 28/30\n",
            "400/400 [==============================] - 26s 65ms/step - loss: 0.0246 - accuracy: 0.8311\n",
            "Epoch 29/30\n",
            "400/400 [==============================] - 26s 66ms/step - loss: 0.0241 - accuracy: 0.8354\n",
            "Epoch 30/30\n",
            "400/400 [==============================] - 27s 67ms/step - loss: 0.0238 - accuracy: 0.8361\n"
          ],
          "name": "stdout"
        },
        {
          "output_type": "execute_result",
          "data": {
            "text/plain": [
              "<tensorflow.python.keras.callbacks.History at 0x7f8532da3cc0>"
            ]
          },
          "metadata": {
            "tags": []
          },
          "execution_count": 36
        }
      ]
    },
    {
      "cell_type": "code",
      "metadata": {
        "id": "8s5ASxbNJ8CW",
        "colab_type": "code",
        "colab": {}
      },
      "source": [
        "##結果好像差不多  反而花更多時間"
      ],
      "execution_count": 0,
      "outputs": []
    }
  ]
}