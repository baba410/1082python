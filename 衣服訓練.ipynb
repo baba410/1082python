{
 "cells": [
  {
   "cell_type": "code",
   "execution_count": 0,
   "metadata": {
    "colab": {},
    "colab_type": "code",
    "id": "WCVq1gJwFjlt"
   },
   "outputs": [],
   "source": [
    "%matplotlib inline\n",
    "import numpy as np\n",
    "import matplotlib.pyplot as plt"
   ]
  },
  {
   "cell_type": "code",
   "execution_count": 0,
   "metadata": {
    "colab": {},
    "colab_type": "code",
    "id": "EDppRgrKFpOS"
   },
   "outputs": [],
   "source": [
    "from tensorflow.keras.datasets import fashion_mnist"
   ]
  },
  {
   "cell_type": "code",
   "execution_count": 3,
   "metadata": {
    "colab": {
     "base_uri": "https://localhost:8080/",
     "height": 151
    },
    "colab_type": "code",
    "id": "NTrnMT8ZFrcv",
    "outputId": "d50f965d-6509-4e63-d4f5-349fba5956d4"
   },
   "outputs": [
    {
     "name": "stdout",
     "output_type": "stream",
     "text": [
      "Downloading data from https://storage.googleapis.com/tensorflow/tf-keras-datasets/train-labels-idx1-ubyte.gz\n",
      "32768/29515 [=================================] - 0s 0us/step\n",
      "Downloading data from https://storage.googleapis.com/tensorflow/tf-keras-datasets/train-images-idx3-ubyte.gz\n",
      "26427392/26421880 [==============================] - 0s 0us/step\n",
      "Downloading data from https://storage.googleapis.com/tensorflow/tf-keras-datasets/t10k-labels-idx1-ubyte.gz\n",
      "8192/5148 [===============================================] - 0s 0us/step\n",
      "Downloading data from https://storage.googleapis.com/tensorflow/tf-keras-datasets/t10k-images-idx3-ubyte.gz\n",
      "4423680/4422102 [==============================] - 0s 0us/step\n"
     ]
    }
   ],
   "source": [
    "(x_train, y_train), (x_test, y_test) = fashion_mnist.load_data()"
   ]
  },
  {
   "cell_type": "code",
   "execution_count": 0,
   "metadata": {
    "colab": {},
    "colab_type": "code",
    "id": "FtC_Dc5TFt54"
   },
   "outputs": [],
   "source": [
    "class_names = ['T-shirt/top', 'Trouser', 'Pullover', 'Dress', 'Coat',\n",
    "               'Sandal', 'Shirt', 'Sneaker', 'Bag', 'Ankle boot']"
   ]
  },
  {
   "cell_type": "code",
   "execution_count": 7,
   "metadata": {
    "colab": {
     "base_uri": "https://localhost:8080/",
     "height": 1000
    },
    "colab_type": "code",
    "id": "Doa3fIQNGS2Q",
    "outputId": "52bbdae3-c0a4-40a2-91e4-1f0672dbf2ab"
   },
   "outputs": [
    {
     "data": {
      "text/plain": [
       "array([[  0,   0,   0,   0,   0,   0,   0,   0,   0,   0,   0,   0,   0,\n",
       "          0,   0,   0,   0,   0,   0,   0,   0,   0,   0,   0,   0,   0,\n",
       "          0,   0],\n",
       "       [  0,   0,   0,   0,   0,   0,   0,   0,   0,   0,   0,   0,   0,\n",
       "          0,   0,   0,   0,   0,   0,   0,   0,   0,   0,   0,   0,   0,\n",
       "          0,   0],\n",
       "       [  0,   0,   0,   0,   0,   0,   0,   0,   0,   0,   0,   0,   0,\n",
       "          0,   0,   0,   0,   0,   0,   0,   0,   0,   0,   0,   0,   0,\n",
       "          0,   0],\n",
       "       [  0,   0,   0,   0,   0,   0,   0,   0,   0,   0,   0,   0,   0,\n",
       "          0,   0,   0,   0,   0,   0,   0,   0,   0,   0,   0,   0,   0,\n",
       "          0,   0],\n",
       "       [  0,   0,   0,   0,   4,   0,   0,   0,   0,   0,   0,   0,   0,\n",
       "          0,   0,   0,   0,   0,   0,   0,   0,   0,   0,   0,   0,   0,\n",
       "          0,   0],\n",
       "       [  0,   1,   1,   0,   0,   0,   0,   0,   0,   0,   0,   0,   0,\n",
       "          0,   0,   0,   0,   0,   0,   0,   0,   0,   0,   0, 104, 176,\n",
       "        122,  51],\n",
       "       [  0,   0,   0,   0,   0, 178, 176, 171, 176, 178, 178, 178, 177,\n",
       "        179, 179, 179, 179, 181, 185, 187, 191, 193, 192, 208, 228, 226,\n",
       "        229, 215],\n",
       "       [  0,   0,   0,   0, 168, 239, 215, 215, 213, 211, 211, 212, 212,\n",
       "        212, 212, 211, 212, 210, 206, 204, 199, 196, 196, 199, 200, 207,\n",
       "        218, 132],\n",
       "       [  0, 177, 180,  79, 223, 185, 176, 165, 152, 142, 143, 147, 148,\n",
       "        151, 152, 150, 150, 156, 151, 151, 149, 148, 146, 144, 146, 130,\n",
       "        195,  81],\n",
       "       [  0,  93, 132,  60, 233, 149, 150, 161, 157, 159, 159, 161, 158,\n",
       "        158, 161, 160, 158, 165, 156, 157, 169, 170, 173, 180, 193, 181,\n",
       "        219, 105],\n",
       "       [  0,  28, 201, 136, 244, 165, 149, 145, 159, 158, 159, 161, 156,\n",
       "        157, 162, 162, 158, 162, 153, 153, 165, 167, 171, 164, 166, 170,\n",
       "        222,  79],\n",
       "       [  0, 135, 242, 234, 243, 182, 169, 150, 148, 150, 155, 159, 153,\n",
       "        152, 159, 160, 153, 160, 165, 164, 162, 161, 165, 169, 155, 139,\n",
       "        209,  68],\n",
       "       [  0, 222, 247, 166, 128, 221, 166, 159, 154, 143, 142, 151, 155,\n",
       "        157, 157, 156, 154, 160, 164, 162, 163, 160, 166, 168, 165, 147,\n",
       "        214,  69],\n",
       "       [ 96, 242, 243,   8, 109, 241, 179, 185, 177, 160, 155, 156, 156,\n",
       "        151, 155, 161, 161, 166, 169, 164, 163, 158, 158, 153, 154, 143,\n",
       "        213,  57],\n",
       "       [189, 245, 235,   0, 117, 254, 190, 205, 205, 202, 190, 182, 172,\n",
       "        167, 171, 170, 161, 160, 163, 160, 160, 157, 164, 168, 180, 169,\n",
       "        226,  40],\n",
       "       [217, 239, 216,   0,  68, 255, 205, 215, 214, 213, 208, 208, 201,\n",
       "        193, 191, 186, 181, 177, 170, 164, 159, 152, 149, 151, 175, 181,\n",
       "        242,  26],\n",
       "       [207, 226, 255, 166,   6, 255, 214, 215, 211, 215, 213, 217, 220,\n",
       "        214, 212, 211, 212, 212, 206, 198, 188, 181, 171, 161, 169, 182,\n",
       "        245,  28],\n",
       "       [143, 254, 239,   0,   0, 255, 221, 218, 213, 213, 209, 209, 214,\n",
       "        218, 218, 218, 218, 217, 217, 218, 217, 221, 215, 212, 200, 205,\n",
       "        212,  19],\n",
       "       [ 58, 254, 228,   0,   0, 239, 234, 219, 219, 217, 213, 210, 214,\n",
       "        214, 214, 215, 215, 216, 217, 216, 216, 215, 214, 212, 208, 217,\n",
       "        208,   0],\n",
       "       [  0, 216, 210, 214,  62, 177, 242, 222, 251, 253, 233, 233, 232,\n",
       "        231, 232, 233, 234, 233, 231, 231, 230, 230, 229, 230, 232, 239,\n",
       "         96,   0],\n",
       "       [  0, 163, 245, 217, 120, 221, 233, 227, 171, 197, 220, 203, 195,\n",
       "        189, 186, 181, 177, 174, 176, 181, 185, 188, 187, 186, 166,  40,\n",
       "          0,   0],\n",
       "       [  0,   0, 222, 254, 182, 228, 219, 224,  80,   0,   0,   0,   0,\n",
       "          0,   0,   0,   0,   0,   0,   0,   0,   0,   0,   0,   0,   0,\n",
       "          0,   0],\n",
       "       [  0,   0,  34, 151, 181, 206,  97, 194, 240, 255, 124,   0,   1,\n",
       "          0,   0,   0,   0,   0,   0,   0,   0,   0,   0,   0,   1,   5,\n",
       "          1,   0],\n",
       "       [  0,   0,   0,   0,   0,   0,   0,   0, 153, 175,  76,   0,   0,\n",
       "          0,   0,   0,   0,   0,   0,   0,   0,   0,   0,   0,   0,   0,\n",
       "          0,   0],\n",
       "       [  0,   0,   0,   0,   0,   0,   0,   0,   0,   0,   0,   0,   0,\n",
       "          0,   0,   0,   0,   0,   0,   0,   0,   0,   0,   0,   0,   0,\n",
       "          0,   0],\n",
       "       [  0,   0,   0,   0,   0,   0,   0,   0,   0,   0,   0,   0,   0,\n",
       "          0,   0,   0,   0,   0,   0,   0,   0,   0,   0,   0,   0,   0,\n",
       "          0,   0],\n",
       "       [  0,   0,   0,   0,   0,   0,   0,   0,   0,   0,   0,   0,   0,\n",
       "          0,   0,   0,   0,   0,   0,   0,   0,   0,   0,   0,   0,   0,\n",
       "          0,   0],\n",
       "       [  0,   0,   0,   0,   0,   0,   0,   0,   0,   0,   0,   0,   0,\n",
       "          0,   0,   0,   0,   0,   0,   0,   0,   0,   0,   0,   0,   0,\n",
       "          0,   0]], dtype=uint8)"
      ]
     },
     "execution_count": 7,
     "metadata": {
      "tags": []
     },
     "output_type": "execute_result"
    }
   ],
   "source": [
    "n=4190\n",
    "x_train[n]"
   ]
  },
  {
   "cell_type": "code",
   "execution_count": 12,
   "metadata": {
    "colab": {
     "base_uri": "https://localhost:8080/",
     "height": 282
    },
    "colab_type": "code",
    "id": "wScK4vI_Gas1",
    "outputId": "214a4ee2-910a-42be-fb68-60a4791bb144"
   },
   "outputs": [
    {
     "name": "stdout",
     "output_type": "stream",
     "text": [
      "這個是 Bag\n"
     ]
    },
    {
     "data": {
      "image/png": "[encoded data removed]",
      "text/plain": [
       "<Figure size 432x288 with 1 Axes>"
      ]
     },
     "metadata": {
      "tags": []
     },
     "output_type": "display_data"
    }
   ],
   "source": [
    "plt.imshow(x_train[n],cmap='Greys')\n",
    "print('這個是',class_names[y_train[n]])"
   ]
  },
  {
   "cell_type": "code",
   "execution_count": 0,
   "metadata": {
    "colab": {},
    "colab_type": "code",
    "id": "MHz0e0xOGg54"
   },
   "outputs": [],
   "source": [
    "from tensorflow.keras.models import Sequential\n",
    "from tensorflow.keras.layers import Dense\n",
    "from tensorflow.keras.optimizers import SGD"
   ]
  },
  {
   "cell_type": "code",
   "execution_count": 16,
   "metadata": {
    "colab": {
     "base_uri": "https://localhost:8080/",
     "height": 34
    },
    "colab_type": "code",
    "id": "7_oks65DHsMd",
    "outputId": "2530371f-f70a-420b-d9ad-ac54b90967f8"
   },
   "outputs": [
    {
     "data": {
      "text/plain": [
       "(60000, 28, 28)"
      ]
     },
     "execution_count": 16,
     "metadata": {
      "tags": []
     },
     "output_type": "execute_result"
    }
   ],
   "source": [
    "x_train.shape"
   ]
  },
  {
   "cell_type": "code",
   "execution_count": 0,
   "metadata": {
    "colab": {},
    "colab_type": "code",
    "id": "U3g5akIbH4c2"
   },
   "outputs": [],
   "source": [
    "x_train=x_train/255\n",
    "y_train=y_train/255"
   ]
  },
  {
   "cell_type": "code",
   "execution_count": 0,
   "metadata": {
    "colab": {},
    "colab_type": "code",
    "id": "TcvsBHBDIO8v"
   },
   "outputs": [],
   "source": [
    "x_train=x_train.reshape(60000,784)\n",
    "x_test=x_test.reshape(10000,784)"
   ]
  },
  {
   "cell_type": "code",
   "execution_count": 0,
   "metadata": {
    "colab": {},
    "colab_type": "code",
    "id": "_O7idPLwITCS"
   },
   "outputs": [],
   "source": [
    "from tensorflow.keras.utils import  to_categorical\n",
    "y_train=to_categorical(y_train,10)\n",
    "y_test=to_categorical(y_test,10)"
   ]
  },
  {
   "cell_type": "code",
   "execution_count": 0,
   "metadata": {
    "colab": {},
    "colab_type": "code",
    "id": "pnbyv4nrIZ4_"
   },
   "outputs": [],
   "source": [
    "from tensorflow.keras.models import Sequential\n",
    "from tensorflow.keras.layers import Dense\n",
    "from tensorflow.keras.optimizers import SGD"
   ]
  },
  {
   "cell_type": "code",
   "execution_count": 0,
   "metadata": {
    "colab": {},
    "colab_type": "code",
    "id": "NwH_Txd-IdHp"
   },
   "outputs": [],
   "source": [
    "model=Sequential()\n",
    "model.add(Dense(87,input_dim=784,activation='relu'))\n",
    "model.add(Dense(87,activation='relu'))\n",
    "model.add(Dense(10,activation='softmax'))"
   ]
  },
  {
   "cell_type": "code",
   "execution_count": 0,
   "metadata": {
    "colab": {},
    "colab_type": "code",
    "id": "zzbPWwTQIkPG"
   },
   "outputs": [],
   "source": [
    "model.compile(loss='mse',optimizer=SGD(lr=0.087),metrics=['accuracy'])"
   ]
  },
  {
   "cell_type": "code",
   "execution_count": 24,
   "metadata": {
    "colab": {
     "base_uri": "https://localhost:8080/",
     "height": 706
    },
    "colab_type": "code",
    "id": "DlKUdDacIk2C",
    "outputId": "e5551b25-8a4f-4ecf-9c3a-c3192ca5a5df"
   },
   "outputs": [
    {
     "name": "stdout",
     "output_type": "stream",
     "text": [
      "Epoch 1/20\n",
      "600/600 [==============================] - 2s 3ms/step - loss: 0.0041 - accuracy: 0.9954\n",
      "Epoch 2/20\n",
      "600/600 [==============================] - 2s 3ms/step - loss: 2.2349e-04 - accuracy: 1.0000\n",
      "Epoch 3/20\n",
      "600/600 [==============================] - 2s 3ms/step - loss: 1.1484e-04 - accuracy: 1.0000\n",
      "Epoch 4/20\n",
      "600/600 [==============================] - 2s 3ms/step - loss: 7.5541e-05 - accuracy: 1.0000\n",
      "Epoch 5/20\n",
      "600/600 [==============================] - 2s 3ms/step - loss: 5.5606e-05 - accuracy: 1.0000\n",
      "Epoch 6/20\n",
      "600/600 [==============================] - 2s 3ms/step - loss: 4.3677e-05 - accuracy: 1.0000\n",
      "Epoch 7/20\n",
      "600/600 [==============================] - 2s 3ms/step - loss: 3.5789e-05 - accuracy: 1.0000\n",
      "Epoch 8/20\n",
      "600/600 [==============================] - 2s 3ms/step - loss: 3.0216e-05 - accuracy: 1.0000\n",
      "Epoch 9/20\n",
      "600/600 [==============================] - 2s 3ms/step - loss: 2.6081e-05 - accuracy: 1.0000\n",
      "Epoch 10/20\n",
      "600/600 [==============================] - 2s 3ms/step - loss: 2.2898e-05 - accuracy: 1.0000\n",
      "Epoch 11/20\n",
      "600/600 [==============================] - 2s 3ms/step - loss: 2.0378e-05 - accuracy: 1.0000\n",
      "Epoch 12/20\n",
      "600/600 [==============================] - 2s 3ms/step - loss: 1.8336e-05 - accuracy: 1.0000\n",
      "Epoch 13/20\n",
      "600/600 [==============================] - 2s 3ms/step - loss: 1.6651e-05 - accuracy: 1.0000\n",
      "Epoch 14/20\n",
      "600/600 [==============================] - 2s 3ms/step - loss: 1.5238e-05 - accuracy: 1.0000\n",
      "Epoch 15/20\n",
      "600/600 [==============================] - 2s 3ms/step - loss: 1.4037e-05 - accuracy: 1.0000\n",
      "Epoch 16/20\n",
      "600/600 [==============================] - 2s 3ms/step - loss: 1.3004e-05 - accuracy: 1.0000\n",
      "Epoch 17/20\n",
      "600/600 [==============================] - 2s 3ms/step - loss: 1.2105e-05 - accuracy: 1.0000\n",
      "Epoch 18/20\n",
      "600/600 [==============================] - 2s 3ms/step - loss: 1.1318e-05 - accuracy: 1.0000\n",
      "Epoch 19/20\n",
      "600/600 [==============================] - 2s 3ms/step - loss: 1.0623e-05 - accuracy: 1.0000\n",
      "Epoch 20/20\n",
      "600/600 [==============================] - 2s 3ms/step - loss: 1.0005e-05 - accuracy: 1.0000\n"
     ]
    },
    {
     "data": {
      "text/plain": [
       "<tensorflow.python.keras.callbacks.History at 0x7f5bdc1179e8>"
      ]
     },
     "execution_count": 24,
     "metadata": {
      "tags": []
     },
     "output_type": "execute_result"
    }
   ],
   "source": [
    "model.fit(x_train,y_train,batch_size=100,epochs=20)"
   ]
  },
  {
   "cell_type": "code",
   "execution_count": 31,
   "metadata": {
    "colab": {
     "base_uri": "https://localhost:8080/",
     "height": 298
    },
    "colab_type": "code",
    "id": "1tzwWfNJI3zD",
    "outputId": "a2ca0f4a-a990-49c2-99ef-cc4eac31276b"
   },
   "outputs": [
    {
     "name": "stdout",
     "output_type": "stream",
     "text": [
      "預測結果是: T-shirt/top\n"
     ]
    },
    {
     "data": {
      "text/plain": [
       "<matplotlib.image.AxesImage at 0x7f5bd7994c88>"
      ]
     },
     "execution_count": 31,
     "metadata": {
      "tags": []
     },
     "output_type": "execute_result"
    },
    {
     "data": {
      "image/png": "[encoded data removed]",
      "text/plain": [
       "<Figure size 432x288 with 1 Axes>"
      ]
     },
     "metadata": {
      "tags": []
     },
     "output_type": "display_data"
    }
   ],
   "source": [
    "n=4190\n",
    "print('預測結果是:', class_names[result[n]])\n",
    "plt.imshow(x_test[n].reshape(28,28),cmap='Greys')"
   ]
  },
  {
   "cell_type": "code",
   "execution_count": 32,
   "metadata": {
    "colab": {
     "base_uri": "https://localhost:8080/",
     "height": 298
    },
    "colab_type": "code",
    "id": "UW513vaEJbvX",
    "outputId": "16180435-9cc7-4fef-f7d4-3f18755e72c9"
   },
   "outputs": [
    {
     "name": "stdout",
     "output_type": "stream",
     "text": [
      "預測結果是: T-shirt/top\n"
     ]
    },
    {
     "data": {
      "text/plain": [
       "<matplotlib.image.AxesImage at 0x7f5bd7911f60>"
      ]
     },
     "execution_count": 32,
     "metadata": {
      "tags": []
     },
     "output_type": "execute_result"
    },
    {
     "data": {
      "image/png": "[encoded data removed]",
      "text/plain": [
       "<Figure size 432x288 with 1 Axes>"
      ]
     },
     "metadata": {
      "tags": []
     },
     "output_type": "display_data"
    }
   ],
   "source": [
    "n=2630\n",
    "print('預測結果是:', class_names[result[n]])\n",
    "plt.imshow(x_test[n].reshape(28,28),cmap='Greys')"
   ]
  },
  {
   "cell_type": "code",
   "execution_count": 33,
   "metadata": {
    "colab": {
     "base_uri": "https://localhost:8080/",
     "height": 298
    },
    "colab_type": "code",
    "id": "8KdmhNbAJszT",
    "outputId": "44ca57df-5672-4a74-a1cc-e6735cea21dd"
   },
   "outputs": [
    {
     "name": "stdout",
     "output_type": "stream",
     "text": [
      "預測結果是: T-shirt/top\n"
     ]
    },
    {
     "data": {
      "text/plain": [
       "<matplotlib.image.AxesImage at 0x7f5bd78eeb70>"
      ]
     },
     "execution_count": 33,
     "metadata": {
      "tags": []
     },
     "output_type": "execute_result"
    },
    {
     "data": {
      "image/png": "[encoded data removed]",
      "text/plain": [
       "<Figure size 432x288 with 1 Axes>"
      ]
     },
     "metadata": {
      "tags": []
     },
     "output_type": "display_data"
    }
   ],
   "source": [
    "n=5689\n",
    "print('預測結果是:', class_names[result[n]])\n",
    "plt.imshow(x_test[n].reshape(28,28),cmap='Greys')"
   ]
  },
  {
   "cell_type": "code",
   "execution_count": 34,
   "metadata": {
    "colab": {
     "base_uri": "https://localhost:8080/",
     "height": 298
    },
    "colab_type": "code",
    "id": "FokFmMZ5Jwm8",
    "outputId": "919023b5-b2e5-4f31-c04e-0501ffb53c97"
   },
   "outputs": [
    {
     "name": "stdout",
     "output_type": "stream",
     "text": [
      "預測結果是: T-shirt/top\n"
     ]
    },
    {
     "data": {
      "text/plain": [
       "<matplotlib.image.AxesImage at 0x7f5bd7848710>"
      ]
     },
     "execution_count": 34,
     "metadata": {
      "tags": []
     },
     "output_type": "execute_result"
    },
    {
     "data": {
      "image/png": "[encoded data removed]",
      "text/plain": [
       "<Figure size 432x288 with 1 Axes>"
      ]
     },
     "metadata": {
      "tags": []
     },
     "output_type": "display_data"
    }
   ],
   "source": [
    "n=9937\n",
    "print('預測結果是:', class_names[result[n]])\n",
    "plt.imshow(x_test[n].reshape(28,28),cmap='Greys')"
   ]
  },
  {
   "cell_type": "code",
   "execution_count": 39,
   "metadata": {
    "colab": {
     "base_uri": "https://localhost:8080/",
     "height": 298
    },
    "colab_type": "code",
    "id": "WhplZDesJ2a3",
    "outputId": "017e4608-2df2-487b-8f07-4c9e28f4ce18"
   },
   "outputs": [
    {
     "name": "stdout",
     "output_type": "stream",
     "text": [
      "預測結果是: T-shirt/top\n"
     ]
    },
    {
     "data": {
      "text/plain": [
       "<matplotlib.image.AxesImage at 0x7f5bdc2d9400>"
      ]
     },
     "execution_count": 39,
     "metadata": {
      "tags": []
     },
     "output_type": "execute_result"
    },
    {
     "data": {
      "image/png": "[encoded data removed]",
      "text/plain": [
       "<Figure size 432x288 with 1 Axes>"
      ]
     },
     "metadata": {
      "tags": []
     },
     "output_type": "display_data"
    }
   ],
   "source": [
    "n=648\n",
    "print('預測結果是:', class_names[result[n]])\n",
    "plt.imshow(x_test[n].reshape(28,28),cmap='Greys')"
   ]
  },
  {
   "cell_type": "code",
   "execution_count": 40,
   "metadata": {
    "colab": {
     "base_uri": "https://localhost:8080/",
     "height": 298
    },
    "colab_type": "code",
    "id": "Qm4eKmaqKBIP",
    "outputId": "783be647-55dd-4db7-d62c-393e7bebc8b9"
   },
   "outputs": [
    {
     "name": "stdout",
     "output_type": "stream",
     "text": [
      "預測結果是: T-shirt/top\n"
     ]
    },
    {
     "data": {
      "text/plain": [
       "<matplotlib.image.AxesImage at 0x7f5be25ec048>"
      ]
     },
     "execution_count": 40,
     "metadata": {
      "tags": []
     },
     "output_type": "execute_result"
    },
    {
     "data": {
      "image/png": "[encoded data removed]",
      "text/plain": [
       "<Figure size 432x288 with 1 Axes>"
      ]
     },
     "metadata": {
      "tags": []
     },
     "output_type": "display_data"
    }
   ],
   "source": [
    "n=41\n",
    "print('預測結果是:', class_names[result[n]])\n",
    "plt.imshow(x_test[n].reshape(28,28),cmap='Greys')"
   ]
  },
  {
   "cell_type": "code",
   "execution_count": 41,
   "metadata": {
    "colab": {
     "base_uri": "https://localhost:8080/",
     "height": 1000
    },
    "colab_type": "code",
    "id": "iag-idpiKHHn",
    "outputId": "05db62a8-eb84-40cd-9cdd-bcc7172d1bb0"
   },
   "outputs": [
    {
     "name": "stdout",
     "output_type": "stream",
     "text": [
      "Epoch 1/100\n",
      "600/600 [==============================] - 2s 3ms/step - loss: 4.4185e-06 - accuracy: 1.0000\n",
      "Epoch 2/100\n",
      "600/600 [==============================] - 2s 3ms/step - loss: 4.2989e-06 - accuracy: 1.0000\n",
      "Epoch 3/100\n",
      "600/600 [==============================] - 2s 3ms/step - loss: 4.1853e-06 - accuracy: 1.0000\n",
      "Epoch 4/100\n",
      "600/600 [==============================] - 2s 3ms/step - loss: 4.0774e-06 - accuracy: 1.0000\n",
      "Epoch 5/100\n",
      "600/600 [==============================] - 2s 3ms/step - loss: 3.9747e-06 - accuracy: 1.0000\n",
      "Epoch 6/100\n",
      "600/600 [==============================] - 2s 3ms/step - loss: 3.8768e-06 - accuracy: 1.0000\n",
      "Epoch 7/100\n",
      "600/600 [==============================] - 2s 3ms/step - loss: 3.7835e-06 - accuracy: 1.0000\n",
      "Epoch 8/100\n",
      "600/600 [==============================] - 2s 3ms/step - loss: 3.6944e-06 - accuracy: 1.0000\n",
      "Epoch 9/100\n",
      "600/600 [==============================] - 2s 3ms/step - loss: 3.6092e-06 - accuracy: 1.0000\n",
      "Epoch 10/100\n",
      "600/600 [==============================] - 1s 2ms/step - loss: 3.5277e-06 - accuracy: 1.0000\n",
      "Epoch 11/100\n",
      "600/600 [==============================] - 2s 3ms/step - loss: 3.4496e-06 - accuracy: 1.0000\n",
      "Epoch 12/100\n",
      "600/600 [==============================] - 2s 3ms/step - loss: 3.3747e-06 - accuracy: 1.0000\n",
      "Epoch 13/100\n",
      "600/600 [==============================] - 2s 3ms/step - loss: 3.3029e-06 - accuracy: 1.0000\n",
      "Epoch 14/100\n",
      "600/600 [==============================] - 2s 3ms/step - loss: 3.2340e-06 - accuracy: 1.0000\n",
      "Epoch 15/100\n",
      "600/600 [==============================] - 2s 3ms/step - loss: 3.1677e-06 - accuracy: 1.0000\n",
      "Epoch 16/100\n",
      "600/600 [==============================] - 2s 3ms/step - loss: 3.1041e-06 - accuracy: 1.0000\n",
      "Epoch 17/100\n",
      "600/600 [==============================] - 2s 3ms/step - loss: 3.0428e-06 - accuracy: 1.0000\n",
      "Epoch 18/100\n",
      "600/600 [==============================] - 2s 3ms/step - loss: 2.9838e-06 - accuracy: 1.0000\n",
      "Epoch 19/100\n",
      "600/600 [==============================] - 2s 3ms/step - loss: 2.9269e-06 - accuracy: 1.0000\n",
      "Epoch 20/100\n",
      "600/600 [==============================] - 2s 3ms/step - loss: 2.8721e-06 - accuracy: 1.0000\n",
      "Epoch 21/100\n",
      "600/600 [==============================] - 2s 3ms/step - loss: 2.8192e-06 - accuracy: 1.0000\n",
      "Epoch 22/100\n",
      "600/600 [==============================] - 2s 3ms/step - loss: 2.7682e-06 - accuracy: 1.0000\n",
      "Epoch 23/100\n",
      "600/600 [==============================] - 2s 3ms/step - loss: 2.7189e-06 - accuracy: 1.0000\n",
      "Epoch 24/100\n",
      "600/600 [==============================] - 2s 3ms/step - loss: 2.6712e-06 - accuracy: 1.0000\n",
      "Epoch 25/100\n",
      "600/600 [==============================] - 2s 3ms/step - loss: 2.6251e-06 - accuracy: 1.0000\n",
      "Epoch 26/100\n",
      "600/600 [==============================] - 2s 3ms/step - loss: 2.5805e-06 - accuracy: 1.0000\n",
      "Epoch 27/100\n",
      "600/600 [==============================] - 2s 3ms/step - loss: 2.5374e-06 - accuracy: 1.0000\n",
      "Epoch 28/100\n",
      "600/600 [==============================] - 2s 3ms/step - loss: 2.4956e-06 - accuracy: 1.0000\n",
      "Epoch 29/100\n",
      "600/600 [==============================] - 2s 3ms/step - loss: 2.4551e-06 - accuracy: 1.0000\n",
      "Epoch 30/100\n",
      "600/600 [==============================] - 2s 3ms/step - loss: 2.4158e-06 - accuracy: 1.0000\n",
      "Epoch 31/100\n",
      "600/600 [==============================] - 2s 3ms/step - loss: 2.3777e-06 - accuracy: 1.0000\n",
      "Epoch 32/100\n",
      "600/600 [==============================] - 2s 3ms/step - loss: 2.3408e-06 - accuracy: 1.0000\n",
      "Epoch 33/100\n",
      "600/600 [==============================] - 2s 3ms/step - loss: 2.3050e-06 - accuracy: 1.0000\n",
      "Epoch 34/100\n",
      "600/600 [==============================] - 2s 3ms/step - loss: 2.2702e-06 - accuracy: 1.0000\n",
      "Epoch 35/100\n",
      "600/600 [==============================] - 2s 3ms/step - loss: 2.2363e-06 - accuracy: 1.0000\n",
      "Epoch 36/100\n",
      "600/600 [==============================] - 2s 3ms/step - loss: 2.2034e-06 - accuracy: 1.0000\n",
      "Epoch 37/100\n",
      "600/600 [==============================] - 2s 3ms/step - loss: 2.1715e-06 - accuracy: 1.0000\n",
      "Epoch 38/100\n",
      "600/600 [==============================] - 2s 3ms/step - loss: 2.1403e-06 - accuracy: 1.0000\n",
      "Epoch 39/100\n",
      "600/600 [==============================] - 2s 3ms/step - loss: 2.1101e-06 - accuracy: 1.0000\n",
      "Epoch 40/100\n",
      "600/600 [==============================] - 2s 3ms/step - loss: 2.0807e-06 - accuracy: 1.0000\n",
      "Epoch 41/100\n",
      "600/600 [==============================] - 2s 3ms/step - loss: 2.0520e-06 - accuracy: 1.0000\n",
      "Epoch 42/100\n",
      "600/600 [==============================] - 2s 3ms/step - loss: 2.0241e-06 - accuracy: 1.0000\n",
      "Epoch 43/100\n",
      "600/600 [==============================] - 2s 3ms/step - loss: 1.9969e-06 - accuracy: 1.0000\n",
      "Epoch 44/100\n",
      "600/600 [==============================] - 2s 3ms/step - loss: 1.9704e-06 - accuracy: 1.0000\n",
      "Epoch 45/100\n",
      "600/600 [==============================] - 2s 3ms/step - loss: 1.9446e-06 - accuracy: 1.0000\n",
      "Epoch 46/100\n",
      "600/600 [==============================] - 2s 3ms/step - loss: 1.9194e-06 - accuracy: 1.0000\n",
      "Epoch 47/100\n",
      "600/600 [==============================] - 2s 3ms/step - loss: 1.8948e-06 - accuracy: 1.0000\n",
      "Epoch 48/100\n",
      "600/600 [==============================] - 2s 3ms/step - loss: 1.8708e-06 - accuracy: 1.0000\n",
      "Epoch 49/100\n",
      "600/600 [==============================] - 2s 3ms/step - loss: 1.8474e-06 - accuracy: 1.0000\n",
      "Epoch 50/100\n",
      "600/600 [==============================] - 2s 3ms/step - loss: 1.8246e-06 - accuracy: 1.0000\n",
      "Epoch 51/100\n",
      "600/600 [==============================] - 2s 3ms/step - loss: 1.8023e-06 - accuracy: 1.0000\n",
      "Epoch 52/100\n",
      "600/600 [==============================] - 2s 3ms/step - loss: 1.7805e-06 - accuracy: 1.0000\n",
      "Epoch 53/100\n",
      "600/600 [==============================] - 2s 3ms/step - loss: 1.7592e-06 - accuracy: 1.0000\n",
      "Epoch 54/100\n",
      "600/600 [==============================] - 2s 3ms/step - loss: 1.7384e-06 - accuracy: 1.0000\n",
      "Epoch 55/100\n",
      "600/600 [==============================] - 2s 3ms/step - loss: 1.7180e-06 - accuracy: 1.0000\n",
      "Epoch 56/100\n",
      "600/600 [==============================] - 2s 3ms/step - loss: 1.6981e-06 - accuracy: 1.0000\n",
      "Epoch 57/100\n",
      "600/600 [==============================] - 2s 3ms/step - loss: 1.6786e-06 - accuracy: 1.0000\n",
      "Epoch 58/100\n",
      "600/600 [==============================] - 2s 3ms/step - loss: 1.6596e-06 - accuracy: 1.0000\n",
      "Epoch 59/100\n",
      "600/600 [==============================] - 2s 3ms/step - loss: 1.6410e-06 - accuracy: 1.0000\n",
      "Epoch 60/100\n",
      "600/600 [==============================] - 2s 3ms/step - loss: 1.6227e-06 - accuracy: 1.0000\n",
      "Epoch 61/100\n",
      "600/600 [==============================] - 2s 3ms/step - loss: 1.6049e-06 - accuracy: 1.0000\n",
      "Epoch 62/100\n",
      "600/600 [==============================] - 2s 3ms/step - loss: 1.5874e-06 - accuracy: 1.0000\n",
      "Epoch 63/100\n",
      "600/600 [==============================] - 2s 3ms/step - loss: 1.5703e-06 - accuracy: 1.0000\n",
      "Epoch 64/100\n",
      "600/600 [==============================] - 2s 3ms/step - loss: 1.5535e-06 - accuracy: 1.0000\n",
      "Epoch 65/100\n",
      "600/600 [==============================] - 2s 3ms/step - loss: 1.5371e-06 - accuracy: 1.0000\n",
      "Epoch 66/100\n",
      "600/600 [==============================] - 2s 3ms/step - loss: 1.5210e-06 - accuracy: 1.0000\n",
      "Epoch 67/100\n",
      "600/600 [==============================] - 2s 3ms/step - loss: 1.5052e-06 - accuracy: 1.0000\n",
      "Epoch 68/100\n",
      "600/600 [==============================] - 2s 3ms/step - loss: 1.4897e-06 - accuracy: 1.0000\n",
      "Epoch 69/100\n",
      "600/600 [==============================] - 2s 3ms/step - loss: 1.4746e-06 - accuracy: 1.0000\n",
      "Epoch 70/100\n",
      "600/600 [==============================] - 2s 3ms/step - loss: 1.4597e-06 - accuracy: 1.0000\n",
      "Epoch 71/100\n",
      "600/600 [==============================] - 2s 3ms/step - loss: 1.4451e-06 - accuracy: 1.0000\n",
      "Epoch 72/100\n",
      "600/600 [==============================] - 2s 3ms/step - loss: 1.4308e-06 - accuracy: 1.0000\n",
      "Epoch 73/100\n",
      "600/600 [==============================] - 2s 3ms/step - loss: 1.4167e-06 - accuracy: 1.0000\n",
      "Epoch 74/100\n",
      "600/600 [==============================] - 2s 3ms/step - loss: 1.4029e-06 - accuracy: 1.0000\n",
      "Epoch 75/100\n",
      "600/600 [==============================] - 2s 3ms/step - loss: 1.3894e-06 - accuracy: 1.0000\n",
      "Epoch 76/100\n",
      "600/600 [==============================] - 2s 3ms/step - loss: 1.3761e-06 - accuracy: 1.0000\n",
      "Epoch 77/100\n",
      "600/600 [==============================] - 2s 3ms/step - loss: 1.3631e-06 - accuracy: 1.0000\n",
      "Epoch 78/100\n",
      "600/600 [==============================] - 2s 3ms/step - loss: 1.3503e-06 - accuracy: 1.0000\n",
      "Epoch 79/100\n",
      "600/600 [==============================] - 2s 3ms/step - loss: 1.3377e-06 - accuracy: 1.0000\n",
      "Epoch 80/100\n",
      "600/600 [==============================] - 2s 3ms/step - loss: 1.3253e-06 - accuracy: 1.0000\n",
      "Epoch 81/100\n",
      "600/600 [==============================] - 2s 3ms/step - loss: 1.3132e-06 - accuracy: 1.0000\n",
      "Epoch 82/100\n",
      "600/600 [==============================] - 2s 3ms/step - loss: 1.3013e-06 - accuracy: 1.0000\n",
      "Epoch 83/100\n",
      "600/600 [==============================] - 2s 3ms/step - loss: 1.2895e-06 - accuracy: 1.0000\n",
      "Epoch 84/100\n",
      "600/600 [==============================] - 2s 3ms/step - loss: 1.2780e-06 - accuracy: 1.0000\n",
      "Epoch 85/100\n",
      "600/600 [==============================] - 2s 3ms/step - loss: 1.2667e-06 - accuracy: 1.0000\n",
      "Epoch 86/100\n",
      "600/600 [==============================] - 2s 3ms/step - loss: 1.2555e-06 - accuracy: 1.0000\n",
      "Epoch 87/100\n",
      "600/600 [==============================] - 2s 3ms/step - loss: 1.2446e-06 - accuracy: 1.0000\n",
      "Epoch 88/100\n",
      "600/600 [==============================] - 2s 3ms/step - loss: 1.2338e-06 - accuracy: 1.0000\n",
      "Epoch 89/100\n",
      "600/600 [==============================] - 2s 3ms/step - loss: 1.2232e-06 - accuracy: 1.0000\n",
      "Epoch 90/100\n",
      "600/600 [==============================] - 2s 3ms/step - loss: 1.2128e-06 - accuracy: 1.0000\n",
      "Epoch 91/100\n",
      "600/600 [==============================] - 2s 3ms/step - loss: 1.2026e-06 - accuracy: 1.0000\n",
      "Epoch 92/100\n",
      "600/600 [==============================] - 2s 3ms/step - loss: 1.1925e-06 - accuracy: 1.0000\n",
      "Epoch 93/100\n",
      "600/600 [==============================] - 2s 3ms/step - loss: 1.1826e-06 - accuracy: 1.0000\n",
      "Epoch 94/100\n",
      "600/600 [==============================] - 2s 3ms/step - loss: 1.1728e-06 - accuracy: 1.0000\n",
      "Epoch 95/100\n",
      "600/600 [==============================] - 2s 3ms/step - loss: 1.1632e-06 - accuracy: 1.0000\n",
      "Epoch 96/100\n",
      "600/600 [==============================] - 2s 3ms/step - loss: 1.1537e-06 - accuracy: 1.0000\n",
      "Epoch 97/100\n",
      "600/600 [==============================] - 2s 3ms/step - loss: 1.1444e-06 - accuracy: 1.0000\n",
      "Epoch 98/100\n",
      "600/600 [==============================] - 2s 3ms/step - loss: 1.1353e-06 - accuracy: 1.0000\n",
      "Epoch 99/100\n",
      "600/600 [==============================] - 2s 3ms/step - loss: 1.1263e-06 - accuracy: 1.0000\n",
      "Epoch 100/100\n",
      "600/600 [==============================] - 2s 3ms/step - loss: 1.1173e-06 - accuracy: 1.0000\n"
     ]
    },
    {
     "data": {
      "text/plain": [
       "<tensorflow.python.keras.callbacks.History at 0x7f5be2e33080>"
      ]
     },
     "execution_count": 41,
     "metadata": {
      "tags": []
     },
     "output_type": "execute_result"
    }
   ],
   "source": [
    "model.fit(x_train,y_train,batch_size=100,epochs=100)"
   ]
  },
  {
   "cell_type": "code",
   "execution_count": 42,
   "metadata": {
    "colab": {
     "base_uri": "https://localhost:8080/",
     "height": 298
    },
    "colab_type": "code",
    "id": "YIVAkG6gLM70",
    "outputId": "ec0ebde1-b6eb-4a83-e8aa-ba09efd43159"
   },
   "outputs": [
    {
     "name": "stdout",
     "output_type": "stream",
     "text": [
      "預測結果是: T-shirt/top\n"
     ]
    },
    {
     "data": {
      "text/plain": [
       "<matplotlib.image.AxesImage at 0x7f5bd7823470>"
      ]
     },
     "execution_count": 42,
     "metadata": {
      "tags": []
     },
     "output_type": "execute_result"
    },
    {
     "data": {
      "image/png": "[encoded data removed]",
      "text/plain": [
       "<Figure size 432x288 with 1 Axes>"
      ]
     },
     "metadata": {
      "tags": []
     },
     "output_type": "display_data"
    }
   ],
   "source": [
    "n=4113\n",
    "print('預測結果是:', class_names[result[n]])\n",
    "plt.imshow(x_test[n].reshape(28,28),cmap='Greys')"
   ]
  },
  {
   "cell_type": "code",
   "execution_count": 43,
   "metadata": {
    "colab": {
     "base_uri": "https://localhost:8080/",
     "height": 298
    },
    "colab_type": "code",
    "id": "haIxWYooMLt3",
    "outputId": "8caf33d9-2156-4783-9b07-6802d661f49a"
   },
   "outputs": [
    {
     "name": "stdout",
     "output_type": "stream",
     "text": [
      "預測結果是: T-shirt/top\n"
     ]
    },
    {
     "data": {
      "text/plain": [
       "<matplotlib.image.AxesImage at 0x7f5bdb0105c0>"
      ]
     },
     "execution_count": 43,
     "metadata": {
      "tags": []
     },
     "output_type": "execute_result"
    },
    {
     "data": {
      "image/png": "[encoded data removed]",
      "text/plain": [
       "<Figure size 432x288 with 1 Axes>"
      ]
     },
     "metadata": {
      "tags": []
     },
     "output_type": "display_data"
    }
   ],
   "source": [
    "n=9871\n",
    "print('預測結果是:', class_names[result[n]])\n",
    "plt.imshow(x_test[n].reshape(28,28),cmap='Greys')"
   ]
  },
  {
   "cell_type": "code",
   "execution_count": 44,
   "metadata": {
    "colab": {
     "base_uri": "https://localhost:8080/",
     "height": 298
    },
    "colab_type": "code",
    "id": "wAd8TuqiMN2S",
    "outputId": "b1ca6161-6c76-4450-e62d-abc97e4db29d"
   },
   "outputs": [
    {
     "name": "stdout",
     "output_type": "stream",
     "text": [
      "預測結果是: T-shirt/top\n"
     ]
    },
    {
     "data": {
      "text/plain": [
       "<matplotlib.image.AxesImage at 0x7f5bdaff5e48>"
      ]
     },
     "execution_count": 44,
     "metadata": {
      "tags": []
     },
     "output_type": "execute_result"
    },
    {
     "data": {
      "image/png": "[encoded data removed]",
      "text/plain": [
       "<Figure size 432x288 with 1 Axes>"
      ]
     },
     "metadata": {
      "tags": []
     },
     "output_type": "display_data"
    }
   ],
   "source": [
    "n=1547\n",
    "print('預測結果是:', class_names[result[n]])\n",
    "plt.imshow(x_test[n].reshape(28,28),cmap='Greys')"
   ]
  },
  {
   "cell_type": "code",
   "execution_count": 0,
   "metadata": {
    "colab": {},
    "colab_type": "code",
    "id": "ZH_S8-CcMPhU"
   },
   "outputs": [],
   "source": [
    ""
   ]
  }
 ],
 "metadata": {
  "colab": {
   "name": "Untitled2.ipynb",
   "provenance": []
  },
  "kernelspec": {
   "display_name": "Python 3",
   "name": "python3"
  }
 },
 "nbformat": 4,
 "nbformat_minor": 0
}
