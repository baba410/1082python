{
  "nbformat": 4,
  "nbformat_minor": 0,
  "metadata": {
    "kernelspec": {
      "display_name": "Python 3",
      "language": "python",
      "name": "python3"
    },
    "language_info": {
      "codemirror_mode": {
        "name": "ipython",
        "version": 3
      },
      "file_extension": ".py",
      "mimetype": "text/x-python",
      "name": "python",
      "nbconvert_exporter": "python",
      "pygments_lexer": "ipython3",
      "version": "3.7.3"
    },
    "colab": {
      "name": "for 八澤.ipynb",
      "provenance": [],
      "include_colab_link": true
    }
  },
  "cells": [
    {
      "cell_type": "markdown",
      "metadata": {
        "id": "view-in-github",
        "colab_type": "text"
      },
      "source": [
        "<a href=\"https://colab.research.google.com/github/baba410/1082python/blob/master/for_%E5%85%AB%E6%BE%A4.ipynb\" target=\"_parent\"><img src=\"https://colab.research.google.com/assets/colab-badge.svg\" alt=\"Open In Colab\"/></a>"
      ]
    },
    {
      "cell_type": "code",
      "metadata": {
        "id": "n8o-MyM36d-B",
        "colab_type": "code",
        "colab": {}
      },
      "source": [
        "%matplotlib inline\n",
        "import numpy as np\n",
        "import matplotlib.pyplot as plt\n",
        "import pandas as pd"
      ],
      "execution_count": 0,
      "outputs": []
    },
    {
      "cell_type": "code",
      "metadata": {
        "id": "lEMDBadE807m",
        "colab_type": "code",
        "outputId": "785f9a07-e450-429b-c001-2735690e1b96",
        "colab": {
          "resources": {
            "http://localhost:8080/nbextensions/google.colab/files.js": {
              "data": "Ly8gQ29weXJpZ2h0IDIwMTcgR29vZ2xlIExMQwovLwovLyBMaWNlbnNlZCB1bmRlciB0aGUgQXBhY2hlIExpY2Vuc2UsIFZlcnNpb24gMi4wICh0aGUgIkxpY2Vuc2UiKTsKLy8geW91IG1heSBub3QgdXNlIHRoaXMgZmlsZSBleGNlcHQgaW4gY29tcGxpYW5jZSB3aXRoIHRoZSBMaWNlbnNlLgovLyBZb3UgbWF5IG9idGFpbiBhIGNvcHkgb2YgdGhlIExpY2Vuc2UgYXQKLy8KLy8gICAgICBodHRwOi8vd3d3LmFwYWNoZS5vcmcvbGljZW5zZXMvTElDRU5TRS0yLjAKLy8KLy8gVW5sZXNzIHJlcXVpcmVkIGJ5IGFwcGxpY2FibGUgbGF3IG9yIGFncmVlZCB0byBpbiB3cml0aW5nLCBzb2Z0d2FyZQovLyBkaXN0cmlidXRlZCB1bmRlciB0aGUgTGljZW5zZSBpcyBkaXN0cmlidXRlZCBvbiBhbiAiQVMgSVMiIEJBU0lTLAovLyBXSVRIT1VUIFdBUlJBTlRJRVMgT1IgQ09ORElUSU9OUyBPRiBBTlkgS0lORCwgZWl0aGVyIGV4cHJlc3Mgb3IgaW1wbGllZC4KLy8gU2VlIHRoZSBMaWNlbnNlIGZvciB0aGUgc3BlY2lmaWMgbGFuZ3VhZ2UgZ292ZXJuaW5nIHBlcm1pc3Npb25zIGFuZAovLyBsaW1pdGF0aW9ucyB1bmRlciB0aGUgTGljZW5zZS4KCi8qKgogKiBAZmlsZW92ZXJ2aWV3IEhlbHBlcnMgZm9yIGdvb2dsZS5jb2xhYiBQeXRob24gbW9kdWxlLgogKi8KKGZ1bmN0aW9uKHNjb3BlKSB7CmZ1bmN0aW9uIHNwYW4odGV4dCwgc3R5bGVBdHRyaWJ1dGVzID0ge30pIHsKICBjb25zdCBlbGVtZW50ID0gZG9jdW1lbnQuY3JlYXRlRWxlbWVudCgnc3BhbicpOwogIGVsZW1lbnQudGV4dENvbnRlbnQgPSB0ZXh0OwogIGZvciAoY29uc3Qga2V5IG9mIE9iamVjdC5rZXlzKHN0eWxlQXR0cmlidXRlcykpIHsKICAgIGVsZW1lbnQuc3R5bGVba2V5XSA9IHN0eWxlQXR0cmlidXRlc1trZXldOwogIH0KICByZXR1cm4gZWxlbWVudDsKfQoKLy8gTWF4IG51bWJlciBvZiBieXRlcyB3aGljaCB3aWxsIGJlIHVwbG9hZGVkIGF0IGEgdGltZS4KY29uc3QgTUFYX1BBWUxPQURfU0laRSA9IDEwMCAqIDEwMjQ7Ci8vIE1heCBhbW91bnQgb2YgdGltZSB0byBibG9jayB3YWl0aW5nIGZvciB0aGUgdXNlci4KY29uc3QgRklMRV9DSEFOR0VfVElNRU9VVF9NUyA9IDMwICogMTAwMDsKCmZ1bmN0aW9uIF91cGxvYWRGaWxlcyhpbnB1dElkLCBvdXRwdXRJZCkgewogIGNvbnN0IHN0ZXBzID0gdXBsb2FkRmlsZXNTdGVwKGlucHV0SWQsIG91dHB1dElkKTsKICBjb25zdCBvdXRwdXRFbGVtZW50ID0gZG9jdW1lbnQuZ2V0RWxlbWVudEJ5SWQob3V0cHV0SWQpOwogIC8vIENhY2hlIHN0ZXBzIG9uIHRoZSBvdXRwdXRFbGVtZW50IHRvIG1ha2UgaXQgYXZhaWxhYmxlIGZvciB0aGUgbmV4dCBjYWxsCiAgLy8gdG8gdXBsb2FkRmlsZXNDb250aW51ZSBmcm9tIFB5dGhvbi4KICBvdXRwdXRFbGVtZW50LnN0ZXBzID0gc3RlcHM7CgogIHJldHVybiBfdXBsb2FkRmlsZXNDb250aW51ZShvdXRwdXRJZCk7Cn0KCi8vIFRoaXMgaXMgcm91Z2hseSBhbiBhc3luYyBnZW5lcmF0b3IgKG5vdCBzdXBwb3J0ZWQgaW4gdGhlIGJyb3dzZXIgeWV0KSwKLy8gd2hlcmUgdGhlcmUgYXJlIG11bHRpcGxlIGFzeW5jaHJvbm91cyBzdGVwcyBhbmQgdGhlIFB5dGhvbiBzaWRlIGlzIGdvaW5nCi8vIHRvIHBvbGwgZm9yIGNvbXBsZXRpb24gb2YgZWFjaCBzdGVwLgovLyBUaGlzIHVzZXMgYSBQcm9taXNlIHRvIGJsb2NrIHRoZSBweXRob24gc2lkZSBvbiBjb21wbGV0aW9uIG9mIGVhY2ggc3RlcCwKLy8gdGhlbiBwYXNzZXMgdGhlIHJlc3VsdCBvZiB0aGUgcHJldmlvdXMgc3RlcCBhcyB0aGUgaW5wdXQgdG8gdGhlIG5leHQgc3RlcC4KZnVuY3Rpb24gX3VwbG9hZEZpbGVzQ29udGludWUob3V0cHV0SWQpIHsKICBjb25zdCBvdXRwdXRFbGVtZW50ID0gZG9jdW1lbnQuZ2V0RWxlbWVudEJ5SWQob3V0cHV0SWQpOwogIGNvbnN0IHN0ZXBzID0gb3V0cHV0RWxlbWVudC5zdGVwczsKCiAgY29uc3QgbmV4dCA9IHN0ZXBzLm5leHQob3V0cHV0RWxlbWVudC5sYXN0UHJvbWlzZVZhbHVlKTsKICByZXR1cm4gUHJvbWlzZS5yZXNvbHZlKG5leHQudmFsdWUucHJvbWlzZSkudGhlbigodmFsdWUpID0+IHsKICAgIC8vIENhY2hlIHRoZSBsYXN0IHByb21pc2UgdmFsdWUgdG8gbWFrZSBpdCBhdmFpbGFibGUgdG8gdGhlIG5leHQKICAgIC8vIHN0ZXAgb2YgdGhlIGdlbmVyYXRvci4KICAgIG91dHB1dEVsZW1lbnQubGFzdFByb21pc2VWYWx1ZSA9IHZhbHVlOwogICAgcmV0dXJuIG5leHQudmFsdWUucmVzcG9uc2U7CiAgfSk7Cn0KCi8qKgogKiBHZW5lcmF0b3IgZnVuY3Rpb24gd2hpY2ggaXMgY2FsbGVkIGJldHdlZW4gZWFjaCBhc3luYyBzdGVwIG9mIHRoZSB1cGxvYWQKICogcHJvY2Vzcy4KICogQHBhcmFtIHtzdHJpbmd9IGlucHV0SWQgRWxlbWVudCBJRCBvZiB0aGUgaW5wdXQgZmlsZSBwaWNrZXIgZWxlbWVudC4KICogQHBhcmFtIHtzdHJpbmd9IG91dHB1dElkIEVsZW1lbnQgSUQgb2YgdGhlIG91dHB1dCBkaXNwbGF5LgogKiBAcmV0dXJuIHshSXRlcmFibGU8IU9iamVjdD59IEl0ZXJhYmxlIG9mIG5leHQgc3RlcHMuCiAqLwpmdW5jdGlvbiogdXBsb2FkRmlsZXNTdGVwKGlucHV0SWQsIG91dHB1dElkKSB7CiAgY29uc3QgaW5wdXRFbGVtZW50ID0gZG9jdW1lbnQuZ2V0RWxlbWVudEJ5SWQoaW5wdXRJZCk7CiAgaW5wdXRFbGVtZW50LmRpc2FibGVkID0gZmFsc2U7CgogIGNvbnN0IG91dHB1dEVsZW1lbnQgPSBkb2N1bWVudC5nZXRFbGVtZW50QnlJZChvdXRwdXRJZCk7CiAgb3V0cHV0RWxlbWVudC5pbm5lckhUTUwgPSAnJzsKCiAgY29uc3QgcGlja2VkUHJvbWlzZSA9IG5ldyBQcm9taXNlKChyZXNvbHZlKSA9PiB7CiAgICBpbnB1dEVsZW1lbnQuYWRkRXZlbnRMaXN0ZW5lcignY2hhbmdlJywgKGUpID0+IHsKICAgICAgcmVzb2x2ZShlLnRhcmdldC5maWxlcyk7CiAgICB9KTsKICB9KTsKCiAgY29uc3QgY2FuY2VsID0gZG9jdW1lbnQuY3JlYXRlRWxlbWVudCgnYnV0dG9uJyk7CiAgaW5wdXRFbGVtZW50LnBhcmVudEVsZW1lbnQuYXBwZW5kQ2hpbGQoY2FuY2VsKTsKICBjYW5jZWwudGV4dENvbnRlbnQgPSAnQ2FuY2VsIHVwbG9hZCc7CiAgY29uc3QgY2FuY2VsUHJvbWlzZSA9IG5ldyBQcm9taXNlKChyZXNvbHZlKSA9PiB7CiAgICBjYW5jZWwub25jbGljayA9ICgpID0+IHsKICAgICAgcmVzb2x2ZShudWxsKTsKICAgIH07CiAgfSk7CgogIC8vIENhbmNlbCB1cGxvYWQgaWYgdXNlciBoYXNuJ3QgcGlja2VkIGFueXRoaW5nIGluIHRpbWVvdXQuCiAgY29uc3QgdGltZW91dFByb21pc2UgPSBuZXcgUHJvbWlzZSgocmVzb2x2ZSkgPT4gewogICAgc2V0VGltZW91dCgoKSA9PiB7CiAgICAgIHJlc29sdmUobnVsbCk7CiAgICB9LCBGSUxFX0NIQU5HRV9USU1FT1VUX01TKTsKICB9KTsKCiAgLy8gV2FpdCBmb3IgdGhlIHVzZXIgdG8gcGljayB0aGUgZmlsZXMuCiAgY29uc3QgZmlsZXMgPSB5aWVsZCB7CiAgICBwcm9taXNlOiBQcm9taXNlLnJhY2UoW3BpY2tlZFByb21pc2UsIHRpbWVvdXRQcm9taXNlLCBjYW5jZWxQcm9taXNlXSksCiAgICByZXNwb25zZTogewogICAgICBhY3Rpb246ICdzdGFydGluZycsCiAgICB9CiAgfTsKCiAgaWYgKCFmaWxlcykgewogICAgcmV0dXJuIHsKICAgICAgcmVzcG9uc2U6IHsKICAgICAgICBhY3Rpb246ICdjb21wbGV0ZScsCiAgICAgIH0KICAgIH07CiAgfQoKICBjYW5jZWwucmVtb3ZlKCk7CgogIC8vIERpc2FibGUgdGhlIGlucHV0IGVsZW1lbnQgc2luY2UgZnVydGhlciBwaWNrcyBhcmUgbm90IGFsbG93ZWQuCiAgaW5wdXRFbGVtZW50LmRpc2FibGVkID0gdHJ1ZTsKCiAgZm9yIChjb25zdCBmaWxlIG9mIGZpbGVzKSB7CiAgICBjb25zdCBsaSA9IGRvY3VtZW50LmNyZWF0ZUVsZW1lbnQoJ2xpJyk7CiAgICBsaS5hcHBlbmQoc3BhbihmaWxlLm5hbWUsIHtmb250V2VpZ2h0OiAnYm9sZCd9KSk7CiAgICBsaS5hcHBlbmQoc3BhbigKICAgICAgICBgKCR7ZmlsZS50eXBlIHx8ICduL2EnfSkgLSAke2ZpbGUuc2l6ZX0gYnl0ZXMsIGAgKwogICAgICAgIGBsYXN0IG1vZGlmaWVkOiAkewogICAgICAgICAgICBmaWxlLmxhc3RNb2RpZmllZERhdGUgPyBmaWxlLmxhc3RNb2RpZmllZERhdGUudG9Mb2NhbGVEYXRlU3RyaW5nKCkgOgogICAgICAgICAgICAgICAgICAgICAgICAgICAgICAgICAgICAnbi9hJ30gLSBgKSk7CiAgICBjb25zdCBwZXJjZW50ID0gc3BhbignMCUgZG9uZScpOwogICAgbGkuYXBwZW5kQ2hpbGQocGVyY2VudCk7CgogICAgb3V0cHV0RWxlbWVudC5hcHBlbmRDaGlsZChsaSk7CgogICAgY29uc3QgZmlsZURhdGFQcm9taXNlID0gbmV3IFByb21pc2UoKHJlc29sdmUpID0+IHsKICAgICAgY29uc3QgcmVhZGVyID0gbmV3IEZpbGVSZWFkZXIoKTsKICAgICAgcmVhZGVyLm9ubG9hZCA9IChlKSA9PiB7CiAgICAgICAgcmVzb2x2ZShlLnRhcmdldC5yZXN1bHQpOwogICAgICB9OwogICAgICByZWFkZXIucmVhZEFzQXJyYXlCdWZmZXIoZmlsZSk7CiAgICB9KTsKICAgIC8vIFdhaXQgZm9yIHRoZSBkYXRhIHRvIGJlIHJlYWR5LgogICAgbGV0IGZpbGVEYXRhID0geWllbGQgewogICAgICBwcm9taXNlOiBmaWxlRGF0YVByb21pc2UsCiAgICAgIHJlc3BvbnNlOiB7CiAgICAgICAgYWN0aW9uOiAnY29udGludWUnLAogICAgICB9CiAgICB9OwoKICAgIC8vIFVzZSBhIGNodW5rZWQgc2VuZGluZyB0byBhdm9pZCBtZXNzYWdlIHNpemUgbGltaXRzLiBTZWUgYi82MjExNTY2MC4KICAgIGxldCBwb3NpdGlvbiA9IDA7CiAgICB3aGlsZSAocG9zaXRpb24gPCBmaWxlRGF0YS5ieXRlTGVuZ3RoKSB7CiAgICAgIGNvbnN0IGxlbmd0aCA9IE1hdGgubWluKGZpbGVEYXRhLmJ5dGVMZW5ndGggLSBwb3NpdGlvbiwgTUFYX1BBWUxPQURfU0laRSk7CiAgICAgIGNvbnN0IGNodW5rID0gbmV3IFVpbnQ4QXJyYXkoZmlsZURhdGEsIHBvc2l0aW9uLCBsZW5ndGgpOwogICAgICBwb3NpdGlvbiArPSBsZW5ndGg7CgogICAgICBjb25zdCBiYXNlNjQgPSBidG9hKFN0cmluZy5mcm9tQ2hhckNvZGUuYXBwbHkobnVsbCwgY2h1bmspKTsKICAgICAgeWllbGQgewogICAgICAgIHJlc3BvbnNlOiB7CiAgICAgICAgICBhY3Rpb246ICdhcHBlbmQnLAogICAgICAgICAgZmlsZTogZmlsZS5uYW1lLAogICAgICAgICAgZGF0YTogYmFzZTY0LAogICAgICAgIH0sCiAgICAgIH07CiAgICAgIHBlcmNlbnQudGV4dENvbnRlbnQgPQogICAgICAgICAgYCR7TWF0aC5yb3VuZCgocG9zaXRpb24gLyBmaWxlRGF0YS5ieXRlTGVuZ3RoKSAqIDEwMCl9JSBkb25lYDsKICAgIH0KICB9CgogIC8vIEFsbCBkb25lLgogIHlpZWxkIHsKICAgIHJlc3BvbnNlOiB7CiAgICAgIGFjdGlvbjogJ2NvbXBsZXRlJywKICAgIH0KICB9Owp9CgpzY29wZS5nb29nbGUgPSBzY29wZS5nb29nbGUgfHwge307CnNjb3BlLmdvb2dsZS5jb2xhYiA9IHNjb3BlLmdvb2dsZS5jb2xhYiB8fCB7fTsKc2NvcGUuZ29vZ2xlLmNvbGFiLl9maWxlcyA9IHsKICBfdXBsb2FkRmlsZXMsCiAgX3VwbG9hZEZpbGVzQ29udGludWUsCn07Cn0pKHNlbGYpOwo=",
              "ok": true,
              "headers": [
                [
                  "content-type",
                  "application/javascript"
                ]
              ],
              "status": 200,
              "status_text": ""
            }
          },
          "base_uri": "https://localhost:8080/",
          "height": 74
        }
      },
      "source": [
        "from google.colab import files\n",
        "uploaded = files.upload()"
      ],
      "execution_count": 0,
      "outputs": [
        {
          "output_type": "display_data",
          "data": {
            "text/html": [
              "\n",
              "     <input type=\"file\" id=\"files-e50add7b-567b-423f-be63-bba88e111224\" name=\"files[]\" multiple disabled />\n",
              "     <output id=\"result-e50add7b-567b-423f-be63-bba88e111224\">\n",
              "      Upload widget is only available when the cell has been executed in the\n",
              "      current browser session. Please rerun this cell to enable.\n",
              "      </output>\n",
              "      <script src=\"/nbextensions/google.colab/files.js\"></script> "
            ],
            "text/plain": [
              "<IPython.core.display.HTML object>"
            ]
          },
          "metadata": {
            "tags": []
          }
        },
        {
          "output_type": "stream",
          "text": [
            "Saving 2train_test_data.pickle to 2train_test_data (3).pickle\n"
          ],
          "name": "stdout"
        }
      ]
    },
    {
      "cell_type": "code",
      "metadata": {
        "id": "280YaTP66d-E",
        "colab_type": "code",
        "colab": {}
      },
      "source": [
        "import tensorflow as tf"
      ],
      "execution_count": 0,
      "outputs": []
    },
    {
      "cell_type": "code",
      "metadata": {
        "id": "igzFqtqJ6d-H",
        "colab_type": "code",
        "colab": {}
      },
      "source": [
        "import pickle"
      ],
      "execution_count": 0,
      "outputs": []
    },
    {
      "cell_type": "code",
      "metadata": {
        "id": "Po5NMS3n6d-J",
        "colab_type": "code",
        "colab": {}
      },
      "source": [
        "with open('2train_test_data.pickle','rb') as file:\n",
        "    dic = pickle.load(file)"
      ],
      "execution_count": 0,
      "outputs": []
    },
    {
      "cell_type": "code",
      "metadata": {
        "id": "7bMz5Zyo6d-L",
        "colab_type": "code",
        "colab": {}
      },
      "source": [
        "inputa  = dic['inputa'].astype(np.float32)\n",
        "inputa2 = dic['inputa2'].astype(np.float32)\n",
        "inputb  = dic['inputb'].astype(np.float32)\n",
        "inputb2 = dic['inputb2'].astype(np.float32)\n",
        "inputc  = dic['inputc'].astype(np.float32)\n",
        "inputc2 = dic['inputc2'].astype(np.float32)\n",
        "y_train = dic['y_train'].astype(np.float32)\n",
        "y_test  = dic['y_test'].astype(np.float32)"
      ],
      "execution_count": 0,
      "outputs": []
    },
    {
      "cell_type": "code",
      "metadata": {
        "id": "gR9vbU5x6d-N",
        "colab_type": "code",
        "outputId": "dabb50ce-3147-4eca-93c8-df9f8c5c5e81",
        "colab": {
          "base_uri": "https://localhost:8080/",
          "height": 34
        }
      },
      "source": [
        "dic['inputb'].shape"
      ],
      "execution_count": 0,
      "outputs": [
        {
          "output_type": "execute_result",
          "data": {
            "text/plain": [
              "(8955, 6)"
            ]
          },
          "metadata": {
            "tags": []
          },
          "execution_count": 7
        }
      ]
    },
    {
      "cell_type": "code",
      "metadata": {
        "id": "YgPK85Q_6d-Q",
        "colab_type": "code",
        "colab": {}
      },
      "source": [
        "from tensorflow.keras.utils import to_categorical\n",
        "y_train_ = to_categorical(y_train)\n",
        "y_test_ = to_categorical(y_test)"
      ],
      "execution_count": 0,
      "outputs": []
    },
    {
      "cell_type": "code",
      "metadata": {
        "id": "WzRy99GQ6d-T",
        "colab_type": "code",
        "outputId": "0b740870-68a9-4134-c03e-4779b7e60107",
        "colab": {
          "base_uri": "https://localhost:8080/",
          "height": 34
        }
      },
      "source": [
        "y_train_.shape"
      ],
      "execution_count": 0,
      "outputs": [
        {
          "output_type": "execute_result",
          "data": {
            "text/plain": [
              "(8955, 2)"
            ]
          },
          "metadata": {
            "tags": []
          },
          "execution_count": 9
        }
      ]
    },
    {
      "cell_type": "code",
      "metadata": {
        "id": "el4M_pNo6d-V",
        "colab_type": "code",
        "colab": {}
      },
      "source": [
        "from tensorflow.keras.models import Model\n",
        "from tensorflow.keras.layers import Dense, Conv2D, MaxPooling2D, GRU, Embedding, Flatten, concatenate, Input\n",
        "#Dense for NN, Conv2d Maxpool2d Flatten for CNN , GRU Embedding for RNN , Input concatenate for functional API\n",
        "from tensorflow.keras.optimizers import SGD\n",
        "from tensorflow.keras.optimizers import Adam\n",
        "from tensorflow.keras.layers import Dropout, SpatialDropout1D, Reshape"
      ],
      "execution_count": 0,
      "outputs": []
    },
    {
      "cell_type": "code",
      "metadata": {
        "id": "6OePpMKX6d-X",
        "colab_type": "code",
        "colab": {}
      },
      "source": [
        "from tensorflow.keras.layers import LSTM"
      ],
      "execution_count": 0,
      "outputs": []
    },
    {
      "cell_type": "code",
      "metadata": {
        "id": "q3N9TKFR6d-Z",
        "colab_type": "code",
        "colab": {}
      },
      "source": [
        "# build RNN\n",
        "InputA = Input(shape=(30,))\n",
        "a = Embedding(10000,128)(InputA)\n",
        "a = LSTM(128)(a)\n",
        "a = Dense(25, activation='relu')(a)\n",
        "a = Dense(25, activation='relu')(a)\n",
        "a = Dense(25, activation='relu')(a)\n",
        "a = Dense(25, activation='relu')(a)\n",
        "a = Dense(25, activation='relu')(a)\n",
        "a = Dense(25, activation='relu')(a)\n",
        "a = Model(inputs=InputA , outputs=a)"
      ],
      "execution_count": 0,
      "outputs": []
    },
    {
      "cell_type": "code",
      "metadata": {
        "id": "cImVbn9O6d-b",
        "colab_type": "code",
        "colab": {}
      },
      "source": [
        "# build NN\n",
        "InputB = Input(6,)\n",
        "b = Dense(100, activation='relu')(InputB)\n",
        "b = Dense(25, activation='relu')(b)\n",
        "b = Dense(25, activation='relu')(b)\n",
        "b = Dense(25, activation='relu')(b)\n",
        "b = Dense(25, activation='relu')(b)\n",
        "b = Dense(25, activation='relu')(b)\n",
        "b = Dense(25, activation='relu')(b)\n",
        "b = Model(inputs=InputB, outputs=b)"
      ],
      "execution_count": 0,
      "outputs": []
    },
    {
      "cell_type": "code",
      "metadata": {
        "id": "OPVJ4AQy6d-e",
        "colab_type": "code",
        "colab": {}
      },
      "source": [
        "# build CNN\n",
        "InputC = Input(shape=(48,48,3,))\n",
        "c = Conv2D(16, (3,3), padding='same', activation = 'relu')(InputC)\n",
        "c = MaxPooling2D(pool_size=(2,2))(c)\n",
        "c = Conv2D(32, (3,3), padding='same', activation = 'relu')(c)\n",
        "c = MaxPooling2D(pool_size=(2,2))(c)\n",
        "c = Conv2D(64, (3,3), padding='same', activation = 'relu')(c)\n",
        "c = MaxPooling2D(pool_size=(2,2))(c)\n",
        "c = Conv2D(128, (3,3), padding='same', activation = 'relu')(c)\n",
        "c = MaxPooling2D(pool_size=(2,2))(c)\n",
        "c = Flatten()(c)\n",
        "c = Dense(25, activation='relu')(c)\n",
        "c = Model(inputs=InputC, outputs=c)"
      ],
      "execution_count": 0,
      "outputs": []
    },
    {
      "cell_type": "code",
      "metadata": {
        "id": "I5DT1qPd6d-i",
        "colab_type": "code",
        "colab": {}
      },
      "source": [
        "# combine\n",
        "combined = concatenate([a.output, b.output, c.output])\n",
        "d = Dropout(0.2)(combined)\n",
        "d = Dense(10, activation='relu')(combined)\n",
        "d = Dense(20, activation='relu')(d)\n",
        "d = Dense(40, activation='relu')(d)\n",
        "d = Dense(2, activation='softmax')(d)\n",
        "model = Model(inputs=[InputA, InputB, InputC], outputs=d)"
      ],
      "execution_count": 0,
      "outputs": []
    },
    {
      "cell_type": "code",
      "metadata": {
        "id": "OMgFZZ-q6d-j",
        "colab_type": "code",
        "colab": {}
      },
      "source": [
        "model.compile(loss='categorical_crossentropy', optimizer=Adam(), metrics=['accuracy'])"
      ],
      "execution_count": 0,
      "outputs": []
    },
    {
      "cell_type": "code",
      "metadata": {
        "id": "jEqyBLiy6d-m",
        "colab_type": "code",
        "outputId": "9aa69c1d-b894-4c5a-f645-91c0dfeccb74",
        "colab": {
          "base_uri": "https://localhost:8080/",
          "height": 1000
        }
      },
      "source": [
        "model.summary()"
      ],
      "execution_count": 0,
      "outputs": [
        {
          "output_type": "stream",
          "text": [
            "Model: \"model_3\"\n",
            "__________________________________________________________________________________________________\n",
            "Layer (type)                    Output Shape         Param #     Connected to                     \n",
            "==================================================================================================\n",
            "input_3 (InputLayer)            [(None, 48, 48, 3)]  0                                            \n",
            "__________________________________________________________________________________________________\n",
            "conv2d (Conv2D)                 (None, 48, 48, 16)   448         input_3[0][0]                    \n",
            "__________________________________________________________________________________________________\n",
            "input_1 (InputLayer)            [(None, 30)]         0                                            \n",
            "__________________________________________________________________________________________________\n",
            "max_pooling2d (MaxPooling2D)    (None, 24, 24, 16)   0           conv2d[0][0]                     \n",
            "__________________________________________________________________________________________________\n",
            "embedding (Embedding)           (None, 30, 128)      1280000     input_1[0][0]                    \n",
            "__________________________________________________________________________________________________\n",
            "input_2 (InputLayer)            [(None, 6)]          0                                            \n",
            "__________________________________________________________________________________________________\n",
            "conv2d_1 (Conv2D)               (None, 24, 24, 32)   4640        max_pooling2d[0][0]              \n",
            "__________________________________________________________________________________________________\n",
            "lstm (LSTM)                     (None, 128)          131584      embedding[0][0]                  \n",
            "__________________________________________________________________________________________________\n",
            "dense_6 (Dense)                 (None, 100)          700         input_2[0][0]                    \n",
            "__________________________________________________________________________________________________\n",
            "max_pooling2d_1 (MaxPooling2D)  (None, 12, 12, 32)   0           conv2d_1[0][0]                   \n",
            "__________________________________________________________________________________________________\n",
            "dense (Dense)                   (None, 25)           3225        lstm[0][0]                       \n",
            "__________________________________________________________________________________________________\n",
            "dense_7 (Dense)                 (None, 25)           2525        dense_6[0][0]                    \n",
            "__________________________________________________________________________________________________\n",
            "conv2d_2 (Conv2D)               (None, 12, 12, 64)   18496       max_pooling2d_1[0][0]            \n",
            "__________________________________________________________________________________________________\n",
            "dense_1 (Dense)                 (None, 25)           650         dense[0][0]                      \n",
            "__________________________________________________________________________________________________\n",
            "dense_8 (Dense)                 (None, 25)           650         dense_7[0][0]                    \n",
            "__________________________________________________________________________________________________\n",
            "max_pooling2d_2 (MaxPooling2D)  (None, 6, 6, 64)     0           conv2d_2[0][0]                   \n",
            "__________________________________________________________________________________________________\n",
            "dense_2 (Dense)                 (None, 25)           650         dense_1[0][0]                    \n",
            "__________________________________________________________________________________________________\n",
            "dense_9 (Dense)                 (None, 25)           650         dense_8[0][0]                    \n",
            "__________________________________________________________________________________________________\n",
            "conv2d_3 (Conv2D)               (None, 6, 6, 128)    73856       max_pooling2d_2[0][0]            \n",
            "__________________________________________________________________________________________________\n",
            "dense_3 (Dense)                 (None, 25)           650         dense_2[0][0]                    \n",
            "__________________________________________________________________________________________________\n",
            "dense_10 (Dense)                (None, 25)           650         dense_9[0][0]                    \n",
            "__________________________________________________________________________________________________\n",
            "max_pooling2d_3 (MaxPooling2D)  (None, 3, 3, 128)    0           conv2d_3[0][0]                   \n",
            "__________________________________________________________________________________________________\n",
            "dense_4 (Dense)                 (None, 25)           650         dense_3[0][0]                    \n",
            "__________________________________________________________________________________________________\n",
            "dense_11 (Dense)                (None, 25)           650         dense_10[0][0]                   \n",
            "__________________________________________________________________________________________________\n",
            "flatten (Flatten)               (None, 1152)         0           max_pooling2d_3[0][0]            \n",
            "__________________________________________________________________________________________________\n",
            "dense_5 (Dense)                 (None, 25)           650         dense_4[0][0]                    \n",
            "__________________________________________________________________________________________________\n",
            "dense_12 (Dense)                (None, 25)           650         dense_11[0][0]                   \n",
            "__________________________________________________________________________________________________\n",
            "dense_13 (Dense)                (None, 25)           28825       flatten[0][0]                    \n",
            "__________________________________________________________________________________________________\n",
            "concatenate (Concatenate)       (None, 75)           0           dense_5[0][0]                    \n",
            "                                                                 dense_12[0][0]                   \n",
            "                                                                 dense_13[0][0]                   \n",
            "__________________________________________________________________________________________________\n",
            "dense_14 (Dense)                (None, 10)           760         concatenate[0][0]                \n",
            "__________________________________________________________________________________________________\n",
            "dense_15 (Dense)                (None, 20)           220         dense_14[0][0]                   \n",
            "__________________________________________________________________________________________________\n",
            "dense_16 (Dense)                (None, 40)           840         dense_15[0][0]                   \n",
            "__________________________________________________________________________________________________\n",
            "dense_17 (Dense)                (None, 2)            82          dense_16[0][0]                   \n",
            "==================================================================================================\n",
            "Total params: 1,552,701\n",
            "Trainable params: 1,552,701\n",
            "Non-trainable params: 0\n",
            "__________________________________________________________________________________________________\n"
          ],
          "name": "stdout"
        }
      ]
    },
    {
      "cell_type": "code",
      "metadata": {
        "id": "ZywjOcOy6d-n",
        "colab_type": "code",
        "outputId": "5238c662-d12b-4028-e7f1-23a1b4f327aa",
        "colab": {
          "base_uri": "https://localhost:8080/",
          "height": 1000
        }
      },
      "source": [
        "from tensorflow.keras.utils import model_to_dot\n",
        "from IPython.display import SVG\n",
        "SVG(model_to_dot(model,show_shapes=True, dpi=70).create(prog='dot', format='svg'))"
      ],
      "execution_count": 0,
      "outputs": [
        {
          "output_type": "execute_result",
          "data": {
            "text/plain": [
              "<IPython.core.display.SVG object>"
            ],
            "image/svg+xml": "<svg height=\"1264pt\" viewBox=\"0.00 0.00 934.50 1300.00\" width=\"909pt\" xmlns=\"http://www.w3.org/2000/svg\" xmlns:xlink=\"http://www.w3.org/1999/xlink\">\n<g class=\"graph\" id=\"graph0\" transform=\"scale(.9722 .9722) rotate(0) translate(4 1296)\">\n<title>G</title>\n<polygon fill=\"#ffffff\" points=\"-4,4 -4,-1296 930.5,-1296 930.5,4 -4,4\" stroke=\"transparent\"/>\n<!-- 140615522840984 -->\n<g class=\"node\" id=\"node1\">\n<title>140615522840984</title>\n<polygon fill=\"none\" points=\"40,-1245.5 40,-1291.5 332,-1291.5 332,-1245.5 40,-1245.5\" stroke=\"#000000\"/>\n<text fill=\"#000000\" font-family=\"Times,serif\" font-size=\"14.00\" text-anchor=\"middle\" x=\"106.5\" y=\"-1264.8\">input_3: InputLayer</text>\n<polyline fill=\"none\" points=\"173,-1245.5 173,-1291.5 \" stroke=\"#000000\"/>\n<text fill=\"#000000\" font-family=\"Times,serif\" font-size=\"14.00\" text-anchor=\"middle\" x=\"202\" y=\"-1276.3\">input:</text>\n<polyline fill=\"none\" points=\"173,-1268.5 231,-1268.5 \" stroke=\"#000000\"/>\n<text fill=\"#000000\" font-family=\"Times,serif\" font-size=\"14.00\" text-anchor=\"middle\" x=\"202\" y=\"-1253.3\">output:</text>\n<polyline fill=\"none\" points=\"231,-1245.5 231,-1291.5 \" stroke=\"#000000\"/>\n<text fill=\"#000000\" font-family=\"Times,serif\" font-size=\"14.00\" text-anchor=\"middle\" x=\"281.5\" y=\"-1276.3\">[(?, 48, 48, 3)]</text>\n<polyline fill=\"none\" points=\"231,-1268.5 332,-1268.5 \" stroke=\"#000000\"/>\n<text fill=\"#000000\" font-family=\"Times,serif\" font-size=\"14.00\" text-anchor=\"middle\" x=\"281.5\" y=\"-1253.3\">[(?, 48, 48, 3)]</text>\n</g>\n<!-- 140615522841488 -->\n<g class=\"node\" id=\"node2\">\n<title>140615522841488</title>\n<polygon fill=\"none\" points=\"48.5,-1162.5 48.5,-1208.5 323.5,-1208.5 323.5,-1162.5 48.5,-1162.5\" stroke=\"#000000\"/>\n<text fill=\"#000000\" font-family=\"Times,serif\" font-size=\"14.00\" text-anchor=\"middle\" x=\"107.5\" y=\"-1181.8\">conv2d: Conv2D</text>\n<polyline fill=\"none\" points=\"166.5,-1162.5 166.5,-1208.5 \" stroke=\"#000000\"/>\n<text fill=\"#000000\" font-family=\"Times,serif\" font-size=\"14.00\" text-anchor=\"middle\" x=\"195.5\" y=\"-1193.3\">input:</text>\n<polyline fill=\"none\" points=\"166.5,-1185.5 224.5,-1185.5 \" stroke=\"#000000\"/>\n<text fill=\"#000000\" font-family=\"Times,serif\" font-size=\"14.00\" text-anchor=\"middle\" x=\"195.5\" y=\"-1170.3\">output:</text>\n<polyline fill=\"none\" points=\"224.5,-1162.5 224.5,-1208.5 \" stroke=\"#000000\"/>\n<text fill=\"#000000\" font-family=\"Times,serif\" font-size=\"14.00\" text-anchor=\"middle\" x=\"274\" y=\"-1193.3\">(?, 48, 48, 3)</text>\n<polyline fill=\"none\" points=\"224.5,-1185.5 323.5,-1185.5 \" stroke=\"#000000\"/>\n<text fill=\"#000000\" font-family=\"Times,serif\" font-size=\"14.00\" text-anchor=\"middle\" x=\"274\" y=\"-1170.3\">(?, 48, 48, 16)</text>\n</g>\n<!-- 140615522840984&#45;&gt;140615522841488 -->\n<g class=\"edge\" id=\"edge1\">\n<title>140615522840984-&gt;140615522841488</title>\n<path d=\"M186,-1245.3799C186,-1237.1745 186,-1227.7679 186,-1218.8786\" fill=\"none\" stroke=\"#000000\"/>\n<polygon fill=\"#000000\" points=\"189.5001,-1218.784 186,-1208.784 182.5001,-1218.784 189.5001,-1218.784\" stroke=\"#000000\"/>\n</g>\n<!-- 140615522842328 -->\n<g class=\"node\" id=\"node4\">\n<title>140615522842328</title>\n<polygon fill=\"none\" points=\"4.5,-1079.5 4.5,-1125.5 367.5,-1125.5 367.5,-1079.5 4.5,-1079.5\" stroke=\"#000000\"/>\n<text fill=\"#000000\" font-family=\"Times,serif\" font-size=\"14.00\" text-anchor=\"middle\" x=\"107.5\" y=\"-1098.8\">max_pooling2d: MaxPooling2D</text>\n<polyline fill=\"none\" points=\"210.5,-1079.5 210.5,-1125.5 \" stroke=\"#000000\"/>\n<text fill=\"#000000\" font-family=\"Times,serif\" font-size=\"14.00\" text-anchor=\"middle\" x=\"239.5\" y=\"-1110.3\">input:</text>\n<polyline fill=\"none\" points=\"210.5,-1102.5 268.5,-1102.5 \" stroke=\"#000000\"/>\n<text fill=\"#000000\" font-family=\"Times,serif\" font-size=\"14.00\" text-anchor=\"middle\" x=\"239.5\" y=\"-1087.3\">output:</text>\n<polyline fill=\"none\" points=\"268.5,-1079.5 268.5,-1125.5 \" stroke=\"#000000\"/>\n<text fill=\"#000000\" font-family=\"Times,serif\" font-size=\"14.00\" text-anchor=\"middle\" x=\"318\" y=\"-1110.3\">(?, 48, 48, 16)</text>\n<polyline fill=\"none\" points=\"268.5,-1102.5 367.5,-1102.5 \" stroke=\"#000000\"/>\n<text fill=\"#000000\" font-family=\"Times,serif\" font-size=\"14.00\" text-anchor=\"middle\" x=\"318\" y=\"-1087.3\">(?, 24, 24, 16)</text>\n</g>\n<!-- 140615522841488&#45;&gt;140615522842328 -->\n<g class=\"edge\" id=\"edge2\">\n<title>140615522841488-&gt;140615522842328</title>\n<path d=\"M186,-1162.3799C186,-1154.1745 186,-1144.7679 186,-1135.8786\" fill=\"none\" stroke=\"#000000\"/>\n<polygon fill=\"#000000\" points=\"189.5001,-1135.784 186,-1125.784 182.5001,-1135.784 189.5001,-1135.784\" stroke=\"#000000\"/>\n</g>\n<!-- 140616736159896 -->\n<g class=\"node\" id=\"node3\">\n<title>140616736159896</title>\n<polygon fill=\"none\" points=\"386,-1079.5 386,-1125.5 640,-1125.5 640,-1079.5 386,-1079.5\" stroke=\"#000000\"/>\n<text fill=\"#000000\" font-family=\"Times,serif\" font-size=\"14.00\" text-anchor=\"middle\" x=\"452.5\" y=\"-1098.8\">input_1: InputLayer</text>\n<polyline fill=\"none\" points=\"519,-1079.5 519,-1125.5 \" stroke=\"#000000\"/>\n<text fill=\"#000000\" font-family=\"Times,serif\" font-size=\"14.00\" text-anchor=\"middle\" x=\"548\" y=\"-1110.3\">input:</text>\n<polyline fill=\"none\" points=\"519,-1102.5 577,-1102.5 \" stroke=\"#000000\"/>\n<text fill=\"#000000\" font-family=\"Times,serif\" font-size=\"14.00\" text-anchor=\"middle\" x=\"548\" y=\"-1087.3\">output:</text>\n<polyline fill=\"none\" points=\"577,-1079.5 577,-1125.5 \" stroke=\"#000000\"/>\n<text fill=\"#000000\" font-family=\"Times,serif\" font-size=\"14.00\" text-anchor=\"middle\" x=\"608.5\" y=\"-1110.3\">[(?, 30)]</text>\n<polyline fill=\"none\" points=\"577,-1102.5 640,-1102.5 \" stroke=\"#000000\"/>\n<text fill=\"#000000\" font-family=\"Times,serif\" font-size=\"14.00\" text-anchor=\"middle\" x=\"608.5\" y=\"-1087.3\">[(?, 30)]</text>\n</g>\n<!-- 140615627378584 -->\n<g class=\"node\" id=\"node5\">\n<title>140615627378584</title>\n<polygon fill=\"none\" points=\"363,-996.5 363,-1042.5 661,-1042.5 661,-996.5 363,-996.5\" stroke=\"#000000\"/>\n<text fill=\"#000000\" font-family=\"Times,serif\" font-size=\"14.00\" text-anchor=\"middle\" x=\"441\" y=\"-1015.8\">embedding: Embedding</text>\n<polyline fill=\"none\" points=\"519,-996.5 519,-1042.5 \" stroke=\"#000000\"/>\n<text fill=\"#000000\" font-family=\"Times,serif\" font-size=\"14.00\" text-anchor=\"middle\" x=\"548\" y=\"-1027.3\">input:</text>\n<polyline fill=\"none\" points=\"519,-1019.5 577,-1019.5 \" stroke=\"#000000\"/>\n<text fill=\"#000000\" font-family=\"Times,serif\" font-size=\"14.00\" text-anchor=\"middle\" x=\"548\" y=\"-1004.3\">output:</text>\n<polyline fill=\"none\" points=\"577,-996.5 577,-1042.5 \" stroke=\"#000000\"/>\n<text fill=\"#000000\" font-family=\"Times,serif\" font-size=\"14.00\" text-anchor=\"middle\" x=\"619\" y=\"-1027.3\">(?, 30)</text>\n<polyline fill=\"none\" points=\"577,-1019.5 661,-1019.5 \" stroke=\"#000000\"/>\n<text fill=\"#000000\" font-family=\"Times,serif\" font-size=\"14.00\" text-anchor=\"middle\" x=\"619\" y=\"-1004.3\">(?, 30, 128)</text>\n</g>\n<!-- 140616736159896&#45;&gt;140615627378584 -->\n<g class=\"edge\" id=\"edge3\">\n<title>140616736159896-&gt;140615627378584</title>\n<path d=\"M512.7214,-1079.3799C512.6226,-1071.1745 512.5093,-1061.7679 512.4022,-1052.8786\" fill=\"none\" stroke=\"#000000\"/>\n<polygon fill=\"#000000\" points=\"515.9008,-1052.7411 512.2805,-1042.784 508.9014,-1052.8255 515.9008,-1052.7411\" stroke=\"#000000\"/>\n</g>\n<!-- 140615522844120 -->\n<g class=\"node\" id=\"node7\">\n<title>140615522844120</title>\n<polygon fill=\"none\" points=\"42,-996.5 42,-1042.5 332,-1042.5 332,-996.5 42,-996.5\" stroke=\"#000000\"/>\n<text fill=\"#000000\" font-family=\"Times,serif\" font-size=\"14.00\" text-anchor=\"middle\" x=\"108.5\" y=\"-1015.8\">conv2d_1: Conv2D</text>\n<polyline fill=\"none\" points=\"175,-996.5 175,-1042.5 \" stroke=\"#000000\"/>\n<text fill=\"#000000\" font-family=\"Times,serif\" font-size=\"14.00\" text-anchor=\"middle\" x=\"204\" y=\"-1027.3\">input:</text>\n<polyline fill=\"none\" points=\"175,-1019.5 233,-1019.5 \" stroke=\"#000000\"/>\n<text fill=\"#000000\" font-family=\"Times,serif\" font-size=\"14.00\" text-anchor=\"middle\" x=\"204\" y=\"-1004.3\">output:</text>\n<polyline fill=\"none\" points=\"233,-996.5 233,-1042.5 \" stroke=\"#000000\"/>\n<text fill=\"#000000\" font-family=\"Times,serif\" font-size=\"14.00\" text-anchor=\"middle\" x=\"282.5\" y=\"-1027.3\">(?, 24, 24, 16)</text>\n<polyline fill=\"none\" points=\"233,-1019.5 332,-1019.5 \" stroke=\"#000000\"/>\n<text fill=\"#000000\" font-family=\"Times,serif\" font-size=\"14.00\" text-anchor=\"middle\" x=\"282.5\" y=\"-1004.3\">(?, 24, 24, 32)</text>\n</g>\n<!-- 140615522842328&#45;&gt;140615522844120 -->\n<g class=\"edge\" id=\"edge4\">\n<title>140615522842328-&gt;140615522844120</title>\n<path d=\"M186.2786,-1079.3799C186.3774,-1071.1745 186.4907,-1061.7679 186.5978,-1052.8786\" fill=\"none\" stroke=\"#000000\"/>\n<polygon fill=\"#000000\" points=\"190.0986,-1052.8255 186.7195,-1042.784 183.0992,-1052.7411 190.0986,-1052.8255\" stroke=\"#000000\"/>\n</g>\n<!-- 140615627378528 -->\n<g class=\"node\" id=\"node8\">\n<title>140615627378528</title>\n<polygon fill=\"none\" points=\"397.5,-913.5 397.5,-959.5 626.5,-959.5 626.5,-913.5 397.5,-913.5\" stroke=\"#000000\"/>\n<text fill=\"#000000\" font-family=\"Times,serif\" font-size=\"14.00\" text-anchor=\"middle\" x=\"441\" y=\"-932.8\">lstm: LSTM</text>\n<polyline fill=\"none\" points=\"484.5,-913.5 484.5,-959.5 \" stroke=\"#000000\"/>\n<text fill=\"#000000\" font-family=\"Times,serif\" font-size=\"14.00\" text-anchor=\"middle\" x=\"513.5\" y=\"-944.3\">input:</text>\n<polyline fill=\"none\" points=\"484.5,-936.5 542.5,-936.5 \" stroke=\"#000000\"/>\n<text fill=\"#000000\" font-family=\"Times,serif\" font-size=\"14.00\" text-anchor=\"middle\" x=\"513.5\" y=\"-921.3\">output:</text>\n<polyline fill=\"none\" points=\"542.5,-913.5 542.5,-959.5 \" stroke=\"#000000\"/>\n<text fill=\"#000000\" font-family=\"Times,serif\" font-size=\"14.00\" text-anchor=\"middle\" x=\"584.5\" y=\"-944.3\">(?, 30, 128)</text>\n<polyline fill=\"none\" points=\"542.5,-936.5 626.5,-936.5 \" stroke=\"#000000\"/>\n<text fill=\"#000000\" font-family=\"Times,serif\" font-size=\"14.00\" text-anchor=\"middle\" x=\"584.5\" y=\"-921.3\">(?, 128)</text>\n</g>\n<!-- 140615627378584&#45;&gt;140615627378528 -->\n<g class=\"edge\" id=\"edge5\">\n<title>140615627378584-&gt;140615627378528</title>\n<path d=\"M512,-996.3799C512,-988.1745 512,-978.7679 512,-969.8786\" fill=\"none\" stroke=\"#000000\"/>\n<polygon fill=\"#000000\" points=\"515.5001,-969.784 512,-959.784 508.5001,-969.784 515.5001,-969.784\" stroke=\"#000000\"/>\n</g>\n<!-- 140615662296928 -->\n<g class=\"node\" id=\"node6\">\n<title>140615662296928</title>\n<polygon fill=\"none\" points=\"679.5,-996.5 679.5,-1042.5 926.5,-1042.5 926.5,-996.5 679.5,-996.5\" stroke=\"#000000\"/>\n<text fill=\"#000000\" font-family=\"Times,serif\" font-size=\"14.00\" text-anchor=\"middle\" x=\"746\" y=\"-1015.8\">input_2: InputLayer</text>\n<polyline fill=\"none\" points=\"812.5,-996.5 812.5,-1042.5 \" stroke=\"#000000\"/>\n<text fill=\"#000000\" font-family=\"Times,serif\" font-size=\"14.00\" text-anchor=\"middle\" x=\"841.5\" y=\"-1027.3\">input:</text>\n<polyline fill=\"none\" points=\"812.5,-1019.5 870.5,-1019.5 \" stroke=\"#000000\"/>\n<text fill=\"#000000\" font-family=\"Times,serif\" font-size=\"14.00\" text-anchor=\"middle\" x=\"841.5\" y=\"-1004.3\">output:</text>\n<polyline fill=\"none\" points=\"870.5,-996.5 870.5,-1042.5 \" stroke=\"#000000\"/>\n<text fill=\"#000000\" font-family=\"Times,serif\" font-size=\"14.00\" text-anchor=\"middle\" x=\"898.5\" y=\"-1027.3\">[(?, 6)]</text>\n<polyline fill=\"none\" points=\"870.5,-1019.5 926.5,-1019.5 \" stroke=\"#000000\"/>\n<text fill=\"#000000\" font-family=\"Times,serif\" font-size=\"14.00\" text-anchor=\"middle\" x=\"898.5\" y=\"-1004.3\">[(?, 6)]</text>\n</g>\n<!-- 140615662295864 -->\n<g class=\"node\" id=\"node9\">\n<title>140615662295864</title>\n<polygon fill=\"none\" points=\"666.5,-913.5 666.5,-959.5 893.5,-959.5 893.5,-913.5 666.5,-913.5\" stroke=\"#000000\"/>\n<text fill=\"#000000\" font-family=\"Times,serif\" font-size=\"14.00\" text-anchor=\"middle\" x=\"720\" y=\"-932.8\">dense_6: Dense</text>\n<polyline fill=\"none\" points=\"773.5,-913.5 773.5,-959.5 \" stroke=\"#000000\"/>\n<text fill=\"#000000\" font-family=\"Times,serif\" font-size=\"14.00\" text-anchor=\"middle\" x=\"802.5\" y=\"-944.3\">input:</text>\n<polyline fill=\"none\" points=\"773.5,-936.5 831.5,-936.5 \" stroke=\"#000000\"/>\n<text fill=\"#000000\" font-family=\"Times,serif\" font-size=\"14.00\" text-anchor=\"middle\" x=\"802.5\" y=\"-921.3\">output:</text>\n<polyline fill=\"none\" points=\"831.5,-913.5 831.5,-959.5 \" stroke=\"#000000\"/>\n<text fill=\"#000000\" font-family=\"Times,serif\" font-size=\"14.00\" text-anchor=\"middle\" x=\"862.5\" y=\"-944.3\">(?, 6)</text>\n<polyline fill=\"none\" points=\"831.5,-936.5 893.5,-936.5 \" stroke=\"#000000\"/>\n<text fill=\"#000000\" font-family=\"Times,serif\" font-size=\"14.00\" text-anchor=\"middle\" x=\"862.5\" y=\"-921.3\">(?, 100)</text>\n</g>\n<!-- 140615662296928&#45;&gt;140615662295864 -->\n<g class=\"edge\" id=\"edge6\">\n<title>140615662296928-&gt;140615662295864</title>\n<path d=\"M796.5932,-996.3799C794.2947,-988.0854 791.6561,-978.5633 789.1692,-969.5889\" fill=\"none\" stroke=\"#000000\"/>\n<polygon fill=\"#000000\" points=\"792.4956,-968.4862 786.4522,-959.784 785.7498,-970.3555 792.4956,-968.4862\" stroke=\"#000000\"/>\n</g>\n<!-- 140615522814272 -->\n<g class=\"node\" id=\"node10\">\n<title>140615522814272</title>\n<polygon fill=\"none\" points=\"0,-913.5 0,-959.5 378,-959.5 378,-913.5 0,-913.5\" stroke=\"#000000\"/>\n<text fill=\"#000000\" font-family=\"Times,serif\" font-size=\"14.00\" text-anchor=\"middle\" x=\"110.5\" y=\"-932.8\">max_pooling2d_1: MaxPooling2D</text>\n<polyline fill=\"none\" points=\"221,-913.5 221,-959.5 \" stroke=\"#000000\"/>\n<text fill=\"#000000\" font-family=\"Times,serif\" font-size=\"14.00\" text-anchor=\"middle\" x=\"250\" y=\"-944.3\">input:</text>\n<polyline fill=\"none\" points=\"221,-936.5 279,-936.5 \" stroke=\"#000000\"/>\n<text fill=\"#000000\" font-family=\"Times,serif\" font-size=\"14.00\" text-anchor=\"middle\" x=\"250\" y=\"-921.3\">output:</text>\n<polyline fill=\"none\" points=\"279,-913.5 279,-959.5 \" stroke=\"#000000\"/>\n<text fill=\"#000000\" font-family=\"Times,serif\" font-size=\"14.00\" text-anchor=\"middle\" x=\"328.5\" y=\"-944.3\">(?, 24, 24, 32)</text>\n<polyline fill=\"none\" points=\"279,-936.5 378,-936.5 \" stroke=\"#000000\"/>\n<text fill=\"#000000\" font-family=\"Times,serif\" font-size=\"14.00\" text-anchor=\"middle\" x=\"328.5\" y=\"-921.3\">(?, 12, 12, 32)</text>\n</g>\n<!-- 140615522844120&#45;&gt;140615522814272 -->\n<g class=\"edge\" id=\"edge7\">\n<title>140615522844120-&gt;140615522814272</title>\n<path d=\"M187.5571,-996.3799C187.7548,-988.1745 187.9815,-978.7679 188.1957,-969.8786\" fill=\"none\" stroke=\"#000000\"/>\n<polygon fill=\"#000000\" points=\"191.6969,-969.8655 188.4389,-959.784 184.699,-969.6968 191.6969,-969.8655\" stroke=\"#000000\"/>\n</g>\n<!-- 140615627532440 -->\n<g class=\"node\" id=\"node11\">\n<title>140615627532440</title>\n<polygon fill=\"none\" points=\"406,-830.5 406,-876.5 618,-876.5 618,-830.5 406,-830.5\" stroke=\"#000000\"/>\n<text fill=\"#000000\" font-family=\"Times,serif\" font-size=\"14.00\" text-anchor=\"middle\" x=\"452\" y=\"-849.8\">dense: Dense</text>\n<polyline fill=\"none\" points=\"498,-830.5 498,-876.5 \" stroke=\"#000000\"/>\n<text fill=\"#000000\" font-family=\"Times,serif\" font-size=\"14.00\" text-anchor=\"middle\" x=\"527\" y=\"-861.3\">input:</text>\n<polyline fill=\"none\" points=\"498,-853.5 556,-853.5 \" stroke=\"#000000\"/>\n<text fill=\"#000000\" font-family=\"Times,serif\" font-size=\"14.00\" text-anchor=\"middle\" x=\"527\" y=\"-838.3\">output:</text>\n<polyline fill=\"none\" points=\"556,-830.5 556,-876.5 \" stroke=\"#000000\"/>\n<text fill=\"#000000\" font-family=\"Times,serif\" font-size=\"14.00\" text-anchor=\"middle\" x=\"587\" y=\"-861.3\">(?, 128)</text>\n<polyline fill=\"none\" points=\"556,-853.5 618,-853.5 \" stroke=\"#000000\"/>\n<text fill=\"#000000\" font-family=\"Times,serif\" font-size=\"14.00\" text-anchor=\"middle\" x=\"587\" y=\"-838.3\">(?, 25)</text>\n</g>\n<!-- 140615627378528&#45;&gt;140615627532440 -->\n<g class=\"edge\" id=\"edge8\">\n<title>140615627378528-&gt;140615627532440</title>\n<path d=\"M512,-913.3799C512,-905.1745 512,-895.7679 512,-886.8786\" fill=\"none\" stroke=\"#000000\"/>\n<polygon fill=\"#000000\" points=\"515.5001,-886.784 512,-876.784 508.5001,-886.784 515.5001,-886.784\" stroke=\"#000000\"/>\n</g>\n<!-- 140615662296816 -->\n<g class=\"node\" id=\"node12\">\n<title>140615662296816</title>\n<polygon fill=\"none\" points=\"664.5,-830.5 664.5,-876.5 891.5,-876.5 891.5,-830.5 664.5,-830.5\" stroke=\"#000000\"/>\n<text fill=\"#000000\" font-family=\"Times,serif\" font-size=\"14.00\" text-anchor=\"middle\" x=\"718\" y=\"-849.8\">dense_7: Dense</text>\n<polyline fill=\"none\" points=\"771.5,-830.5 771.5,-876.5 \" stroke=\"#000000\"/>\n<text fill=\"#000000\" font-family=\"Times,serif\" font-size=\"14.00\" text-anchor=\"middle\" x=\"800.5\" y=\"-861.3\">input:</text>\n<polyline fill=\"none\" points=\"771.5,-853.5 829.5,-853.5 \" stroke=\"#000000\"/>\n<text fill=\"#000000\" font-family=\"Times,serif\" font-size=\"14.00\" text-anchor=\"middle\" x=\"800.5\" y=\"-838.3\">output:</text>\n<polyline fill=\"none\" points=\"829.5,-830.5 829.5,-876.5 \" stroke=\"#000000\"/>\n<text fill=\"#000000\" font-family=\"Times,serif\" font-size=\"14.00\" text-anchor=\"middle\" x=\"860.5\" y=\"-861.3\">(?, 100)</text>\n<polyline fill=\"none\" points=\"829.5,-853.5 891.5,-853.5 \" stroke=\"#000000\"/>\n<text fill=\"#000000\" font-family=\"Times,serif\" font-size=\"14.00\" text-anchor=\"middle\" x=\"860.5\" y=\"-838.3\">(?, 25)</text>\n</g>\n<!-- 140615662295864&#45;&gt;140615662296816 -->\n<g class=\"edge\" id=\"edge9\">\n<title>140615662295864-&gt;140615662296816</title>\n<path d=\"M779.4429,-913.3799C779.2452,-905.1745 779.0185,-895.7679 778.8043,-886.8786\" fill=\"none\" stroke=\"#000000\"/>\n<polygon fill=\"#000000\" points=\"782.301,-886.6968 778.5611,-876.784 775.3031,-886.8655 782.301,-886.6968\" stroke=\"#000000\"/>\n</g>\n<!-- 140615627660480 -->\n<g class=\"node\" id=\"node13\">\n<title>140615627660480</title>\n<polygon fill=\"none\" points=\"46,-830.5 46,-876.5 336,-876.5 336,-830.5 46,-830.5\" stroke=\"#000000\"/>\n<text fill=\"#000000\" font-family=\"Times,serif\" font-size=\"14.00\" text-anchor=\"middle\" x=\"112.5\" y=\"-849.8\">conv2d_2: Conv2D</text>\n<polyline fill=\"none\" points=\"179,-830.5 179,-876.5 \" stroke=\"#000000\"/>\n<text fill=\"#000000\" font-family=\"Times,serif\" font-size=\"14.00\" text-anchor=\"middle\" x=\"208\" y=\"-861.3\">input:</text>\n<polyline fill=\"none\" points=\"179,-853.5 237,-853.5 \" stroke=\"#000000\"/>\n<text fill=\"#000000\" font-family=\"Times,serif\" font-size=\"14.00\" text-anchor=\"middle\" x=\"208\" y=\"-838.3\">output:</text>\n<polyline fill=\"none\" points=\"237,-830.5 237,-876.5 \" stroke=\"#000000\"/>\n<text fill=\"#000000\" font-family=\"Times,serif\" font-size=\"14.00\" text-anchor=\"middle\" x=\"286.5\" y=\"-861.3\">(?, 12, 12, 32)</text>\n<polyline fill=\"none\" points=\"237,-853.5 336,-853.5 \" stroke=\"#000000\"/>\n<text fill=\"#000000\" font-family=\"Times,serif\" font-size=\"14.00\" text-anchor=\"middle\" x=\"286.5\" y=\"-838.3\">(?, 12, 12, 64)</text>\n</g>\n<!-- 140615522814272&#45;&gt;140615627660480 -->\n<g class=\"edge\" id=\"edge10\">\n<title>140615522814272-&gt;140615627660480</title>\n<path d=\"M189.5571,-913.3799C189.7548,-905.1745 189.9815,-895.7679 190.1957,-886.8786\" fill=\"none\" stroke=\"#000000\"/>\n<polygon fill=\"#000000\" points=\"193.6969,-886.8655 190.4389,-876.784 186.699,-886.6968 193.6969,-886.8655\" stroke=\"#000000\"/>\n</g>\n<!-- 140615523577136 -->\n<g class=\"node\" id=\"node14\">\n<title>140615523577136</title>\n<polygon fill=\"none\" points=\"402.5,-747.5 402.5,-793.5 621.5,-793.5 621.5,-747.5 402.5,-747.5\" stroke=\"#000000\"/>\n<text fill=\"#000000\" font-family=\"Times,serif\" font-size=\"14.00\" text-anchor=\"middle\" x=\"456\" y=\"-766.8\">dense_1: Dense</text>\n<polyline fill=\"none\" points=\"509.5,-747.5 509.5,-793.5 \" stroke=\"#000000\"/>\n<text fill=\"#000000\" font-family=\"Times,serif\" font-size=\"14.00\" text-anchor=\"middle\" x=\"538.5\" y=\"-778.3\">input:</text>\n<polyline fill=\"none\" points=\"509.5,-770.5 567.5,-770.5 \" stroke=\"#000000\"/>\n<text fill=\"#000000\" font-family=\"Times,serif\" font-size=\"14.00\" text-anchor=\"middle\" x=\"538.5\" y=\"-755.3\">output:</text>\n<polyline fill=\"none\" points=\"567.5,-747.5 567.5,-793.5 \" stroke=\"#000000\"/>\n<text fill=\"#000000\" font-family=\"Times,serif\" font-size=\"14.00\" text-anchor=\"middle\" x=\"594.5\" y=\"-778.3\">(?, 25)</text>\n<polyline fill=\"none\" points=\"567.5,-770.5 621.5,-770.5 \" stroke=\"#000000\"/>\n<text fill=\"#000000\" font-family=\"Times,serif\" font-size=\"14.00\" text-anchor=\"middle\" x=\"594.5\" y=\"-755.3\">(?, 25)</text>\n</g>\n<!-- 140615627532440&#45;&gt;140615523577136 -->\n<g class=\"edge\" id=\"edge11\">\n<title>140615627532440-&gt;140615523577136</title>\n<path d=\"M512,-830.3799C512,-822.1745 512,-812.7679 512,-803.8786\" fill=\"none\" stroke=\"#000000\"/>\n<polygon fill=\"#000000\" points=\"515.5001,-803.784 512,-793.784 508.5001,-803.784 515.5001,-803.784\" stroke=\"#000000\"/>\n</g>\n<!-- 140615662293960 -->\n<g class=\"node\" id=\"node15\">\n<title>140615662293960</title>\n<polygon fill=\"none\" points=\"667.5,-747.5 667.5,-793.5 886.5,-793.5 886.5,-747.5 667.5,-747.5\" stroke=\"#000000\"/>\n<text fill=\"#000000\" font-family=\"Times,serif\" font-size=\"14.00\" text-anchor=\"middle\" x=\"721\" y=\"-766.8\">dense_8: Dense</text>\n<polyline fill=\"none\" points=\"774.5,-747.5 774.5,-793.5 \" stroke=\"#000000\"/>\n<text fill=\"#000000\" font-family=\"Times,serif\" font-size=\"14.00\" text-anchor=\"middle\" x=\"803.5\" y=\"-778.3\">input:</text>\n<polyline fill=\"none\" points=\"774.5,-770.5 832.5,-770.5 \" stroke=\"#000000\"/>\n<text fill=\"#000000\" font-family=\"Times,serif\" font-size=\"14.00\" text-anchor=\"middle\" x=\"803.5\" y=\"-755.3\">output:</text>\n<polyline fill=\"none\" points=\"832.5,-747.5 832.5,-793.5 \" stroke=\"#000000\"/>\n<text fill=\"#000000\" font-family=\"Times,serif\" font-size=\"14.00\" text-anchor=\"middle\" x=\"859.5\" y=\"-778.3\">(?, 25)</text>\n<polyline fill=\"none\" points=\"832.5,-770.5 886.5,-770.5 \" stroke=\"#000000\"/>\n<text fill=\"#000000\" font-family=\"Times,serif\" font-size=\"14.00\" text-anchor=\"middle\" x=\"859.5\" y=\"-755.3\">(?, 25)</text>\n</g>\n<!-- 140615662296816&#45;&gt;140615662293960 -->\n<g class=\"edge\" id=\"edge12\">\n<title>140615662296816-&gt;140615662293960</title>\n<path d=\"M777.7214,-830.3799C777.6226,-822.1745 777.5093,-812.7679 777.4022,-803.8786\" fill=\"none\" stroke=\"#000000\"/>\n<polygon fill=\"#000000\" points=\"780.9008,-803.7411 777.2805,-793.784 773.9014,-803.8255 780.9008,-803.7411\" stroke=\"#000000\"/>\n</g>\n<!-- 140615522385760 -->\n<g class=\"node\" id=\"node16\">\n<title>140615522385760</title>\n<polygon fill=\"none\" points=\"4,-747.5 4,-793.5 382,-793.5 382,-747.5 4,-747.5\" stroke=\"#000000\"/>\n<text fill=\"#000000\" font-family=\"Times,serif\" font-size=\"14.00\" text-anchor=\"middle\" x=\"114.5\" y=\"-766.8\">max_pooling2d_2: MaxPooling2D</text>\n<polyline fill=\"none\" points=\"225,-747.5 225,-793.5 \" stroke=\"#000000\"/>\n<text fill=\"#000000\" font-family=\"Times,serif\" font-size=\"14.00\" text-anchor=\"middle\" x=\"254\" y=\"-778.3\">input:</text>\n<polyline fill=\"none\" points=\"225,-770.5 283,-770.5 \" stroke=\"#000000\"/>\n<text fill=\"#000000\" font-family=\"Times,serif\" font-size=\"14.00\" text-anchor=\"middle\" x=\"254\" y=\"-755.3\">output:</text>\n<polyline fill=\"none\" points=\"283,-747.5 283,-793.5 \" stroke=\"#000000\"/>\n<text fill=\"#000000\" font-family=\"Times,serif\" font-size=\"14.00\" text-anchor=\"middle\" x=\"332.5\" y=\"-778.3\">(?, 12, 12, 64)</text>\n<polyline fill=\"none\" points=\"283,-770.5 382,-770.5 \" stroke=\"#000000\"/>\n<text fill=\"#000000\" font-family=\"Times,serif\" font-size=\"14.00\" text-anchor=\"middle\" x=\"332.5\" y=\"-755.3\">(?, 6, 6, 64)</text>\n</g>\n<!-- 140615627660480&#45;&gt;140615522385760 -->\n<g class=\"edge\" id=\"edge13\">\n<title>140615627660480-&gt;140615522385760</title>\n<path d=\"M191.5571,-830.3799C191.7548,-822.1745 191.9815,-812.7679 192.1957,-803.8786\" fill=\"none\" stroke=\"#000000\"/>\n<polygon fill=\"#000000\" points=\"195.6969,-803.8655 192.4389,-793.784 188.699,-803.6968 195.6969,-803.8655\" stroke=\"#000000\"/>\n</g>\n<!-- 140615523555760 -->\n<g class=\"node\" id=\"node17\">\n<title>140615523555760</title>\n<polygon fill=\"none\" points=\"402.5,-664.5 402.5,-710.5 621.5,-710.5 621.5,-664.5 402.5,-664.5\" stroke=\"#000000\"/>\n<text fill=\"#000000\" font-family=\"Times,serif\" font-size=\"14.00\" text-anchor=\"middle\" x=\"456\" y=\"-683.8\">dense_2: Dense</text>\n<polyline fill=\"none\" points=\"509.5,-664.5 509.5,-710.5 \" stroke=\"#000000\"/>\n<text fill=\"#000000\" font-family=\"Times,serif\" font-size=\"14.00\" text-anchor=\"middle\" x=\"538.5\" y=\"-695.3\">input:</text>\n<polyline fill=\"none\" points=\"509.5,-687.5 567.5,-687.5 \" stroke=\"#000000\"/>\n<text fill=\"#000000\" font-family=\"Times,serif\" font-size=\"14.00\" text-anchor=\"middle\" x=\"538.5\" y=\"-672.3\">output:</text>\n<polyline fill=\"none\" points=\"567.5,-664.5 567.5,-710.5 \" stroke=\"#000000\"/>\n<text fill=\"#000000\" font-family=\"Times,serif\" font-size=\"14.00\" text-anchor=\"middle\" x=\"594.5\" y=\"-695.3\">(?, 25)</text>\n<polyline fill=\"none\" points=\"567.5,-687.5 621.5,-687.5 \" stroke=\"#000000\"/>\n<text fill=\"#000000\" font-family=\"Times,serif\" font-size=\"14.00\" text-anchor=\"middle\" x=\"594.5\" y=\"-672.3\">(?, 25)</text>\n</g>\n<!-- 140615523577136&#45;&gt;140615523555760 -->\n<g class=\"edge\" id=\"edge14\">\n<title>140615523577136-&gt;140615523555760</title>\n<path d=\"M512,-747.3799C512,-739.1745 512,-729.7679 512,-720.8786\" fill=\"none\" stroke=\"#000000\"/>\n<polygon fill=\"#000000\" points=\"515.5001,-720.784 512,-710.784 508.5001,-720.784 515.5001,-720.784\" stroke=\"#000000\"/>\n</g>\n<!-- 140615662293456 -->\n<g class=\"node\" id=\"node18\">\n<title>140615662293456</title>\n<polygon fill=\"none\" points=\"666.5,-664.5 666.5,-710.5 885.5,-710.5 885.5,-664.5 666.5,-664.5\" stroke=\"#000000\"/>\n<text fill=\"#000000\" font-family=\"Times,serif\" font-size=\"14.00\" text-anchor=\"middle\" x=\"720\" y=\"-683.8\">dense_9: Dense</text>\n<polyline fill=\"none\" points=\"773.5,-664.5 773.5,-710.5 \" stroke=\"#000000\"/>\n<text fill=\"#000000\" font-family=\"Times,serif\" font-size=\"14.00\" text-anchor=\"middle\" x=\"802.5\" y=\"-695.3\">input:</text>\n<polyline fill=\"none\" points=\"773.5,-687.5 831.5,-687.5 \" stroke=\"#000000\"/>\n<text fill=\"#000000\" font-family=\"Times,serif\" font-size=\"14.00\" text-anchor=\"middle\" x=\"802.5\" y=\"-672.3\">output:</text>\n<polyline fill=\"none\" points=\"831.5,-664.5 831.5,-710.5 \" stroke=\"#000000\"/>\n<text fill=\"#000000\" font-family=\"Times,serif\" font-size=\"14.00\" text-anchor=\"middle\" x=\"858.5\" y=\"-695.3\">(?, 25)</text>\n<polyline fill=\"none\" points=\"831.5,-687.5 885.5,-687.5 \" stroke=\"#000000\"/>\n<text fill=\"#000000\" font-family=\"Times,serif\" font-size=\"14.00\" text-anchor=\"middle\" x=\"858.5\" y=\"-672.3\">(?, 25)</text>\n</g>\n<!-- 140615662293960&#45;&gt;140615662293456 -->\n<g class=\"edge\" id=\"edge15\">\n<title>140615662293960-&gt;140615662293456</title>\n<path d=\"M776.7214,-747.3799C776.6226,-739.1745 776.5093,-729.7679 776.4022,-720.8786\" fill=\"none\" stroke=\"#000000\"/>\n<polygon fill=\"#000000\" points=\"779.9008,-720.7411 776.2805,-710.784 772.9014,-720.8255 779.9008,-720.7411\" stroke=\"#000000\"/>\n</g>\n<!-- 140615522416008 -->\n<g class=\"node\" id=\"node19\">\n<title>140615522416008</title>\n<polygon fill=\"none\" points=\"53.5,-664.5 53.5,-710.5 336.5,-710.5 336.5,-664.5 53.5,-664.5\" stroke=\"#000000\"/>\n<text fill=\"#000000\" font-family=\"Times,serif\" font-size=\"14.00\" text-anchor=\"middle\" x=\"120\" y=\"-683.8\">conv2d_3: Conv2D</text>\n<polyline fill=\"none\" points=\"186.5,-664.5 186.5,-710.5 \" stroke=\"#000000\"/>\n<text fill=\"#000000\" font-family=\"Times,serif\" font-size=\"14.00\" text-anchor=\"middle\" x=\"215.5\" y=\"-695.3\">input:</text>\n<polyline fill=\"none\" points=\"186.5,-687.5 244.5,-687.5 \" stroke=\"#000000\"/>\n<text fill=\"#000000\" font-family=\"Times,serif\" font-size=\"14.00\" text-anchor=\"middle\" x=\"215.5\" y=\"-672.3\">output:</text>\n<polyline fill=\"none\" points=\"244.5,-664.5 244.5,-710.5 \" stroke=\"#000000\"/>\n<text fill=\"#000000\" font-family=\"Times,serif\" font-size=\"14.00\" text-anchor=\"middle\" x=\"290.5\" y=\"-695.3\">(?, 6, 6, 64)</text>\n<polyline fill=\"none\" points=\"244.5,-687.5 336.5,-687.5 \" stroke=\"#000000\"/>\n<text fill=\"#000000\" font-family=\"Times,serif\" font-size=\"14.00\" text-anchor=\"middle\" x=\"290.5\" y=\"-672.3\">(?, 6, 6, 128)</text>\n</g>\n<!-- 140615522385760&#45;&gt;140615522416008 -->\n<g class=\"edge\" id=\"edge16\">\n<title>140615522385760-&gt;140615522416008</title>\n<path d=\"M193.5571,-747.3799C193.7548,-739.1745 193.9815,-729.7679 194.1957,-720.8786\" fill=\"none\" stroke=\"#000000\"/>\n<polygon fill=\"#000000\" points=\"197.6969,-720.8655 194.4389,-710.784 190.699,-720.6968 197.6969,-720.8655\" stroke=\"#000000\"/>\n</g>\n<!-- 140615628085848 -->\n<g class=\"node\" id=\"node20\">\n<title>140615628085848</title>\n<polygon fill=\"none\" points=\"402.5,-581.5 402.5,-627.5 621.5,-627.5 621.5,-581.5 402.5,-581.5\" stroke=\"#000000\"/>\n<text fill=\"#000000\" font-family=\"Times,serif\" font-size=\"14.00\" text-anchor=\"middle\" x=\"456\" y=\"-600.8\">dense_3: Dense</text>\n<polyline fill=\"none\" points=\"509.5,-581.5 509.5,-627.5 \" stroke=\"#000000\"/>\n<text fill=\"#000000\" font-family=\"Times,serif\" font-size=\"14.00\" text-anchor=\"middle\" x=\"538.5\" y=\"-612.3\">input:</text>\n<polyline fill=\"none\" points=\"509.5,-604.5 567.5,-604.5 \" stroke=\"#000000\"/>\n<text fill=\"#000000\" font-family=\"Times,serif\" font-size=\"14.00\" text-anchor=\"middle\" x=\"538.5\" y=\"-589.3\">output:</text>\n<polyline fill=\"none\" points=\"567.5,-581.5 567.5,-627.5 \" stroke=\"#000000\"/>\n<text fill=\"#000000\" font-family=\"Times,serif\" font-size=\"14.00\" text-anchor=\"middle\" x=\"594.5\" y=\"-612.3\">(?, 25)</text>\n<polyline fill=\"none\" points=\"567.5,-604.5 621.5,-604.5 \" stroke=\"#000000\"/>\n<text fill=\"#000000\" font-family=\"Times,serif\" font-size=\"14.00\" text-anchor=\"middle\" x=\"594.5\" y=\"-589.3\">(?, 25)</text>\n</g>\n<!-- 140615523555760&#45;&gt;140615628085848 -->\n<g class=\"edge\" id=\"edge17\">\n<title>140615523555760-&gt;140615628085848</title>\n<path d=\"M512,-664.3799C512,-656.1745 512,-646.7679 512,-637.8786\" fill=\"none\" stroke=\"#000000\"/>\n<polygon fill=\"#000000\" points=\"515.5001,-637.784 512,-627.784 508.5001,-637.784 515.5001,-637.784\" stroke=\"#000000\"/>\n</g>\n<!-- 140615668094680 -->\n<g class=\"node\" id=\"node21\">\n<title>140615668094680</title>\n<polygon fill=\"none\" points=\"660,-581.5 660,-627.5 886,-627.5 886,-581.5 660,-581.5\" stroke=\"#000000\"/>\n<text fill=\"#000000\" font-family=\"Times,serif\" font-size=\"14.00\" text-anchor=\"middle\" x=\"717\" y=\"-600.8\">dense_10: Dense</text>\n<polyline fill=\"none\" points=\"774,-581.5 774,-627.5 \" stroke=\"#000000\"/>\n<text fill=\"#000000\" font-family=\"Times,serif\" font-size=\"14.00\" text-anchor=\"middle\" x=\"803\" y=\"-612.3\">input:</text>\n<polyline fill=\"none\" points=\"774,-604.5 832,-604.5 \" stroke=\"#000000\"/>\n<text fill=\"#000000\" font-family=\"Times,serif\" font-size=\"14.00\" text-anchor=\"middle\" x=\"803\" y=\"-589.3\">output:</text>\n<polyline fill=\"none\" points=\"832,-581.5 832,-627.5 \" stroke=\"#000000\"/>\n<text fill=\"#000000\" font-family=\"Times,serif\" font-size=\"14.00\" text-anchor=\"middle\" x=\"859\" y=\"-612.3\">(?, 25)</text>\n<polyline fill=\"none\" points=\"832,-604.5 886,-604.5 \" stroke=\"#000000\"/>\n<text fill=\"#000000\" font-family=\"Times,serif\" font-size=\"14.00\" text-anchor=\"middle\" x=\"859\" y=\"-589.3\">(?, 25)</text>\n</g>\n<!-- 140615662293456&#45;&gt;140615668094680 -->\n<g class=\"edge\" id=\"edge18\">\n<title>140615662293456-&gt;140615668094680</title>\n<path d=\"M775.1643,-664.3799C774.8678,-656.1745 774.5278,-646.7679 774.2065,-637.8786\" fill=\"none\" stroke=\"#000000\"/>\n<polygon fill=\"#000000\" points=\"777.7006,-637.651 773.8416,-627.784 770.7052,-637.9039 777.7006,-637.651\" stroke=\"#000000\"/>\n</g>\n<!-- 140615522444512 -->\n<g class=\"node\" id=\"node22\">\n<title>140615522444512</title>\n<polygon fill=\"none\" points=\"11.5,-581.5 11.5,-627.5 382.5,-627.5 382.5,-581.5 11.5,-581.5\" stroke=\"#000000\"/>\n<text fill=\"#000000\" font-family=\"Times,serif\" font-size=\"14.00\" text-anchor=\"middle\" x=\"122\" y=\"-600.8\">max_pooling2d_3: MaxPooling2D</text>\n<polyline fill=\"none\" points=\"232.5,-581.5 232.5,-627.5 \" stroke=\"#000000\"/>\n<text fill=\"#000000\" font-family=\"Times,serif\" font-size=\"14.00\" text-anchor=\"middle\" x=\"261.5\" y=\"-612.3\">input:</text>\n<polyline fill=\"none\" points=\"232.5,-604.5 290.5,-604.5 \" stroke=\"#000000\"/>\n<text fill=\"#000000\" font-family=\"Times,serif\" font-size=\"14.00\" text-anchor=\"middle\" x=\"261.5\" y=\"-589.3\">output:</text>\n<polyline fill=\"none\" points=\"290.5,-581.5 290.5,-627.5 \" stroke=\"#000000\"/>\n<text fill=\"#000000\" font-family=\"Times,serif\" font-size=\"14.00\" text-anchor=\"middle\" x=\"336.5\" y=\"-612.3\">(?, 6, 6, 128)</text>\n<polyline fill=\"none\" points=\"290.5,-604.5 382.5,-604.5 \" stroke=\"#000000\"/>\n<text fill=\"#000000\" font-family=\"Times,serif\" font-size=\"14.00\" text-anchor=\"middle\" x=\"336.5\" y=\"-589.3\">(?, 3, 3, 128)</text>\n</g>\n<!-- 140615522416008&#45;&gt;140615522444512 -->\n<g class=\"edge\" id=\"edge19\">\n<title>140615522416008-&gt;140615522444512</title>\n<path d=\"M195.5571,-664.3799C195.7548,-656.1745 195.9815,-646.7679 196.1957,-637.8786\" fill=\"none\" stroke=\"#000000\"/>\n<polygon fill=\"#000000\" points=\"199.6969,-637.8655 196.4389,-627.784 192.699,-637.6968 199.6969,-637.8655\" stroke=\"#000000\"/>\n</g>\n<!-- 140615628072440 -->\n<g class=\"node\" id=\"node23\">\n<title>140615628072440</title>\n<polygon fill=\"none\" points=\"402.5,-498.5 402.5,-544.5 621.5,-544.5 621.5,-498.5 402.5,-498.5\" stroke=\"#000000\"/>\n<text fill=\"#000000\" font-family=\"Times,serif\" font-size=\"14.00\" text-anchor=\"middle\" x=\"456\" y=\"-517.8\">dense_4: Dense</text>\n<polyline fill=\"none\" points=\"509.5,-498.5 509.5,-544.5 \" stroke=\"#000000\"/>\n<text fill=\"#000000\" font-family=\"Times,serif\" font-size=\"14.00\" text-anchor=\"middle\" x=\"538.5\" y=\"-529.3\">input:</text>\n<polyline fill=\"none\" points=\"509.5,-521.5 567.5,-521.5 \" stroke=\"#000000\"/>\n<text fill=\"#000000\" font-family=\"Times,serif\" font-size=\"14.00\" text-anchor=\"middle\" x=\"538.5\" y=\"-506.3\">output:</text>\n<polyline fill=\"none\" points=\"567.5,-498.5 567.5,-544.5 \" stroke=\"#000000\"/>\n<text fill=\"#000000\" font-family=\"Times,serif\" font-size=\"14.00\" text-anchor=\"middle\" x=\"594.5\" y=\"-529.3\">(?, 25)</text>\n<polyline fill=\"none\" points=\"567.5,-521.5 621.5,-521.5 \" stroke=\"#000000\"/>\n<text fill=\"#000000\" font-family=\"Times,serif\" font-size=\"14.00\" text-anchor=\"middle\" x=\"594.5\" y=\"-506.3\">(?, 25)</text>\n</g>\n<!-- 140615628085848&#45;&gt;140615628072440 -->\n<g class=\"edge\" id=\"edge20\">\n<title>140615628085848-&gt;140615628072440</title>\n<path d=\"M512,-581.3799C512,-573.1745 512,-563.7679 512,-554.8786\" fill=\"none\" stroke=\"#000000\"/>\n<polygon fill=\"#000000\" points=\"515.5001,-554.784 512,-544.784 508.5001,-554.784 515.5001,-554.784\" stroke=\"#000000\"/>\n</g>\n<!-- 140615668066624 -->\n<g class=\"node\" id=\"node24\">\n<title>140615668066624</title>\n<polygon fill=\"none\" points=\"648.5,-498.5 648.5,-544.5 873.5,-544.5 873.5,-498.5 648.5,-498.5\" stroke=\"#000000\"/>\n<text fill=\"#000000\" font-family=\"Times,serif\" font-size=\"14.00\" text-anchor=\"middle\" x=\"705\" y=\"-517.8\">dense_11: Dense</text>\n<polyline fill=\"none\" points=\"761.5,-498.5 761.5,-544.5 \" stroke=\"#000000\"/>\n<text fill=\"#000000\" font-family=\"Times,serif\" font-size=\"14.00\" text-anchor=\"middle\" x=\"790.5\" y=\"-529.3\">input:</text>\n<polyline fill=\"none\" points=\"761.5,-521.5 819.5,-521.5 \" stroke=\"#000000\"/>\n<text fill=\"#000000\" font-family=\"Times,serif\" font-size=\"14.00\" text-anchor=\"middle\" x=\"790.5\" y=\"-506.3\">output:</text>\n<polyline fill=\"none\" points=\"819.5,-498.5 819.5,-544.5 \" stroke=\"#000000\"/>\n<text fill=\"#000000\" font-family=\"Times,serif\" font-size=\"14.00\" text-anchor=\"middle\" x=\"846.5\" y=\"-529.3\">(?, 25)</text>\n<polyline fill=\"none\" points=\"819.5,-521.5 873.5,-521.5 \" stroke=\"#000000\"/>\n<text fill=\"#000000\" font-family=\"Times,serif\" font-size=\"14.00\" text-anchor=\"middle\" x=\"846.5\" y=\"-506.3\">(?, 25)</text>\n</g>\n<!-- 140615668094680&#45;&gt;140615668066624 -->\n<g class=\"edge\" id=\"edge21\">\n<title>140615668094680-&gt;140615668066624</title>\n<path d=\"M769.6573,-581.3799C768.471,-573.1745 767.111,-563.7679 765.8258,-554.8786\" fill=\"none\" stroke=\"#000000\"/>\n<polygon fill=\"#000000\" points=\"769.2613,-554.1803 764.3664,-544.784 762.3334,-555.1819 769.2613,-554.1803\" stroke=\"#000000\"/>\n</g>\n<!-- 140615522445072 -->\n<g class=\"node\" id=\"node25\">\n<title>140615522445072</title>\n<polygon fill=\"none\" points=\"105,-498.5 105,-544.5 353,-544.5 353,-498.5 105,-498.5\" stroke=\"#000000\"/>\n<text fill=\"#000000\" font-family=\"Times,serif\" font-size=\"14.00\" text-anchor=\"middle\" x=\"154\" y=\"-517.8\">flatten: Flatten</text>\n<polyline fill=\"none\" points=\"203,-498.5 203,-544.5 \" stroke=\"#000000\"/>\n<text fill=\"#000000\" font-family=\"Times,serif\" font-size=\"14.00\" text-anchor=\"middle\" x=\"232\" y=\"-529.3\">input:</text>\n<polyline fill=\"none\" points=\"203,-521.5 261,-521.5 \" stroke=\"#000000\"/>\n<text fill=\"#000000\" font-family=\"Times,serif\" font-size=\"14.00\" text-anchor=\"middle\" x=\"232\" y=\"-506.3\">output:</text>\n<polyline fill=\"none\" points=\"261,-498.5 261,-544.5 \" stroke=\"#000000\"/>\n<text fill=\"#000000\" font-family=\"Times,serif\" font-size=\"14.00\" text-anchor=\"middle\" x=\"307\" y=\"-529.3\">(?, 3, 3, 128)</text>\n<polyline fill=\"none\" points=\"261,-521.5 353,-521.5 \" stroke=\"#000000\"/>\n<text fill=\"#000000\" font-family=\"Times,serif\" font-size=\"14.00\" text-anchor=\"middle\" x=\"307\" y=\"-506.3\">(?, 1152)</text>\n</g>\n<!-- 140615522444512&#45;&gt;140615522445072 -->\n<g class=\"edge\" id=\"edge22\">\n<title>140615522444512-&gt;140615522445072</title>\n<path d=\"M205.9138,-581.3799C209.1461,-572.9962 212.8618,-563.3584 216.3544,-554.2996\" fill=\"none\" stroke=\"#000000\"/>\n<polygon fill=\"#000000\" points=\"219.6913,-555.3737 220.023,-544.784 213.16,-552.8555 219.6913,-555.3737\" stroke=\"#000000\"/>\n</g>\n<!-- 140615628072048 -->\n<g class=\"node\" id=\"node26\">\n<title>140615628072048</title>\n<polygon fill=\"none\" points=\"402.5,-415.5 402.5,-461.5 621.5,-461.5 621.5,-415.5 402.5,-415.5\" stroke=\"#000000\"/>\n<text fill=\"#000000\" font-family=\"Times,serif\" font-size=\"14.00\" text-anchor=\"middle\" x=\"456\" y=\"-434.8\">dense_5: Dense</text>\n<polyline fill=\"none\" points=\"509.5,-415.5 509.5,-461.5 \" stroke=\"#000000\"/>\n<text fill=\"#000000\" font-family=\"Times,serif\" font-size=\"14.00\" text-anchor=\"middle\" x=\"538.5\" y=\"-446.3\">input:</text>\n<polyline fill=\"none\" points=\"509.5,-438.5 567.5,-438.5 \" stroke=\"#000000\"/>\n<text fill=\"#000000\" font-family=\"Times,serif\" font-size=\"14.00\" text-anchor=\"middle\" x=\"538.5\" y=\"-423.3\">output:</text>\n<polyline fill=\"none\" points=\"567.5,-415.5 567.5,-461.5 \" stroke=\"#000000\"/>\n<text fill=\"#000000\" font-family=\"Times,serif\" font-size=\"14.00\" text-anchor=\"middle\" x=\"594.5\" y=\"-446.3\">(?, 25)</text>\n<polyline fill=\"none\" points=\"567.5,-438.5 621.5,-438.5 \" stroke=\"#000000\"/>\n<text fill=\"#000000\" font-family=\"Times,serif\" font-size=\"14.00\" text-anchor=\"middle\" x=\"594.5\" y=\"-423.3\">(?, 25)</text>\n</g>\n<!-- 140615628072440&#45;&gt;140615628072048 -->\n<g class=\"edge\" id=\"edge23\">\n<title>140615628072440-&gt;140615628072048</title>\n<path d=\"M512,-498.3799C512,-490.1745 512,-480.7679 512,-471.8786\" fill=\"none\" stroke=\"#000000\"/>\n<polygon fill=\"#000000\" points=\"515.5001,-471.784 512,-461.784 508.5001,-471.784 515.5001,-471.784\" stroke=\"#000000\"/>\n</g>\n<!-- 140616727441816 -->\n<g class=\"node\" id=\"node27\">\n<title>140616727441816</title>\n<polygon fill=\"none\" points=\"646,-415.5 646,-461.5 872,-461.5 872,-415.5 646,-415.5\" stroke=\"#000000\"/>\n<text fill=\"#000000\" font-family=\"Times,serif\" font-size=\"14.00\" text-anchor=\"middle\" x=\"703\" y=\"-434.8\">dense_12: Dense</text>\n<polyline fill=\"none\" points=\"760,-415.5 760,-461.5 \" stroke=\"#000000\"/>\n<text fill=\"#000000\" font-family=\"Times,serif\" font-size=\"14.00\" text-anchor=\"middle\" x=\"789\" y=\"-446.3\">input:</text>\n<polyline fill=\"none\" points=\"760,-438.5 818,-438.5 \" stroke=\"#000000\"/>\n<text fill=\"#000000\" font-family=\"Times,serif\" font-size=\"14.00\" text-anchor=\"middle\" x=\"789\" y=\"-423.3\">output:</text>\n<polyline fill=\"none\" points=\"818,-415.5 818,-461.5 \" stroke=\"#000000\"/>\n<text fill=\"#000000\" font-family=\"Times,serif\" font-size=\"14.00\" text-anchor=\"middle\" x=\"845\" y=\"-446.3\">(?, 25)</text>\n<polyline fill=\"none\" points=\"818,-438.5 872,-438.5 \" stroke=\"#000000\"/>\n<text fill=\"#000000\" font-family=\"Times,serif\" font-size=\"14.00\" text-anchor=\"middle\" x=\"845\" y=\"-423.3\">(?, 25)</text>\n</g>\n<!-- 140615668066624&#45;&gt;140616727441816 -->\n<g class=\"edge\" id=\"edge24\">\n<title>140615668066624-&gt;140616727441816</title>\n<path d=\"M760.4429,-498.3799C760.2452,-490.1745 760.0185,-480.7679 759.8043,-471.8786\" fill=\"none\" stroke=\"#000000\"/>\n<polygon fill=\"#000000\" points=\"763.301,-471.6968 759.5611,-461.784 756.3031,-471.8655 763.301,-471.6968\" stroke=\"#000000\"/>\n</g>\n<!-- 140615522486984 -->\n<g class=\"node\" id=\"node28\">\n<title>140615522486984</title>\n<polygon fill=\"none\" points=\"127,-415.5 127,-461.5 367,-461.5 367,-415.5 127,-415.5\" stroke=\"#000000\"/>\n<text fill=\"#000000\" font-family=\"Times,serif\" font-size=\"14.00\" text-anchor=\"middle\" x=\"184\" y=\"-434.8\">dense_13: Dense</text>\n<polyline fill=\"none\" points=\"241,-415.5 241,-461.5 \" stroke=\"#000000\"/>\n<text fill=\"#000000\" font-family=\"Times,serif\" font-size=\"14.00\" text-anchor=\"middle\" x=\"270\" y=\"-446.3\">input:</text>\n<polyline fill=\"none\" points=\"241,-438.5 299,-438.5 \" stroke=\"#000000\"/>\n<text fill=\"#000000\" font-family=\"Times,serif\" font-size=\"14.00\" text-anchor=\"middle\" x=\"270\" y=\"-423.3\">output:</text>\n<polyline fill=\"none\" points=\"299,-415.5 299,-461.5 \" stroke=\"#000000\"/>\n<text fill=\"#000000\" font-family=\"Times,serif\" font-size=\"14.00\" text-anchor=\"middle\" x=\"333\" y=\"-446.3\">(?, 1152)</text>\n<polyline fill=\"none\" points=\"299,-438.5 367,-438.5 \" stroke=\"#000000\"/>\n<text fill=\"#000000\" font-family=\"Times,serif\" font-size=\"14.00\" text-anchor=\"middle\" x=\"333\" y=\"-423.3\">(?, 25)</text>\n</g>\n<!-- 140615522445072&#45;&gt;140615522486984 -->\n<g class=\"edge\" id=\"edge25\">\n<title>140615522445072-&gt;140615522486984</title>\n<path d=\"M234.014,-498.3799C235.8128,-490.0854 237.8778,-480.5633 239.8241,-471.5889\" fill=\"none\" stroke=\"#000000\"/>\n<polygon fill=\"#000000\" points=\"243.2515,-472.2987 241.9505,-461.784 236.4105,-470.815 243.2515,-472.2987\" stroke=\"#000000\"/>\n</g>\n<!-- 140616736196368 -->\n<g class=\"node\" id=\"node29\">\n<title>140616736196368</title>\n<polygon fill=\"none\" points=\"326.5,-332.5 326.5,-378.5 697.5,-378.5 697.5,-332.5 326.5,-332.5\" stroke=\"#000000\"/>\n<text fill=\"#000000\" font-family=\"Times,serif\" font-size=\"14.00\" text-anchor=\"middle\" x=\"406.5\" y=\"-351.8\">concatenate: Concatenate</text>\n<polyline fill=\"none\" points=\"486.5,-332.5 486.5,-378.5 \" stroke=\"#000000\"/>\n<text fill=\"#000000\" font-family=\"Times,serif\" font-size=\"14.00\" text-anchor=\"middle\" x=\"515.5\" y=\"-363.3\">input:</text>\n<polyline fill=\"none\" points=\"486.5,-355.5 544.5,-355.5 \" stroke=\"#000000\"/>\n<text fill=\"#000000\" font-family=\"Times,serif\" font-size=\"14.00\" text-anchor=\"middle\" x=\"515.5\" y=\"-340.3\">output:</text>\n<polyline fill=\"none\" points=\"544.5,-332.5 544.5,-378.5 \" stroke=\"#000000\"/>\n<text fill=\"#000000\" font-family=\"Times,serif\" font-size=\"14.00\" text-anchor=\"middle\" x=\"621\" y=\"-363.3\">[(?, 25), (?, 25), (?, 25)]</text>\n<polyline fill=\"none\" points=\"544.5,-355.5 697.5,-355.5 \" stroke=\"#000000\"/>\n<text fill=\"#000000\" font-family=\"Times,serif\" font-size=\"14.00\" text-anchor=\"middle\" x=\"621\" y=\"-340.3\">(?, 75)</text>\n</g>\n<!-- 140615628072048&#45;&gt;140616736196368 -->\n<g class=\"edge\" id=\"edge26\">\n<title>140615628072048-&gt;140616736196368</title>\n<path d=\"M512,-415.3799C512,-407.1745 512,-397.7679 512,-388.8786\" fill=\"none\" stroke=\"#000000\"/>\n<polygon fill=\"#000000\" points=\"515.5001,-388.784 512,-378.784 508.5001,-388.784 515.5001,-388.784\" stroke=\"#000000\"/>\n</g>\n<!-- 140616727441816&#45;&gt;140616736196368 -->\n<g class=\"edge\" id=\"edge27\">\n<title>140616727441816-&gt;140616736196368</title>\n<path d=\"M690.5247,-415.4901C659.4722,-405.0554 622.5858,-392.6604 590.4257,-381.8536\" fill=\"none\" stroke=\"#000000\"/>\n<polygon fill=\"#000000\" points=\"591.2025,-378.4223 580.6085,-378.5547 588.9727,-385.0577 591.2025,-378.4223\" stroke=\"#000000\"/>\n</g>\n<!-- 140615522486984&#45;&gt;140616736196368 -->\n<g class=\"edge\" id=\"edge28\">\n<title>140615522486984-&gt;140616736196368</title>\n<path d=\"M320.4654,-415.4901C354.068,-404.9655 394.0381,-392.4466 428.7502,-381.5745\" fill=\"none\" stroke=\"#000000\"/>\n<polygon fill=\"#000000\" points=\"429.895,-384.8836 438.3917,-378.5547 427.8027,-378.2036 429.895,-384.8836\" stroke=\"#000000\"/>\n</g>\n<!-- 140615522784872 -->\n<g class=\"node\" id=\"node30\">\n<title>140615522784872</title>\n<polygon fill=\"none\" points=\"399,-249.5 399,-295.5 625,-295.5 625,-249.5 399,-249.5\" stroke=\"#000000\"/>\n<text fill=\"#000000\" font-family=\"Times,serif\" font-size=\"14.00\" text-anchor=\"middle\" x=\"456\" y=\"-268.8\">dense_14: Dense</text>\n<polyline fill=\"none\" points=\"513,-249.5 513,-295.5 \" stroke=\"#000000\"/>\n<text fill=\"#000000\" font-family=\"Times,serif\" font-size=\"14.00\" text-anchor=\"middle\" x=\"542\" y=\"-280.3\">input:</text>\n<polyline fill=\"none\" points=\"513,-272.5 571,-272.5 \" stroke=\"#000000\"/>\n<text fill=\"#000000\" font-family=\"Times,serif\" font-size=\"14.00\" text-anchor=\"middle\" x=\"542\" y=\"-257.3\">output:</text>\n<polyline fill=\"none\" points=\"571,-249.5 571,-295.5 \" stroke=\"#000000\"/>\n<text fill=\"#000000\" font-family=\"Times,serif\" font-size=\"14.00\" text-anchor=\"middle\" x=\"598\" y=\"-280.3\">(?, 75)</text>\n<polyline fill=\"none\" points=\"571,-272.5 625,-272.5 \" stroke=\"#000000\"/>\n<text fill=\"#000000\" font-family=\"Times,serif\" font-size=\"14.00\" text-anchor=\"middle\" x=\"598\" y=\"-257.3\">(?, 10)</text>\n</g>\n<!-- 140616736196368&#45;&gt;140615522784872 -->\n<g class=\"edge\" id=\"edge29\">\n<title>140616736196368-&gt;140615522784872</title>\n<path d=\"M512,-332.3799C512,-324.1745 512,-314.7679 512,-305.8786\" fill=\"none\" stroke=\"#000000\"/>\n<polygon fill=\"#000000\" points=\"515.5001,-305.784 512,-295.784 508.5001,-305.784 515.5001,-305.784\" stroke=\"#000000\"/>\n</g>\n<!-- 140615522786272 -->\n<g class=\"node\" id=\"node31\">\n<title>140615522786272</title>\n<polygon fill=\"none\" points=\"399,-166.5 399,-212.5 625,-212.5 625,-166.5 399,-166.5\" stroke=\"#000000\"/>\n<text fill=\"#000000\" font-family=\"Times,serif\" font-size=\"14.00\" text-anchor=\"middle\" x=\"456\" y=\"-185.8\">dense_15: Dense</text>\n<polyline fill=\"none\" points=\"513,-166.5 513,-212.5 \" stroke=\"#000000\"/>\n<text fill=\"#000000\" font-family=\"Times,serif\" font-size=\"14.00\" text-anchor=\"middle\" x=\"542\" y=\"-197.3\">input:</text>\n<polyline fill=\"none\" points=\"513,-189.5 571,-189.5 \" stroke=\"#000000\"/>\n<text fill=\"#000000\" font-family=\"Times,serif\" font-size=\"14.00\" text-anchor=\"middle\" x=\"542\" y=\"-174.3\">output:</text>\n<polyline fill=\"none\" points=\"571,-166.5 571,-212.5 \" stroke=\"#000000\"/>\n<text fill=\"#000000\" font-family=\"Times,serif\" font-size=\"14.00\" text-anchor=\"middle\" x=\"598\" y=\"-197.3\">(?, 10)</text>\n<polyline fill=\"none\" points=\"571,-189.5 625,-189.5 \" stroke=\"#000000\"/>\n<text fill=\"#000000\" font-family=\"Times,serif\" font-size=\"14.00\" text-anchor=\"middle\" x=\"598\" y=\"-174.3\">(?, 20)</text>\n</g>\n<!-- 140615522784872&#45;&gt;140615522786272 -->\n<g class=\"edge\" id=\"edge30\">\n<title>140615522784872-&gt;140615522786272</title>\n<path d=\"M512,-249.3799C512,-241.1745 512,-231.7679 512,-222.8786\" fill=\"none\" stroke=\"#000000\"/>\n<polygon fill=\"#000000\" points=\"515.5001,-222.784 512,-212.784 508.5001,-222.784 515.5001,-222.784\" stroke=\"#000000\"/>\n</g>\n<!-- 140615522159696 -->\n<g class=\"node\" id=\"node32\">\n<title>140615522159696</title>\n<polygon fill=\"none\" points=\"399,-83.5 399,-129.5 625,-129.5 625,-83.5 399,-83.5\" stroke=\"#000000\"/>\n<text fill=\"#000000\" font-family=\"Times,serif\" font-size=\"14.00\" text-anchor=\"middle\" x=\"456\" y=\"-102.8\">dense_16: Dense</text>\n<polyline fill=\"none\" points=\"513,-83.5 513,-129.5 \" stroke=\"#000000\"/>\n<text fill=\"#000000\" font-family=\"Times,serif\" font-size=\"14.00\" text-anchor=\"middle\" x=\"542\" y=\"-114.3\">input:</text>\n<polyline fill=\"none\" points=\"513,-106.5 571,-106.5 \" stroke=\"#000000\"/>\n<text fill=\"#000000\" font-family=\"Times,serif\" font-size=\"14.00\" text-anchor=\"middle\" x=\"542\" y=\"-91.3\">output:</text>\n<polyline fill=\"none\" points=\"571,-83.5 571,-129.5 \" stroke=\"#000000\"/>\n<text fill=\"#000000\" font-family=\"Times,serif\" font-size=\"14.00\" text-anchor=\"middle\" x=\"598\" y=\"-114.3\">(?, 20)</text>\n<polyline fill=\"none\" points=\"571,-106.5 625,-106.5 \" stroke=\"#000000\"/>\n<text fill=\"#000000\" font-family=\"Times,serif\" font-size=\"14.00\" text-anchor=\"middle\" x=\"598\" y=\"-91.3\">(?, 40)</text>\n</g>\n<!-- 140615522786272&#45;&gt;140615522159696 -->\n<g class=\"edge\" id=\"edge31\">\n<title>140615522786272-&gt;140615522159696</title>\n<path d=\"M512,-166.3799C512,-158.1745 512,-148.7679 512,-139.8786\" fill=\"none\" stroke=\"#000000\"/>\n<polygon fill=\"#000000\" points=\"515.5001,-139.784 512,-129.784 508.5001,-139.784 515.5001,-139.784\" stroke=\"#000000\"/>\n</g>\n<!-- 140615522160368 -->\n<g class=\"node\" id=\"node33\">\n<title>140615522160368</title>\n<polygon fill=\"none\" points=\"399,-.5 399,-46.5 625,-46.5 625,-.5 399,-.5\" stroke=\"#000000\"/>\n<text fill=\"#000000\" font-family=\"Times,serif\" font-size=\"14.00\" text-anchor=\"middle\" x=\"456\" y=\"-19.8\">dense_17: Dense</text>\n<polyline fill=\"none\" points=\"513,-.5 513,-46.5 \" stroke=\"#000000\"/>\n<text fill=\"#000000\" font-family=\"Times,serif\" font-size=\"14.00\" text-anchor=\"middle\" x=\"542\" y=\"-31.3\">input:</text>\n<polyline fill=\"none\" points=\"513,-23.5 571,-23.5 \" stroke=\"#000000\"/>\n<text fill=\"#000000\" font-family=\"Times,serif\" font-size=\"14.00\" text-anchor=\"middle\" x=\"542\" y=\"-8.3\">output:</text>\n<polyline fill=\"none\" points=\"571,-.5 571,-46.5 \" stroke=\"#000000\"/>\n<text fill=\"#000000\" font-family=\"Times,serif\" font-size=\"14.00\" text-anchor=\"middle\" x=\"598\" y=\"-31.3\">(?, 40)</text>\n<polyline fill=\"none\" points=\"571,-23.5 625,-23.5 \" stroke=\"#000000\"/>\n<text fill=\"#000000\" font-family=\"Times,serif\" font-size=\"14.00\" text-anchor=\"middle\" x=\"598\" y=\"-8.3\">(?, 2)</text>\n</g>\n<!-- 140615522159696&#45;&gt;140615522160368 -->\n<g class=\"edge\" id=\"edge32\">\n<title>140615522159696-&gt;140615522160368</title>\n<path d=\"M512,-83.3799C512,-75.1745 512,-65.7679 512,-56.8786\" fill=\"none\" stroke=\"#000000\"/>\n<polygon fill=\"#000000\" points=\"515.5001,-56.784 512,-46.784 508.5001,-56.784 515.5001,-56.784\" stroke=\"#000000\"/>\n</g>\n</g>\n</svg>"
          },
          "metadata": {
            "tags": []
          },
          "execution_count": 18
        }
      ]
    },
    {
      "cell_type": "code",
      "metadata": {
        "id": "cY5YoNNy6d-p",
        "colab_type": "code",
        "outputId": "71296593-bfe6-45cd-a7ff-b09e581c859e",
        "colab": {
          "base_uri": "https://localhost:8080/",
          "height": 1000
        }
      },
      "source": [
        "mycallback = [tf.keras.callbacks.History()]\n",
        "history = model.fit([inputa, inputb, inputc], y_train_, batch_size=500, epochs=60,\n",
        "                    callbacks = mycallback,\n",
        "          validation_data=(([inputa2, inputb2, inputc2], y_test_)))"
      ],
      "execution_count": 0,
      "outputs": [
        {
          "output_type": "stream",
          "text": [
            "Epoch 1/60\n",
            "18/18 [==============================] - 27s 2s/step - loss: 1.4554 - accuracy: 0.4960 - val_loss: 0.7176 - val_accuracy: 0.4944\n",
            "Epoch 2/60\n",
            "18/18 [==============================] - 27s 1s/step - loss: 0.7089 - accuracy: 0.4996 - val_loss: 0.7053 - val_accuracy: 0.5056\n",
            "Epoch 3/60\n",
            "18/18 [==============================] - 27s 1s/step - loss: 0.6967 - accuracy: 0.4996 - val_loss: 0.6935 - val_accuracy: 0.5056\n",
            "Epoch 4/60\n",
            "18/18 [==============================] - 27s 1s/step - loss: 0.6933 - accuracy: 0.5094 - val_loss: 0.6949 - val_accuracy: 0.5056\n",
            "Epoch 5/60\n",
            "18/18 [==============================] - 27s 1s/step - loss: 0.6937 - accuracy: 0.5098 - val_loss: 0.6928 - val_accuracy: 0.5056\n",
            "Epoch 6/60\n",
            "18/18 [==============================] - 27s 1s/step - loss: 0.6933 - accuracy: 0.5031 - val_loss: 0.6940 - val_accuracy: 0.4944\n",
            "Epoch 7/60\n",
            "18/18 [==============================] - 27s 1s/step - loss: 0.6931 - accuracy: 0.5076 - val_loss: 0.6940 - val_accuracy: 0.5056\n",
            "Epoch 8/60\n",
            "18/18 [==============================] - 27s 1s/step - loss: 0.6940 - accuracy: 0.5068 - val_loss: 0.6964 - val_accuracy: 0.5056\n",
            "Epoch 9/60\n",
            "18/18 [==============================] - 27s 1s/step - loss: 0.6951 - accuracy: 0.5014 - val_loss: 0.6927 - val_accuracy: 0.5145\n",
            "Epoch 10/60\n",
            "18/18 [==============================] - 27s 1s/step - loss: 0.6933 - accuracy: 0.5049 - val_loss: 0.6926 - val_accuracy: 0.5141\n",
            "Epoch 11/60\n",
            "18/18 [==============================] - 27s 1s/step - loss: 0.6925 - accuracy: 0.5125 - val_loss: 0.6924 - val_accuracy: 0.5163\n",
            "Epoch 12/60\n",
            "18/18 [==============================] - 33s 2s/step - loss: 0.6924 - accuracy: 0.5071 - val_loss: 0.6925 - val_accuracy: 0.5056\n",
            "Epoch 13/60\n",
            "18/18 [==============================] - 27s 1s/step - loss: 0.6918 - accuracy: 0.5200 - val_loss: 0.6920 - val_accuracy: 0.5194\n",
            "Epoch 14/60\n",
            "18/18 [==============================] - 27s 1s/step - loss: 0.6913 - accuracy: 0.5189 - val_loss: 0.6919 - val_accuracy: 0.5056\n",
            "Epoch 15/60\n",
            "18/18 [==============================] - 27s 1s/step - loss: 0.6878 - accuracy: 0.5435 - val_loss: 0.6904 - val_accuracy: 0.5190\n",
            "Epoch 16/60\n",
            "18/18 [==============================] - 27s 1s/step - loss: 0.6917 - accuracy: 0.5128 - val_loss: 0.6915 - val_accuracy: 0.5208\n",
            "Epoch 17/60\n",
            "18/18 [==============================] - 27s 1s/step - loss: 0.6889 - accuracy: 0.5368 - val_loss: 0.6963 - val_accuracy: 0.5056\n",
            "Epoch 18/60\n",
            "18/18 [==============================] - 27s 2s/step - loss: 0.6897 - accuracy: 0.5322 - val_loss: 0.6878 - val_accuracy: 0.5400\n",
            "Epoch 19/60\n",
            "18/18 [==============================] - 27s 1s/step - loss: 0.6837 - accuracy: 0.5474 - val_loss: 0.6781 - val_accuracy: 0.5721\n",
            "Epoch 20/60\n",
            "18/18 [==============================] - 27s 1s/step - loss: 0.6772 - accuracy: 0.5701 - val_loss: 0.6743 - val_accuracy: 0.5636\n",
            "Epoch 21/60\n",
            "18/18 [==============================] - 27s 1s/step - loss: 0.6700 - accuracy: 0.5822 - val_loss: 0.6750 - val_accuracy: 0.5878\n",
            "Epoch 22/60\n",
            "18/18 [==============================] - 27s 1s/step - loss: 0.6628 - accuracy: 0.5934 - val_loss: 0.6753 - val_accuracy: 0.5695\n",
            "Epoch 23/60\n",
            "18/18 [==============================] - 27s 1s/step - loss: 0.6671 - accuracy: 0.5848 - val_loss: 0.6672 - val_accuracy: 0.5806\n",
            "Epoch 24/60\n",
            "18/18 [==============================] - 27s 1s/step - loss: 0.6635 - accuracy: 0.5953 - val_loss: 0.6679 - val_accuracy: 0.5864\n",
            "Epoch 25/60\n",
            "18/18 [==============================] - 27s 1s/step - loss: 0.6648 - accuracy: 0.6065 - val_loss: 0.6699 - val_accuracy: 0.5793\n",
            "Epoch 26/60\n",
            "18/18 [==============================] - 27s 1s/step - loss: 0.6605 - accuracy: 0.6022 - val_loss: 0.6696 - val_accuracy: 0.5846\n",
            "Epoch 27/60\n",
            "18/18 [==============================] - 27s 1s/step - loss: 0.6590 - accuracy: 0.6008 - val_loss: 0.6700 - val_accuracy: 0.5855\n",
            "Epoch 28/60\n",
            "18/18 [==============================] - 27s 1s/step - loss: 0.6566 - accuracy: 0.6080 - val_loss: 0.6653 - val_accuracy: 0.5837\n",
            "Epoch 29/60\n",
            "18/18 [==============================] - 27s 1s/step - loss: 0.6546 - accuracy: 0.6096 - val_loss: 0.6694 - val_accuracy: 0.5851\n",
            "Epoch 30/60\n",
            "18/18 [==============================] - 27s 2s/step - loss: 0.6538 - accuracy: 0.6121 - val_loss: 0.6638 - val_accuracy: 0.5909\n",
            "Epoch 31/60\n",
            "18/18 [==============================] - 27s 1s/step - loss: 0.6540 - accuracy: 0.6106 - val_loss: 0.6665 - val_accuracy: 0.5855\n",
            "Epoch 32/60\n",
            "18/18 [==============================] - 27s 1s/step - loss: 0.6505 - accuracy: 0.6144 - val_loss: 0.6655 - val_accuracy: 0.5806\n",
            "Epoch 33/60\n",
            "18/18 [==============================] - 34s 2s/step - loss: 0.6493 - accuracy: 0.6201 - val_loss: 0.6703 - val_accuracy: 0.5815\n",
            "Epoch 34/60\n",
            "18/18 [==============================] - 27s 1s/step - loss: 0.6465 - accuracy: 0.6217 - val_loss: 0.6708 - val_accuracy: 0.5860\n",
            "Epoch 35/60\n",
            "18/18 [==============================] - 27s 1s/step - loss: 0.6488 - accuracy: 0.6147 - val_loss: 0.6655 - val_accuracy: 0.5922\n",
            "Epoch 36/60\n",
            "18/18 [==============================] - 27s 1s/step - loss: 0.6503 - accuracy: 0.6204 - val_loss: 0.6689 - val_accuracy: 0.5846\n",
            "Epoch 37/60\n",
            "18/18 [==============================] - 27s 1s/step - loss: 0.6452 - accuracy: 0.6217 - val_loss: 0.6686 - val_accuracy: 0.5837\n",
            "Epoch 38/60\n",
            "18/18 [==============================] - 27s 1s/step - loss: 0.6433 - accuracy: 0.6237 - val_loss: 0.6668 - val_accuracy: 0.5882\n",
            "Epoch 39/60\n",
            "18/18 [==============================] - 27s 1s/step - loss: 0.6431 - accuracy: 0.6246 - val_loss: 0.6780 - val_accuracy: 0.5820\n",
            "Epoch 40/60\n",
            "18/18 [==============================] - 27s 1s/step - loss: 0.6414 - accuracy: 0.6241 - val_loss: 0.6739 - val_accuracy: 0.5945\n",
            "Epoch 41/60\n",
            "18/18 [==============================] - 26s 1s/step - loss: 0.6413 - accuracy: 0.6251 - val_loss: 0.6808 - val_accuracy: 0.5878\n",
            "Epoch 42/60\n",
            "18/18 [==============================] - 26s 1s/step - loss: 0.6385 - accuracy: 0.6310 - val_loss: 0.6753 - val_accuracy: 0.5753\n",
            "Epoch 43/60\n",
            "18/18 [==============================] - 26s 1s/step - loss: 0.6363 - accuracy: 0.6299 - val_loss: 0.6759 - val_accuracy: 0.5936\n",
            "Epoch 44/60\n",
            "18/18 [==============================] - 27s 1s/step - loss: 0.6329 - accuracy: 0.6348 - val_loss: 0.6771 - val_accuracy: 0.5739\n",
            "Epoch 45/60\n",
            "18/18 [==============================] - 27s 1s/step - loss: 0.6362 - accuracy: 0.6295 - val_loss: 0.6730 - val_accuracy: 0.5922\n",
            "Epoch 46/60\n",
            "18/18 [==============================] - 27s 1s/step - loss: 0.6310 - accuracy: 0.6361 - val_loss: 0.6780 - val_accuracy: 0.5922\n",
            "Epoch 47/60\n",
            "18/18 [==============================] - 27s 1s/step - loss: 0.6274 - accuracy: 0.6386 - val_loss: 0.6955 - val_accuracy: 0.5788\n",
            "Epoch 48/60\n",
            "18/18 [==============================] - 27s 1s/step - loss: 0.6301 - accuracy: 0.6312 - val_loss: 0.6814 - val_accuracy: 0.5909\n",
            "Epoch 49/60\n",
            "18/18 [==============================] - 27s 1s/step - loss: 0.6241 - accuracy: 0.6430 - val_loss: 0.6833 - val_accuracy: 0.5815\n",
            "Epoch 50/60\n",
            "18/18 [==============================] - 26s 1s/step - loss: 0.6229 - accuracy: 0.6413 - val_loss: 0.6806 - val_accuracy: 0.5721\n",
            "Epoch 51/60\n",
            "18/18 [==============================] - 26s 1s/step - loss: 0.6226 - accuracy: 0.6419 - val_loss: 0.6828 - val_accuracy: 0.5837\n",
            "Epoch 52/60\n",
            "18/18 [==============================] - 27s 1s/step - loss: 0.6156 - accuracy: 0.6422 - val_loss: 0.7051 - val_accuracy: 0.5913\n",
            "Epoch 53/60\n",
            "18/18 [==============================] - 27s 1s/step - loss: 0.6132 - accuracy: 0.6476 - val_loss: 0.6934 - val_accuracy: 0.5730\n",
            "Epoch 54/60\n",
            "18/18 [==============================] - 26s 1s/step - loss: 0.6145 - accuracy: 0.6400 - val_loss: 0.7024 - val_accuracy: 0.5775\n",
            "Epoch 55/60\n",
            "18/18 [==============================] - 31s 2s/step - loss: 0.6187 - accuracy: 0.6393 - val_loss: 0.7007 - val_accuracy: 0.5860\n",
            "Epoch 56/60\n",
            "18/18 [==============================] - 27s 1s/step - loss: 0.6114 - accuracy: 0.6417 - val_loss: 0.7047 - val_accuracy: 0.5851\n",
            "Epoch 57/60\n",
            "18/18 [==============================] - 26s 1s/step - loss: 0.6088 - accuracy: 0.6438 - val_loss: 0.7106 - val_accuracy: 0.5788\n",
            "Epoch 58/60\n",
            "18/18 [==============================] - 26s 1s/step - loss: 0.6078 - accuracy: 0.6432 - val_loss: 0.7152 - val_accuracy: 0.5721\n",
            "Epoch 59/60\n",
            "18/18 [==============================] - 27s 1s/step - loss: 0.6006 - accuracy: 0.6467 - val_loss: 0.7190 - val_accuracy: 0.5828\n",
            "Epoch 60/60\n",
            "18/18 [==============================] - 27s 1s/step - loss: 0.5943 - accuracy: 0.6536 - val_loss: 0.7421 - val_accuracy: 0.5788\n"
          ],
          "name": "stdout"
        }
      ]
    },
    {
      "cell_type": "code",
      "metadata": {
        "id": "cBRqBF0DiouF",
        "colab_type": "code",
        "colab": {}
      },
      "source": [
        "import matplotlib.pyplot as plt"
      ],
      "execution_count": 0,
      "outputs": []
    },
    {
      "cell_type": "code",
      "metadata": {
        "id": "u5FBmtWairnL",
        "colab_type": "code",
        "outputId": "d8cf24ca-d222-4f5c-d8f4-50143da7309f",
        "colab": {
          "base_uri": "https://localhost:8080/",
          "height": 295
        }
      },
      "source": [
        "plt.plot(history.history['accuracy'])\n",
        "plt.plot(history.history['val_accuracy'])\n",
        "plt.title('Model accuracy')\n",
        "plt.ylabel('Accuracy')\n",
        "plt.xlabel('Epoch')\n",
        "plt.legend(['Train', 'Test'], loc='upper left')\n",
        "plt.show()"
      ],
      "execution_count": 0,
      "outputs": [
        {
          "output_type": "display_data",
          "data": {
            "image/png": "[encoded data removed]",
            "text/plain": [
              "<Figure size 432x288 with 1 Axes>"
            ]
          },
          "metadata": {
            "tags": [],
            "needs_background": "light"
          }
        }
      ]
    },
    {
      "cell_type": "code",
      "metadata": {
        "id": "yxmHnxL-isZh",
        "colab_type": "code",
        "outputId": "25e7302f-ff10-4dff-9103-26541fcfc620",
        "colab": {
          "base_uri": "https://localhost:8080/",
          "height": 295
        }
      },
      "source": [
        "plt.plot(history.history['loss'])\n",
        "plt.plot(history.history['val_loss'])\n",
        "plt.title('Model loss')\n",
        "plt.ylabel('Loss')\n",
        "plt.xlabel('Epoch')\n",
        "plt.legend(['Train', 'Test'], loc='upper left')\n",
        "plt.show()"
      ],
      "execution_count": 0,
      "outputs": [
        {
          "output_type": "display_data",
          "data": {
            "image/png": "[encoded data removed]",
            "text/plain": [
              "<Figure size 432x288 with 1 Axes>"
            ]
          },
          "metadata": {
            "tags": [],
            "needs_background": "light"
          }
        }
      ]
    },
    {
      "cell_type": "code",
      "metadata": {
        "id": "vAacWAUc6d-s",
        "colab_type": "code",
        "outputId": "f8f9e808-8e60-4470-9de8-745da29aca4d",
        "colab": {
          "base_uri": "https://localhost:8080/",
          "height": 34
        }
      },
      "source": [
        "score = model.evaluate([inputa2, inputb2, inputc2], y_test_, verbose=0)\n",
        "print(\"正確率為：\", score[1])"
      ],
      "execution_count": 0,
      "outputs": [
        {
          "output_type": "stream",
          "text": [
            "正確率為： 0.578829824924469\n"
          ],
          "name": "stdout"
        }
      ]
    },
    {
      "cell_type": "code",
      "metadata": {
        "id": "UWBVu0ct6d-u",
        "colab_type": "code",
        "outputId": "ecec99c1-3391-4612-eb20-efa574968824",
        "colab": {
          "base_uri": "https://localhost:8080/",
          "height": 185
        }
      },
      "source": [
        "model.predict([inputa2[10:20], inputb2[10:20], inputc2[10:20]])"
      ],
      "execution_count": 0,
      "outputs": [
        {
          "output_type": "execute_result",
          "data": {
            "text/plain": [
              "array([[0.6011807 , 0.39881933],\n",
              "       [0.41499698, 0.58500296],\n",
              "       [0.25093013, 0.74906987],\n",
              "       [0.78290385, 0.21709616],\n",
              "       [0.75963193, 0.24036805],\n",
              "       [0.5028762 , 0.4971238 ],\n",
              "       [0.4682201 , 0.5317799 ],\n",
              "       [0.30294803, 0.697052  ],\n",
              "       [0.84175104, 0.15824895],\n",
              "       [0.01234899, 0.987651  ]], dtype=float32)"
            ]
          },
          "metadata": {
            "tags": []
          },
          "execution_count": 24
        }
      ]
    },
    {
      "cell_type": "code",
      "metadata": {
        "id": "OHDWxwGl6d-v",
        "colab_type": "code",
        "outputId": "3b53612f-9a41-4c7f-ca8e-76775f7d5d85",
        "colab": {
          "base_uri": "https://localhost:8080/",
          "height": 34
        }
      },
      "source": [
        "list(y_train).count(0)/len(y_train)"
      ],
      "execution_count": 0,
      "outputs": [
        {
          "output_type": "execute_result",
          "data": {
            "text/plain": [
              "0.5128978224455611"
            ]
          },
          "metadata": {
            "tags": []
          },
          "execution_count": 25
        }
      ]
    },
    {
      "cell_type": "code",
      "metadata": {
        "id": "ptlo_1qp6d-x",
        "colab_type": "code",
        "colab": {}
      },
      "source": [
        "model.save('p_2.h5')"
      ],
      "execution_count": 0,
      "outputs": []
    },
    {
      "cell_type": "code",
      "metadata": {
        "id": "kovwcNzN6d-y",
        "colab_type": "code",
        "colab": {}
      },
      "source": [
        ""
      ],
      "execution_count": 0,
      "outputs": []
    }
  ]
}