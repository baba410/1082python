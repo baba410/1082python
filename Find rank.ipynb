{
 "cells": [
  {
   "cell_type": "code",
   "execution_count": 2,
   "metadata": {},
   "outputs": [],
   "source": [
    "%matplotlib inline\n",
    "import numpy as np\n",
    "import sympy as sp\n",
    "import matplotlib.pyplot as plt"
   ]
  },
  {
   "cell_type": "code",
   "execution_count": 3,
   "metadata": {},
   "outputs": [],
   "source": [
    "def std_basis(k, n):\n",
    "    b = [0]*n\n",
    "    b[k] = 1\n",
    "    return b"
   ]
  },
  {
   "cell_type": "code",
   "execution_count": 4,
   "metadata": {},
   "outputs": [],
   "source": [
    "def I_n(r, m, n):\n",
    "    assert r > 0\n",
    "    assert n >= r\n",
    "    assert m >= r\n",
    "    A = []\n",
    "    for i in range(r):\n",
    "        A.append(std_basis(i, n))\n",
    "    for i in range(m-r):\n",
    "        A.append([0]*n)\n",
    "    A = sp.Matrix(A)\n",
    "    return A"
   ]
  },
  {
   "cell_type": "code",
   "execution_count": 5,
   "metadata": {},
   "outputs": [
    {
     "data": {
      "text/latex": [
       "$\\displaystyle \\left[\\begin{matrix}1 & 0 & 0 & 0 & 0 & 0 & 0\\\\0 & 1 & 0 & 0 & 0 & 0 & 0\\\\0 & 0 & 1 & 0 & 0 & 0 & 0\\\\0 & 0 & 0 & 0 & 0 & 0 & 0\\\\0 & 0 & 0 & 0 & 0 & 0 & 0\\\\0 & 0 & 0 & 0 & 0 & 0 & 0\\end{matrix}\\right]$"
      ],
      "text/plain": [
       "Matrix([\n",
       "[1, 0, 0, 0, 0, 0, 0],\n",
       "[0, 1, 0, 0, 0, 0, 0],\n",
       "[0, 0, 1, 0, 0, 0, 0],\n",
       "[0, 0, 0, 0, 0, 0, 0],\n",
       "[0, 0, 0, 0, 0, 0, 0],\n",
       "[0, 0, 0, 0, 0, 0, 0]])"
      ]
     },
     "execution_count": 5,
     "metadata": {},
     "output_type": "execute_result"
    }
   ],
   "source": [
    "I_n(3, 6, 7)"
   ]
  },
  {
   "cell_type": "code",
   "execution_count": 6,
   "metadata": {},
   "outputs": [],
   "source": [
    "def row_operation(A):\n",
    "    m = A.shape[0]\n",
    "    oper = np.random.randint(3)\n",
    "    \n",
    "    if oper == 0:\n",
    "        #change row\n",
    "        i = np.random.randint(m)\n",
    "        j = np.random.randint(m)\n",
    "        a = A[i, :]\n",
    "        A[i, :] = A[j, :]\n",
    "        A[j, :] = a\n",
    "    \n",
    "    elif oper == 1:\n",
    "        #add one row to another\n",
    "        i = np.random.randint(m)\n",
    "        j = np.random.randint(m)\n",
    "        A[j, :] = A[j, :] + A[i, :]\n",
    "        \n",
    "    elif oper == 2:\n",
    "        #multiply one row\n",
    "        w = np.random.choice([-1,1,2], 1)[0]\n",
    "        i = np.random.randint(m)\n",
    "        A[i, :] = A[i, :]*w\n",
    "        \n",
    "    return A"
   ]
  },
  {
   "cell_type": "code",
   "execution_count": 7,
   "metadata": {},
   "outputs": [],
   "source": [
    "def col_operation(A):\n",
    "    n = A.shape[1]\n",
    "    oper = np.random.randint(3)\n",
    "    \n",
    "    if oper == 0:\n",
    "        #change column\n",
    "        i = np.random.randint(n)\n",
    "        j = np.random.randint(n)\n",
    "        a = A[:, i]\n",
    "        A[:, i] = A[:, j]\n",
    "        A[:, j] = a\n",
    "    \n",
    "    elif oper == 1:\n",
    "        #add one column to another\n",
    "        i = np.random.randint(n)\n",
    "        j = np.random.randint(n)\n",
    "        A[:, j] = A[:, j] + A[:, i]\n",
    "        \n",
    "    elif oper == 2:\n",
    "        #multiply one column\n",
    "        w = np.random.choice([-1,1,2], 1)[0]\n",
    "        i = np.random.randint(n)\n",
    "        A[:, i] = A[:, i]*w\n",
    "        \n",
    "    return A"
   ]
  },
  {
   "cell_type": "code",
   "execution_count": 8,
   "metadata": {},
   "outputs": [],
   "source": [
    "def span_Matrix(r, m, n):\n",
    "    A = I_n(r, m, n)\n",
    "    Maxi, mini = (60, -60)\n",
    "    while True:  \n",
    "        #check range\n",
    "        for i in A:\n",
    "            if i >Maxi or i<mini:\n",
    "                return A\n",
    "            \n",
    "        row_operation(A)\n",
    "        col_operation(A)   "
   ]
  },
  {
   "cell_type": "code",
   "execution_count": 10,
   "metadata": {},
   "outputs": [
    {
     "data": {
      "text/latex": [
       "$\\displaystyle \\left[\\begin{array}{ccccccccccccc}-8 & 0 & -4 & 0 & 0 & -8 & 0 & 2 & 0 & -8 & 0 & 0 & -24\\\\-4 & 0 & -2 & 1 & 6 & -4 & 0 & 2 & 0 & -4 & -1 & 4 & -8\\\\-2 & 0 & -2 & -1 & -6 & -2 & 0 & 0 & 0 & -2 & 1 & -4 & -12\\\\-6 & 0 & -2 & 1 & 6 & -6 & 0 & 2 & 0 & -6 & -1 & 4 & -12\\\\12 & 16 & -28 & -18 & 84 & 12 & 32 & 28 & 0 & 12 & -14 & 56 & 24\\\\0 & 0 & 0 & 0 & 0 & 0 & 0 & 3 & 0 & 0 & 0 & 12 & 8\\\\2 & 0 & 0 & 0 & 0 & 2 & 0 & 0 & 0 & 2 & 0 & 0 & 4\\\\-12 & 0 & -6 & 2 & 12 & -12 & 0 & 5 & -2 & -12 & -2 & 10 & -24\\\\-8 & 0 & 0 & 2 & -12 & -8 & -4 & -2 & -4 & -8 & 2 & -4 & -16\\\\-4 & 0 & -4 & 2 & 12 & -4 & 0 & 5 & 0 & -4 & -2 & 12 & -4\\\\-4 & 0 & -4 & 2 & 12 & -4 & 0 & 4 & 0 & -4 & -2 & 8 & -8\\end{array}\\right]$"
      ],
      "text/plain": [
       "Matrix([\n",
       "[ -8,  0,  -4,   0,   0,  -8,  0,  2,  0,  -8,   0,  0, -24],\n",
       "[ -4,  0,  -2,   1,   6,  -4,  0,  2,  0,  -4,  -1,  4,  -8],\n",
       "[ -2,  0,  -2,  -1,  -6,  -2,  0,  0,  0,  -2,   1, -4, -12],\n",
       "[ -6,  0,  -2,   1,   6,  -6,  0,  2,  0,  -6,  -1,  4, -12],\n",
       "[ 12, 16, -28, -18,  84,  12, 32, 28,  0,  12, -14, 56,  24],\n",
       "[  0,  0,   0,   0,   0,   0,  0,  3,  0,   0,   0, 12,   8],\n",
       "[  2,  0,   0,   0,   0,   2,  0,  0,  0,   2,   0,  0,   4],\n",
       "[-12,  0,  -6,   2,  12, -12,  0,  5, -2, -12,  -2, 10, -24],\n",
       "[ -8,  0,   0,   2, -12,  -8, -4, -2, -4,  -8,   2, -4, -16],\n",
       "[ -4,  0,  -4,   2,  12,  -4,  0,  5,  0,  -4,  -2, 12,  -4],\n",
       "[ -4,  0,  -4,   2,  12,  -4,  0,  4,  0,  -4,  -2,  8,  -8]])"
      ]
     },
     "execution_count": 10,
     "metadata": {},
     "output_type": "execute_result"
    }
   ],
   "source": [
    "span_Matrix(8, 11, 13)"
   ]
  },
  {
   "cell_type": "code",
   "execution_count": 11,
   "metadata": {},
   "outputs": [
    {
     "name": "stdout",
     "output_type": "stream",
     "text": [
      "輸入rank m n:\n",
      "7 13 12\n"
     ]
    },
    {
     "data": {
      "text/latex": [
       "$\\displaystyle \\left[\\begin{array}{cccccccccccc}16 & -5 & -40 & -1 & -4 & 0 & -16 & -16 & -16 & 14 & -44 & -40\\\\4 & -5 & -10 & -1 & -4 & -1 & -4 & -4 & -4 & 2 & -14 & -10\\\\0 & 5 & 0 & 1 & 0 & 0 & 0 & 0 & 0 & 2 & 1 & 0\\\\0 & 0 & 0 & 0 & 0 & 0 & 0 & 0 & 0 & 0 & 4 & 0\\\\-6 & -8 & 14 & 0 & 4 & 1 & 4 & 6 & 6 & -6 & 18 & 14\\\\-16 & -16 & 38 & 0 & 4 & 1 & 12 & 16 & 16 & -18 & 42 & 38\\\\16 & 0 & -40 & 0 & -4 & -2 & -16 & -16 & -16 & 16 & -41 & -40\\\\-2 & -8 & 4 & 0 & 0 & 0 & 0 & 2 & 2 & -2 & 4 & 4\\\\0 & 0 & 0 & 0 & 0 & 0 & 0 & 0 & 0 & 0 & 1 & 0\\\\0 & -10 & 0 & -2 & 0 & 0 & 0 & 0 & 0 & -4 & -1 & 0\\\\24 & -10 & -60 & -2 & -8 & 0 & -24 & -24 & -24 & 20 & -68 & -60\\\\-4 & 5 & 10 & 1 & 4 & 1 & 4 & 4 & 4 & -2 & 15 & 10\\\\0 & 0 & 0 & 0 & 0 & 0 & 0 & 0 & 0 & 0 & 0 & 0\\end{array}\\right]$"
      ],
      "text/plain": [
       "Matrix([\n",
       "[ 16,  -5, -40, -1, -4,  0, -16, -16, -16,  14, -44, -40],\n",
       "[  4,  -5, -10, -1, -4, -1,  -4,  -4,  -4,   2, -14, -10],\n",
       "[  0,   5,   0,  1,  0,  0,   0,   0,   0,   2,   1,   0],\n",
       "[  0,   0,   0,  0,  0,  0,   0,   0,   0,   0,   4,   0],\n",
       "[ -6,  -8,  14,  0,  4,  1,   4,   6,   6,  -6,  18,  14],\n",
       "[-16, -16,  38,  0,  4,  1,  12,  16,  16, -18,  42,  38],\n",
       "[ 16,   0, -40,  0, -4, -2, -16, -16, -16,  16, -41, -40],\n",
       "[ -2,  -8,   4,  0,  0,  0,   0,   2,   2,  -2,   4,   4],\n",
       "[  0,   0,   0,  0,  0,  0,   0,   0,   0,   0,   1,   0],\n",
       "[  0, -10,   0, -2,  0,  0,   0,   0,   0,  -4,  -1,   0],\n",
       "[ 24, -10, -60, -2, -8,  0, -24, -24, -24,  20, -68, -60],\n",
       "[ -4,   5,  10,  1,  4,  1,   4,   4,   4,  -2,  15,  10],\n",
       "[  0,   0,   0,  0,  0,  0,   0,   0,   0,   0,   0,   0]])"
      ]
     },
     "execution_count": 11,
     "metadata": {},
     "output_type": "execute_result"
    }
   ],
   "source": [
    "r, m, n = list(map(int, input('輸入rank m n:\\n').split(' ')))\n",
    "A = span_Matrix(r, m, n)\n",
    "A"
   ]
  },
  {
   "cell_type": "code",
   "execution_count": 12,
   "metadata": {},
   "outputs": [
    {
     "data": {
      "text/plain": [
       "7"
      ]
     },
     "execution_count": 12,
     "metadata": {},
     "output_type": "execute_result"
    }
   ],
   "source": [
    "A.rank()"
   ]
  },
  {
   "cell_type": "code",
   "execution_count": null,
   "metadata": {},
   "outputs": [],
   "source": []
  }
 ],
 "metadata": {
  "kernelspec": {
   "display_name": "Python 3",
   "language": "python",
   "name": "python3"
  },
  "language_info": {
   "codemirror_mode": {
    "name": "ipython",
    "version": 3
   },
   "file_extension": ".py",
   "mimetype": "text/x-python",
   "name": "python",
   "nbconvert_exporter": "python",
   "pygments_lexer": "ipython3",
   "version": "3.7.3"
  }
 },
 "nbformat": 4,
 "nbformat_minor": 2
}
